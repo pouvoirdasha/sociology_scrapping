{
 "cells": [
  {
   "cell_type": "markdown",
   "metadata": {},
   "source": [
    "Notebook to build a graph (users, posts). A user is linked to a post $\\iff$ this user has interacted with (commented) the post.\n",
    "\n",
    "- could be interesting to see \"left leaning\" and \"right leaning posts\", and colorize the sentiment of people linked to these posts, to see if there is a difference.\n",
    "- link to a post bigger if more interactions"
   ]
  },
  {
   "cell_type": "code",
   "execution_count": 2,
   "metadata": {},
   "outputs": [],
   "source": [
    "repo_root = \"../\"\n",
    "import sys\n",
    "sys.path.append(repo_root)"
   ]
  },
  {
   "cell_type": "code",
   "execution_count": 3,
   "metadata": {},
   "outputs": [],
   "source": [
    "import pandas as pd\n",
    "import networkx as nx\n",
    "from datetime import datetime\n",
    "from parse_csv_files import parse_tiktok_comments"
   ]
  },
  {
   "cell_type": "markdown",
   "metadata": {},
   "source": [
    "Look how many people have interacted with multiple posts on TikTok:"
   ]
  },
  {
   "cell_type": "code",
   "execution_count": 5,
   "metadata": {},
   "outputs": [],
   "source": [
    "#METTRE A JOUR AVEC LES NOUVELLES COLONNES !!! (faut que je modifie les read_csv qui sont encore sur l'ancien, d'ailleurs)\n",
    "\n",
    "filename = \"../results/TikTok-comments_18-11-2024_12h46.csv\"\n",
    "tiktok = parse_tiktok_comments(filename)"
   ]
  },
  {
   "cell_type": "code",
   "execution_count": 23,
   "metadata": {},
   "outputs": [
    {
     "data": {
      "text/plain": [
       "Comment Number (ID)              int64\n",
       "Nickname                        object\n",
       "User @                          object\n",
       "User URL                        object\n",
       "Comment Text                    object\n",
       "Time                    datetime64[ns]\n",
       "Likes                           object\n",
       "Profile Picture URL             object\n",
       "Is 2nd Level Comment            object\n",
       "User Replied To                 object\n",
       "Number of Replies                int64\n",
       "post_url                        object\n",
       "shown_comments                   int64\n",
       "scraped_comments                 int64\n",
       "difference                       int64\n",
       "publisher                       object\n",
       "post_likes                      object\n",
       "post_shares                     object\n",
       "post_description                object\n",
       "date_scraped                    object\n",
       "dtype: object"
      ]
     },
     "execution_count": 23,
     "metadata": {},
     "output_type": "execute_result"
    }
   ],
   "source": [
    "tiktok.dtypes"
   ]
  },
  {
   "cell_type": "code",
   "execution_count": 6,
   "metadata": {},
   "outputs": [],
   "source": [
    "interactions = tiktok[[\"User @\",\"post_url\"]]"
   ]
  },
  {
   "cell_type": "code",
   "execution_count": 7,
   "metadata": {},
   "outputs": [
    {
     "data": {
      "text/html": [
       "<div>\n",
       "<style scoped>\n",
       "    .dataframe tbody tr th:only-of-type {\n",
       "        vertical-align: middle;\n",
       "    }\n",
       "\n",
       "    .dataframe tbody tr th {\n",
       "        vertical-align: top;\n",
       "    }\n",
       "\n",
       "    .dataframe thead th {\n",
       "        text-align: right;\n",
       "    }\n",
       "</style>\n",
       "<table border=\"1\" class=\"dataframe\">\n",
       "  <thead>\n",
       "    <tr style=\"text-align: right;\">\n",
       "      <th></th>\n",
       "      <th>User @</th>\n",
       "      <th>post_url</th>\n",
       "    </tr>\n",
       "  </thead>\n",
       "  <tbody>\n",
       "    <tr>\n",
       "      <th>0</th>\n",
       "      <td>johnm319</td>\n",
       "      <td>https://www.tiktok.com/@jaketapper/video/73945...</td>\n",
       "    </tr>\n",
       "    <tr>\n",
       "      <th>1</th>\n",
       "      <td>shhhleb</td>\n",
       "      <td>https://www.tiktok.com/@jaketapper/video/73945...</td>\n",
       "    </tr>\n",
       "    <tr>\n",
       "      <th>2</th>\n",
       "      <td>carolinetvardy6</td>\n",
       "      <td>https://www.tiktok.com/@jaketapper/video/73945...</td>\n",
       "    </tr>\n",
       "    <tr>\n",
       "      <th>3</th>\n",
       "      <td>sofiam444_</td>\n",
       "      <td>https://www.tiktok.com/@jaketapper/video/73945...</td>\n",
       "    </tr>\n",
       "    <tr>\n",
       "      <th>4</th>\n",
       "      <td>meagan.with.an.a</td>\n",
       "      <td>https://www.tiktok.com/@jaketapper/video/73945...</td>\n",
       "    </tr>\n",
       "    <tr>\n",
       "      <th>5</th>\n",
       "      <td>kelbelcour</td>\n",
       "      <td>https://www.tiktok.com/@jaketapper/video/73945...</td>\n",
       "    </tr>\n",
       "    <tr>\n",
       "      <th>6</th>\n",
       "      <td>960aeiididididjdjcjfi</td>\n",
       "      <td>https://www.tiktok.com/@jaketapper/video/73945...</td>\n",
       "    </tr>\n",
       "    <tr>\n",
       "      <th>7</th>\n",
       "      <td>be.erika</td>\n",
       "      <td>https://www.tiktok.com/@jaketapper/video/73945...</td>\n",
       "    </tr>\n",
       "    <tr>\n",
       "      <th>8</th>\n",
       "      <td>rejectedun1corn</td>\n",
       "      <td>https://www.tiktok.com/@jaketapper/video/73945...</td>\n",
       "    </tr>\n",
       "    <tr>\n",
       "      <th>9</th>\n",
       "      <td>npawlic</td>\n",
       "      <td>https://www.tiktok.com/@jaketapper/video/73945...</td>\n",
       "    </tr>\n",
       "  </tbody>\n",
       "</table>\n",
       "</div>"
      ],
      "text/plain": [
       "                  User @                                           post_url\n",
       "0               johnm319  https://www.tiktok.com/@jaketapper/video/73945...\n",
       "1                shhhleb  https://www.tiktok.com/@jaketapper/video/73945...\n",
       "2        carolinetvardy6  https://www.tiktok.com/@jaketapper/video/73945...\n",
       "3             sofiam444_  https://www.tiktok.com/@jaketapper/video/73945...\n",
       "4       meagan.with.an.a  https://www.tiktok.com/@jaketapper/video/73945...\n",
       "5             kelbelcour  https://www.tiktok.com/@jaketapper/video/73945...\n",
       "6  960aeiididididjdjcjfi  https://www.tiktok.com/@jaketapper/video/73945...\n",
       "7               be.erika  https://www.tiktok.com/@jaketapper/video/73945...\n",
       "8        rejectedun1corn  https://www.tiktok.com/@jaketapper/video/73945...\n",
       "9                npawlic  https://www.tiktok.com/@jaketapper/video/73945..."
      ]
     },
     "execution_count": 7,
     "metadata": {},
     "output_type": "execute_result"
    }
   ],
   "source": [
    "interactions.head(10)"
   ]
  },
  {
   "cell_type": "code",
   "execution_count": 11,
   "metadata": {},
   "outputs": [
    {
     "data": {
      "text/html": [
       "<div>\n",
       "<style scoped>\n",
       "    .dataframe tbody tr th:only-of-type {\n",
       "        vertical-align: middle;\n",
       "    }\n",
       "\n",
       "    .dataframe tbody tr th {\n",
       "        vertical-align: top;\n",
       "    }\n",
       "\n",
       "    .dataframe thead th {\n",
       "        text-align: right;\n",
       "    }\n",
       "</style>\n",
       "<table border=\"1\" class=\"dataframe\">\n",
       "  <thead>\n",
       "    <tr style=\"text-align: right;\">\n",
       "      <th></th>\n",
       "      <th>User @</th>\n",
       "      <th>post_url</th>\n",
       "      <th>nb_interactions_on_post</th>\n",
       "    </tr>\n",
       "  </thead>\n",
       "  <tbody>\n",
       "    <tr>\n",
       "      <th>0</th>\n",
       "      <td>.....toasty</td>\n",
       "      <td>https://www.tiktok.com/@jaketapper/video/73945...</td>\n",
       "      <td>1</td>\n",
       "    </tr>\n",
       "    <tr>\n",
       "      <th>9392</th>\n",
       "      <td>mollyspamacount</td>\n",
       "      <td>https://www.tiktok.com/@reals.nas/video/740484...</td>\n",
       "      <td>1</td>\n",
       "    </tr>\n",
       "    <tr>\n",
       "      <th>9393</th>\n",
       "      <td>mollyy_jones</td>\n",
       "      <td>https://www.tiktok.com/@reals.nas/video/740484...</td>\n",
       "      <td>1</td>\n",
       "    </tr>\n",
       "    <tr>\n",
       "      <th>9395</th>\n",
       "      <td>mom.4.lisa.wellman</td>\n",
       "      <td>https://www.tiktok.com/@kamalahq/photo/7394598...</td>\n",
       "      <td>1</td>\n",
       "    </tr>\n",
       "    <tr>\n",
       "      <th>9396</th>\n",
       "      <td>mom.on.the.move</td>\n",
       "      <td>https://www.tiktok.com/@athanchekas/video/7394...</td>\n",
       "      <td>1</td>\n",
       "    </tr>\n",
       "    <tr>\n",
       "      <th>...</th>\n",
       "      <td>...</td>\n",
       "      <td>...</td>\n",
       "      <td>...</td>\n",
       "    </tr>\n",
       "    <tr>\n",
       "      <th>11034</th>\n",
       "      <td>reals.nas</td>\n",
       "      <td>https://www.tiktok.com/@reals.nas/video/740484...</td>\n",
       "      <td>7</td>\n",
       "    </tr>\n",
       "    <tr>\n",
       "      <th>3643</th>\n",
       "      <td>despicablearts_</td>\n",
       "      <td>https://www.tiktok.com/@mebbytoks/video/739415...</td>\n",
       "      <td>8</td>\n",
       "    </tr>\n",
       "    <tr>\n",
       "      <th>5619</th>\n",
       "      <td>homoemo</td>\n",
       "      <td>https://www.tiktok.com/@shitindiedisco/video/7...</td>\n",
       "      <td>10</td>\n",
       "    </tr>\n",
       "    <tr>\n",
       "      <th>11637</th>\n",
       "      <td>schfrsgf</td>\n",
       "      <td>https://www.tiktok.com/@schfrsgf/video/7395642...</td>\n",
       "      <td>14</td>\n",
       "    </tr>\n",
       "    <tr>\n",
       "      <th>4209</th>\n",
       "      <td>em_august</td>\n",
       "      <td>https://www.tiktok.com/@em_august/video/739469...</td>\n",
       "      <td>16</td>\n",
       "    </tr>\n",
       "  </tbody>\n",
       "</table>\n",
       "<p>14805 rows × 3 columns</p>\n",
       "</div>"
      ],
      "text/plain": [
       "                   User @                                           post_url  \\\n",
       "0             .....toasty  https://www.tiktok.com/@jaketapper/video/73945...   \n",
       "9392      mollyspamacount  https://www.tiktok.com/@reals.nas/video/740484...   \n",
       "9393         mollyy_jones  https://www.tiktok.com/@reals.nas/video/740484...   \n",
       "9395   mom.4.lisa.wellman  https://www.tiktok.com/@kamalahq/photo/7394598...   \n",
       "9396      mom.on.the.move  https://www.tiktok.com/@athanchekas/video/7394...   \n",
       "...                   ...                                                ...   \n",
       "11034           reals.nas  https://www.tiktok.com/@reals.nas/video/740484...   \n",
       "3643      despicablearts_  https://www.tiktok.com/@mebbytoks/video/739415...   \n",
       "5619              homoemo  https://www.tiktok.com/@shitindiedisco/video/7...   \n",
       "11637            schfrsgf  https://www.tiktok.com/@schfrsgf/video/7395642...   \n",
       "4209            em_august  https://www.tiktok.com/@em_august/video/739469...   \n",
       "\n",
       "       nb_interactions_on_post  \n",
       "0                            1  \n",
       "9392                         1  \n",
       "9393                         1  \n",
       "9395                         1  \n",
       "9396                         1  \n",
       "...                        ...  \n",
       "11034                        7  \n",
       "3643                         8  \n",
       "5619                        10  \n",
       "11637                       14  \n",
       "4209                        16  \n",
       "\n",
       "[14805 rows x 3 columns]"
      ]
     },
     "execution_count": 11,
     "metadata": {},
     "output_type": "execute_result"
    }
   ],
   "source": [
    "interactions.groupby(['User @', 'post_url'], as_index = False).agg(nb_interactions_on_post = (\"post_url\", 'count')).sort_values(by=\"nb_interactions_on_post\")"
   ]
  },
  {
   "cell_type": "code",
   "execution_count": 19,
   "metadata": {},
   "outputs": [],
   "source": [
    "#tiktok[tiktok['User @'] == \"homoemo\"]#[\"post_url\"].iloc[0]"
   ]
  },
  {
   "cell_type": "markdown",
   "metadata": {},
   "source": [
    "Pour tiktok, c'est un peu nul: soit ce sont des créateurs qui répondent sous leurs propres posts, soit ce sont des gens qui discutente en commentaires.... Mais très peu de gens qui commentent effectivement sur 2 ou + posts tiktok."
   ]
  },
  {
   "cell_type": "markdown",
   "metadata": {},
   "source": [
    "# YouTube\n",
    "\n",
    "Peut-être plus intéressant pour cela. D'autant plus que l'API permet ensuite d'aller chercher tous les comms de chaque utilisateur."
   ]
  },
  {
   "cell_type": "code",
   "execution_count": 21,
   "metadata": {},
   "outputs": [],
   "source": [
    "youtube = pd.read_csv(\"../results/youtube_comments.csv\")\n"
   ]
  },
  {
   "cell_type": "code",
   "execution_count": 25,
   "metadata": {},
   "outputs": [],
   "source": [
    "yt_interactions = youtube[[\"Username\", \"VideoID\"]]\n",
    "interactions_per_video = yt_interactions.groupby([\"Username\", \"VideoID\"], as_index = False).agg(nb_interactions_on_post = (\"VideoID\", 'count')).sort_values(by=\"nb_interactions_on_post\")"
   ]
  },
  {
   "cell_type": "code",
   "execution_count": 28,
   "metadata": {},
   "outputs": [],
   "source": [
    "noname = interactions_per_video.groupby([\"Username\"], as_index = False).agg(nb_interacted_videos = (\"VideoID\", 'count')).sort_values(by=\"nb_interacted_videos\")"
   ]
  },
  {
   "cell_type": "code",
   "execution_count": 30,
   "metadata": {},
   "outputs": [
    {
     "data": {
      "text/html": [
       "<div>\n",
       "<style scoped>\n",
       "    .dataframe tbody tr th:only-of-type {\n",
       "        vertical-align: middle;\n",
       "    }\n",
       "\n",
       "    .dataframe tbody tr th {\n",
       "        vertical-align: top;\n",
       "    }\n",
       "\n",
       "    .dataframe thead th {\n",
       "        text-align: right;\n",
       "    }\n",
       "</style>\n",
       "<table border=\"1\" class=\"dataframe\">\n",
       "  <thead>\n",
       "    <tr style=\"text-align: right;\">\n",
       "      <th></th>\n",
       "      <th>nb_interacted_videos</th>\n",
       "    </tr>\n",
       "  </thead>\n",
       "  <tbody>\n",
       "    <tr>\n",
       "      <th>count</th>\n",
       "      <td>141.000000</td>\n",
       "    </tr>\n",
       "    <tr>\n",
       "      <th>mean</th>\n",
       "      <td>2.092199</td>\n",
       "    </tr>\n",
       "    <tr>\n",
       "      <th>std</th>\n",
       "      <td>0.335957</td>\n",
       "    </tr>\n",
       "    <tr>\n",
       "      <th>min</th>\n",
       "      <td>2.000000</td>\n",
       "    </tr>\n",
       "    <tr>\n",
       "      <th>25%</th>\n",
       "      <td>2.000000</td>\n",
       "    </tr>\n",
       "    <tr>\n",
       "      <th>50%</th>\n",
       "      <td>2.000000</td>\n",
       "    </tr>\n",
       "    <tr>\n",
       "      <th>75%</th>\n",
       "      <td>2.000000</td>\n",
       "    </tr>\n",
       "    <tr>\n",
       "      <th>max</th>\n",
       "      <td>4.000000</td>\n",
       "    </tr>\n",
       "  </tbody>\n",
       "</table>\n",
       "</div>"
      ],
      "text/plain": [
       "       nb_interacted_videos\n",
       "count            141.000000\n",
       "mean               2.092199\n",
       "std                0.335957\n",
       "min                2.000000\n",
       "25%                2.000000\n",
       "50%                2.000000\n",
       "75%                2.000000\n",
       "max                4.000000"
      ]
     },
     "execution_count": 30,
     "metadata": {},
     "output_type": "execute_result"
    }
   ],
   "source": [
    "noname[noname[\"nb_interacted_videos\"] > 1].describe() \n",
    "# 141 personnes ont commenté sur au moins 2 vidéos.\n",
    "# En moyenne 2 posts distincts"
   ]
  },
  {
   "cell_type": "markdown",
   "metadata": {},
   "source": [
    "# Let's build a graph !"
   ]
  },
  {
   "cell_type": "code",
   "execution_count": 41,
   "metadata": {},
   "outputs": [],
   "source": [
    "d = {} #user:post dictionary.\n",
    "\n",
    "edges={} #user,post:nb of interactions\n",
    "\n",
    "for i,el in yt_interactions.iterrows():\n",
    "    username, videoID = el[\"Username\"], el[\"VideoID\"]\n",
    "\n",
    "    edges[username,videoID] = edges.get((username,videoID), 0) + 1\n",
    "\n",
    "\n",
    "#edges\n",
    "\n",
    "G = nx.Graph()\n",
    "G.add_edges_from(edges)"
   ]
  },
  {
   "cell_type": "code",
   "execution_count": 43,
   "metadata": {},
   "outputs": [
    {
     "data": {
      "image/png": "[encoded data removed]",
      "text/plain": [
       "<Figure size 640x480 with 1 Axes>"
      ]
     },
     "metadata": {},
     "output_type": "display_data"
    }
   ],
   "source": [
    "import matplotlib.pyplot as plt\n",
    "nx.draw(G, with_labels=False, font_weight='bold')"
   ]
  },
  {
   "cell_type": "code",
   "execution_count": null,
   "metadata": {},
   "outputs": [],
   "source": []
  },
  {
   "cell_type": "code",
   "execution_count": null,
   "metadata": {},
   "outputs": [],
   "source": []
  }
 ],
 "metadata": {
  "kernelspec": {
   "display_name": "Python 3.12.7 ('venv')",
   "language": "python",
   "name": "python3"
  },
  "language_info": {
   "codemirror_mode": {
    "name": "ipython",
    "version": 3
   },
   "file_extension": ".py",
   "mimetype": "text/x-python",
   "name": "python",
   "nbconvert_exporter": "python",
   "pygments_lexer": "ipython3",
   "version": "3.12.7"
  },
  "orig_nbformat": 4,
  "vscode": {
   "interpreter": {
    "hash": "4dff6d5a207db2a0d221f3b1028f1d86f245e11d9b0d66763e682d9fa3263219"
   }
  }
 },
 "nbformat": 4,
 "nbformat_minor": 2
}
