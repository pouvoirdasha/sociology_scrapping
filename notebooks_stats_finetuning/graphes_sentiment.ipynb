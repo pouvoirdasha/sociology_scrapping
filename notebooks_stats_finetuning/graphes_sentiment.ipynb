{
 "cells": [
  {
   "cell_type": "code",
   "execution_count": 1,
   "metadata": {},
   "outputs": [],
   "source": [
    "repo_root = \"../\"\n",
    "import sys\n",
    "sys.path.append(repo_root)"
   ]
  },
  {
   "cell_type": "code",
   "execution_count": 2,
   "metadata": {},
   "outputs": [],
   "source": [
    "#imports\n",
    "import pandas as pd \n",
    "import numpy as np \n",
    "import matplotlib.pyplot as plt \n",
    "import matplotlib.dates as mdates\n",
    "import seaborn as sns\n",
    "from datetime import datetime"
   ]
  },
  {
   "cell_type": "code",
   "execution_count": 3,
   "metadata": {},
   "outputs": [],
   "source": [
    "base_color = \"#8ACE00\"\n",
    "brat_color = sns.dark_palette(base_color, n_colors=2)[1]\n",
    "\n",
    "#colors for sentiment:\n",
    "negative_shade = sns.dark_palette(base_color, n_colors=3)[0]\n",
    "neutral_shade = sns.light_palette(base_color, n_colors=5)[1]\n",
    "positive_shade =  sns.dark_palette(base_color, n_colors=3)[2]"
   ]
  },
  {
   "cell_type": "code",
   "execution_count": 4,
   "metadata": {},
   "outputs": [],
   "source": [
    "#data imports \n",
    "filename = \"../results/YouTube-with-sentiments_24-11-2024_15h52.csv\"\n",
    "youtube = pd.read_csv(filename)\n",
    "#youtube.head()\n",
    "\n",
    "filename = \"../results/TikTok-with-sentiments_24-11-2024_15h12.csv\"\n",
    "tiktok = pd.read_csv(filename)\n",
    "\n",
    "filename = \"../results/Reddit-with-sentiments_24-11-2024_15h12.csv\"\n",
    "reddit = pd.read_csv(filename)"
   ]
  },
  {
   "cell_type": "code",
   "execution_count": 5,
   "metadata": {},
   "outputs": [],
   "source": [
    "def byebyelestrucsinutiles(x):\n",
    "    return x[:10]\n",
    "\n",
    "youtube[\"Timestamp\"] = youtube[\"Timestamp\"].apply(byebyelestrucsinutiles)"
   ]
  },
  {
   "cell_type": "markdown",
   "metadata": {},
   "source": [
    "# Threshold"
   ]
  },
  {
   "cell_type": "code",
   "execution_count": 14,
   "metadata": {},
   "outputs": [
    {
     "data": {
      "text/html": [
       "<div>\n",
       "<style scoped>\n",
       "    .dataframe tbody tr th:only-of-type {\n",
       "        vertical-align: middle;\n",
       "    }\n",
       "\n",
       "    .dataframe tbody tr th {\n",
       "        vertical-align: top;\n",
       "    }\n",
       "\n",
       "    .dataframe thead th {\n",
       "        text-align: right;\n",
       "    }\n",
       "</style>\n",
       "<table border=\"1\" class=\"dataframe\">\n",
       "  <thead>\n",
       "    <tr style=\"text-align: right;\">\n",
       "      <th></th>\n",
       "      <th>Unnamed: 0</th>\n",
       "      <th>Comment Number (ID)</th>\n",
       "      <th>Nickname</th>\n",
       "      <th>User @</th>\n",
       "      <th>User URL</th>\n",
       "      <th>Comment Text</th>\n",
       "      <th>Time</th>\n",
       "      <th>Likes</th>\n",
       "      <th>Profile Picture URL</th>\n",
       "      <th>Is 2nd Level Comment</th>\n",
       "      <th>...</th>\n",
       "      <th>scraped_comments</th>\n",
       "      <th>difference</th>\n",
       "      <th>publisher</th>\n",
       "      <th>post_likes</th>\n",
       "      <th>post_shares</th>\n",
       "      <th>post_description</th>\n",
       "      <th>date_scraped</th>\n",
       "      <th>positive</th>\n",
       "      <th>neutral</th>\n",
       "      <th>negative</th>\n",
       "    </tr>\n",
       "  </thead>\n",
       "  <tbody>\n",
       "    <tr>\n",
       "      <th>0</th>\n",
       "      <td>0</td>\n",
       "      <td>1</td>\n",
       "      <td>John Mac</td>\n",
       "      <td>johnm319</td>\n",
       "      <td>https://www.tiktok.com/@johnm319</td>\n",
       "      <td>Chartreuse pls 😭😭😭</td>\n",
       "      <td>2024-07-24</td>\n",
       "      <td>5</td>\n",
       "      <td>https://p16-sign-va.tiktokcdn.com/tos-maliva-a...</td>\n",
       "      <td>No</td>\n",
       "      <td>...</td>\n",
       "      <td>758</td>\n",
       "      <td>477</td>\n",
       "      <td>jaketapper</td>\n",
       "      <td>94.3K</td>\n",
       "      <td>4913</td>\n",
       "      <td>Crée des effets TikTok, reçois une récompense</td>\n",
       "      <td>2024-11-10</td>\n",
       "      <td>False</td>\n",
       "      <td>False</td>\n",
       "      <td>False</td>\n",
       "    </tr>\n",
       "    <tr>\n",
       "      <th>1</th>\n",
       "      <td>1</td>\n",
       "      <td>1</td>\n",
       "      <td>John Mac</td>\n",
       "      <td>johnm319</td>\n",
       "      <td>https://www.tiktok.com/@johnm319</td>\n",
       "      <td>Chartreuse pls 😭😭😭</td>\n",
       "      <td>2024-07-24</td>\n",
       "      <td>5</td>\n",
       "      <td>https://p16-sign-va.tiktokcdn.com/tos-maliva-a...</td>\n",
       "      <td>No</td>\n",
       "      <td>...</td>\n",
       "      <td>758</td>\n",
       "      <td>477</td>\n",
       "      <td>jaketapper</td>\n",
       "      <td>94.3K</td>\n",
       "      <td>4913</td>\n",
       "      <td>Crée des effets TikTok, reçois une récompense</td>\n",
       "      <td>2024-11-10</td>\n",
       "      <td>False</td>\n",
       "      <td>False</td>\n",
       "      <td>False</td>\n",
       "    </tr>\n",
       "    <tr>\n",
       "      <th>2</th>\n",
       "      <td>2</td>\n",
       "      <td>1</td>\n",
       "      <td>John Mac</td>\n",
       "      <td>johnm319</td>\n",
       "      <td>https://www.tiktok.com/@johnm319</td>\n",
       "      <td>Chartreuse pls 😭😭😭</td>\n",
       "      <td>2024-07-24</td>\n",
       "      <td>5</td>\n",
       "      <td>https://p16-sign-va.tiktokcdn.com/tos-maliva-a...</td>\n",
       "      <td>No</td>\n",
       "      <td>...</td>\n",
       "      <td>758</td>\n",
       "      <td>477</td>\n",
       "      <td>jaketapper</td>\n",
       "      <td>94.3K</td>\n",
       "      <td>4913</td>\n",
       "      <td>Crée des effets TikTok, reçois une récompense</td>\n",
       "      <td>2024-11-10</td>\n",
       "      <td>False</td>\n",
       "      <td>False</td>\n",
       "      <td>False</td>\n",
       "    </tr>\n",
       "    <tr>\n",
       "      <th>3</th>\n",
       "      <td>3</td>\n",
       "      <td>2</td>\n",
       "      <td>bbbo</td>\n",
       "      <td>shhhleb</td>\n",
       "      <td>https://www.tiktok.com/@shhhleb</td>\n",
       "      <td>watching them explain. I can’t breathe.</td>\n",
       "      <td>2024-07-23</td>\n",
       "      <td>21.7K</td>\n",
       "      <td>https://p16-sign-va.tiktokcdn.com/musically-ma...</td>\n",
       "      <td>No</td>\n",
       "      <td>...</td>\n",
       "      <td>758</td>\n",
       "      <td>477</td>\n",
       "      <td>jaketapper</td>\n",
       "      <td>94.3K</td>\n",
       "      <td>4913</td>\n",
       "      <td>Crée des effets TikTok, reçois une récompense</td>\n",
       "      <td>2024-11-10</td>\n",
       "      <td>False</td>\n",
       "      <td>False</td>\n",
       "      <td>False</td>\n",
       "    </tr>\n",
       "    <tr>\n",
       "      <th>4</th>\n",
       "      <td>4</td>\n",
       "      <td>2</td>\n",
       "      <td>bbbo</td>\n",
       "      <td>shhhleb</td>\n",
       "      <td>https://www.tiktok.com/@shhhleb</td>\n",
       "      <td>watching them explain. I can’t breathe.</td>\n",
       "      <td>2024-07-23</td>\n",
       "      <td>21.7K</td>\n",
       "      <td>https://p16-sign-va.tiktokcdn.com/musically-ma...</td>\n",
       "      <td>No</td>\n",
       "      <td>...</td>\n",
       "      <td>758</td>\n",
       "      <td>477</td>\n",
       "      <td>jaketapper</td>\n",
       "      <td>94.3K</td>\n",
       "      <td>4913</td>\n",
       "      <td>Crée des effets TikTok, reçois une récompense</td>\n",
       "      <td>2024-11-10</td>\n",
       "      <td>False</td>\n",
       "      <td>False</td>\n",
       "      <td>False</td>\n",
       "    </tr>\n",
       "    <tr>\n",
       "      <th>5</th>\n",
       "      <td>5</td>\n",
       "      <td>2</td>\n",
       "      <td>bbbo</td>\n",
       "      <td>shhhleb</td>\n",
       "      <td>https://www.tiktok.com/@shhhleb</td>\n",
       "      <td>watching them explain. I can’t breathe.</td>\n",
       "      <td>2024-07-23</td>\n",
       "      <td>21.7K</td>\n",
       "      <td>https://p16-sign-va.tiktokcdn.com/musically-ma...</td>\n",
       "      <td>No</td>\n",
       "      <td>...</td>\n",
       "      <td>758</td>\n",
       "      <td>477</td>\n",
       "      <td>jaketapper</td>\n",
       "      <td>94.3K</td>\n",
       "      <td>4913</td>\n",
       "      <td>Crée des effets TikTok, reçois une récompense</td>\n",
       "      <td>2024-11-10</td>\n",
       "      <td>False</td>\n",
       "      <td>False</td>\n",
       "      <td>False</td>\n",
       "    </tr>\n",
       "    <tr>\n",
       "      <th>6</th>\n",
       "      <td>6</td>\n",
       "      <td>3</td>\n",
       "      <td>Caroline Tvardy</td>\n",
       "      <td>carolinetvardy6</td>\n",
       "      <td>https://www.tiktok.com/@carolinetvardy6</td>\n",
       "      <td>Our gen z correspondent 😭😭😭😭</td>\n",
       "      <td>2024-07-23</td>\n",
       "      <td>16.5K</td>\n",
       "      <td>https://p16-sign-va.tiktokcdn.com/tos-maliva-a...</td>\n",
       "      <td>No</td>\n",
       "      <td>...</td>\n",
       "      <td>758</td>\n",
       "      <td>477</td>\n",
       "      <td>jaketapper</td>\n",
       "      <td>94.3K</td>\n",
       "      <td>4913</td>\n",
       "      <td>Crée des effets TikTok, reçois une récompense</td>\n",
       "      <td>2024-11-10</td>\n",
       "      <td>False</td>\n",
       "      <td>False</td>\n",
       "      <td>True</td>\n",
       "    </tr>\n",
       "    <tr>\n",
       "      <th>7</th>\n",
       "      <td>7</td>\n",
       "      <td>3</td>\n",
       "      <td>Caroline Tvardy</td>\n",
       "      <td>carolinetvardy6</td>\n",
       "      <td>https://www.tiktok.com/@carolinetvardy6</td>\n",
       "      <td>Our gen z correspondent 😭😭😭😭</td>\n",
       "      <td>2024-07-23</td>\n",
       "      <td>16.5K</td>\n",
       "      <td>https://p16-sign-va.tiktokcdn.com/tos-maliva-a...</td>\n",
       "      <td>No</td>\n",
       "      <td>...</td>\n",
       "      <td>758</td>\n",
       "      <td>477</td>\n",
       "      <td>jaketapper</td>\n",
       "      <td>94.3K</td>\n",
       "      <td>4913</td>\n",
       "      <td>Crée des effets TikTok, reçois une récompense</td>\n",
       "      <td>2024-11-10</td>\n",
       "      <td>False</td>\n",
       "      <td>False</td>\n",
       "      <td>True</td>\n",
       "    </tr>\n",
       "    <tr>\n",
       "      <th>8</th>\n",
       "      <td>8</td>\n",
       "      <td>3</td>\n",
       "      <td>Caroline Tvardy</td>\n",
       "      <td>carolinetvardy6</td>\n",
       "      <td>https://www.tiktok.com/@carolinetvardy6</td>\n",
       "      <td>Our gen z correspondent 😭😭😭😭</td>\n",
       "      <td>2024-07-23</td>\n",
       "      <td>16.5K</td>\n",
       "      <td>https://p16-sign-va.tiktokcdn.com/tos-maliva-a...</td>\n",
       "      <td>No</td>\n",
       "      <td>...</td>\n",
       "      <td>758</td>\n",
       "      <td>477</td>\n",
       "      <td>jaketapper</td>\n",
       "      <td>94.3K</td>\n",
       "      <td>4913</td>\n",
       "      <td>Crée des effets TikTok, reçois une récompense</td>\n",
       "      <td>2024-11-10</td>\n",
       "      <td>False</td>\n",
       "      <td>False</td>\n",
       "      <td>True</td>\n",
       "    </tr>\n",
       "    <tr>\n",
       "      <th>9</th>\n",
       "      <td>9</td>\n",
       "      <td>4</td>\n",
       "      <td>sofia</td>\n",
       "      <td>sofiam444_</td>\n",
       "      <td>https://www.tiktok.com/@sofiam444_</td>\n",
       "      <td>THEY PRINTED IT OUT😭😭😭</td>\n",
       "      <td>2024-07-23</td>\n",
       "      <td>13.2K</td>\n",
       "      <td>https://p16-sign-va.tiktokcdn.com/tos-maliva-a...</td>\n",
       "      <td>No</td>\n",
       "      <td>...</td>\n",
       "      <td>758</td>\n",
       "      <td>477</td>\n",
       "      <td>jaketapper</td>\n",
       "      <td>94.3K</td>\n",
       "      <td>4913</td>\n",
       "      <td>Crée des effets TikTok, reçois une récompense</td>\n",
       "      <td>2024-11-10</td>\n",
       "      <td>False</td>\n",
       "      <td>False</td>\n",
       "      <td>False</td>\n",
       "    </tr>\n",
       "  </tbody>\n",
       "</table>\n",
       "<p>10 rows × 24 columns</p>\n",
       "</div>"
      ],
      "text/plain": [
       "   Unnamed: 0  Comment Number (ID)         Nickname           User @  \\\n",
       "0           0                    1         John Mac         johnm319   \n",
       "1           1                    1         John Mac         johnm319   \n",
       "2           2                    1         John Mac         johnm319   \n",
       "3           3                    2             bbbo          shhhleb   \n",
       "4           4                    2             bbbo          shhhleb   \n",
       "5           5                    2             bbbo          shhhleb   \n",
       "6           6                    3  Caroline Tvardy  carolinetvardy6   \n",
       "7           7                    3  Caroline Tvardy  carolinetvardy6   \n",
       "8           8                    3  Caroline Tvardy  carolinetvardy6   \n",
       "9           9                    4            sofia       sofiam444_   \n",
       "\n",
       "                                  User URL  \\\n",
       "0         https://www.tiktok.com/@johnm319   \n",
       "1         https://www.tiktok.com/@johnm319   \n",
       "2         https://www.tiktok.com/@johnm319   \n",
       "3          https://www.tiktok.com/@shhhleb   \n",
       "4          https://www.tiktok.com/@shhhleb   \n",
       "5          https://www.tiktok.com/@shhhleb   \n",
       "6  https://www.tiktok.com/@carolinetvardy6   \n",
       "7  https://www.tiktok.com/@carolinetvardy6   \n",
       "8  https://www.tiktok.com/@carolinetvardy6   \n",
       "9       https://www.tiktok.com/@sofiam444_   \n",
       "\n",
       "                              Comment Text        Time  Likes  \\\n",
       "0                       Chartreuse pls 😭😭😭  2024-07-24      5   \n",
       "1                       Chartreuse pls 😭😭😭  2024-07-24      5   \n",
       "2                       Chartreuse pls 😭😭😭  2024-07-24      5   \n",
       "3  watching them explain. I can’t breathe.  2024-07-23  21.7K   \n",
       "4  watching them explain. I can’t breathe.  2024-07-23  21.7K   \n",
       "5  watching them explain. I can’t breathe.  2024-07-23  21.7K   \n",
       "6             Our gen z correspondent 😭😭😭😭  2024-07-23  16.5K   \n",
       "7             Our gen z correspondent 😭😭😭😭  2024-07-23  16.5K   \n",
       "8             Our gen z correspondent 😭😭😭😭  2024-07-23  16.5K   \n",
       "9                   THEY PRINTED IT OUT😭😭😭  2024-07-23  13.2K   \n",
       "\n",
       "                                 Profile Picture URL Is 2nd Level Comment  \\\n",
       "0  https://p16-sign-va.tiktokcdn.com/tos-maliva-a...                   No   \n",
       "1  https://p16-sign-va.tiktokcdn.com/tos-maliva-a...                   No   \n",
       "2  https://p16-sign-va.tiktokcdn.com/tos-maliva-a...                   No   \n",
       "3  https://p16-sign-va.tiktokcdn.com/musically-ma...                   No   \n",
       "4  https://p16-sign-va.tiktokcdn.com/musically-ma...                   No   \n",
       "5  https://p16-sign-va.tiktokcdn.com/musically-ma...                   No   \n",
       "6  https://p16-sign-va.tiktokcdn.com/tos-maliva-a...                   No   \n",
       "7  https://p16-sign-va.tiktokcdn.com/tos-maliva-a...                   No   \n",
       "8  https://p16-sign-va.tiktokcdn.com/tos-maliva-a...                   No   \n",
       "9  https://p16-sign-va.tiktokcdn.com/tos-maliva-a...                   No   \n",
       "\n",
       "   ... scraped_comments  difference   publisher  post_likes  post_shares  \\\n",
       "0  ...              758         477  jaketapper       94.3K         4913   \n",
       "1  ...              758         477  jaketapper       94.3K         4913   \n",
       "2  ...              758         477  jaketapper       94.3K         4913   \n",
       "3  ...              758         477  jaketapper       94.3K         4913   \n",
       "4  ...              758         477  jaketapper       94.3K         4913   \n",
       "5  ...              758         477  jaketapper       94.3K         4913   \n",
       "6  ...              758         477  jaketapper       94.3K         4913   \n",
       "7  ...              758         477  jaketapper       94.3K         4913   \n",
       "8  ...              758         477  jaketapper       94.3K         4913   \n",
       "9  ...              758         477  jaketapper       94.3K         4913   \n",
       "\n",
       "                                post_description date_scraped positive  \\\n",
       "0  Crée des effets TikTok, reçois une récompense   2024-11-10    False   \n",
       "1  Crée des effets TikTok, reçois une récompense   2024-11-10    False   \n",
       "2  Crée des effets TikTok, reçois une récompense   2024-11-10    False   \n",
       "3  Crée des effets TikTok, reçois une récompense   2024-11-10    False   \n",
       "4  Crée des effets TikTok, reçois une récompense   2024-11-10    False   \n",
       "5  Crée des effets TikTok, reçois une récompense   2024-11-10    False   \n",
       "6  Crée des effets TikTok, reçois une récompense   2024-11-10    False   \n",
       "7  Crée des effets TikTok, reçois une récompense   2024-11-10    False   \n",
       "8  Crée des effets TikTok, reçois une récompense   2024-11-10    False   \n",
       "9  Crée des effets TikTok, reçois une récompense   2024-11-10    False   \n",
       "\n",
       "  neutral negative  \n",
       "0   False    False  \n",
       "1   False    False  \n",
       "2   False    False  \n",
       "3   False    False  \n",
       "4   False    False  \n",
       "5   False    False  \n",
       "6   False     True  \n",
       "7   False     True  \n",
       "8   False     True  \n",
       "9   False    False  \n",
       "\n",
       "[10 rows x 24 columns]"
      ]
     },
     "execution_count": 14,
     "metadata": {},
     "output_type": "execute_result"
    }
   ],
   "source": [
    "def threshold(x):\n",
    "    if x > 0.8: #Asrbitrairement mis à 0.8 pour ce petit test.\n",
    "        return True\n",
    "    else: return False\n",
    "\n",
    "tiktok[\"is_positive\"]=tiktok[\"positive\"].apply(threshold)\n",
    "tiktok[\"is_neutral\"]=tiktok[\"neutral\"].apply(threshold)\n",
    "tiktok[\"is_negative\"]=tiktok[\"negative\"].apply(threshold)\n",
    "\n",
    "tiktok.head(10)"
   ]
  },
  {
   "cell_type": "code",
   "execution_count": 18,
   "metadata": {},
   "outputs": [
    {
     "data": {
      "text/plain": [
       "<Axes: xlabel='negative', ylabel='positive'>"
      ]
     },
     "execution_count": 18,
     "metadata": {},
     "output_type": "execute_result"
    },
    {
     "data": {
      "image/png": "[encoded data removed]",
      "text/plain": [
       "<Figure size 640x480 with 1 Axes>"
      ]
     },
     "metadata": {},
     "output_type": "display_data"
    }
   ],
   "source": [
    "sns.lineplot(x=\"negative\", y=\"positive\",\n",
    "            hue = \"positive\",\n",
    "             data=tiktok)#,\n",
    "             #palette=\"#8ACE00\")"
   ]
  },
  {
   "cell_type": "markdown",
   "metadata": {},
   "source": [
    "# sentiment containing kamala, per social media"
   ]
  },
  {
   "cell_type": "code",
   "execution_count": 9,
   "metadata": {},
   "outputs": [],
   "source": [
    "#  sentiment analysis of comments\n",
    "\n",
    "def choose_max_score(x,y,z):\n",
    "    \"\"\"simple implémentation du max en faisant attention à garder trace du sentiment.\"\"\"\n",
    "    if (x,y,z)==(0,0,0): print('wtf?')\n",
    "\n",
    "    max1,max2=0,0\n",
    "    ind1,ind2=-1,-1\n",
    "    for i,el in enumerate([x,y,z]):\n",
    "        if el >= max1:\n",
    "            max1,max2 = el,max1\n",
    "            ind1,ind2 = i,ind1\n",
    "        \n",
    "    correspondances = {0:\"positive\", 1:\"neutral\", 2:\"negative\"}\n",
    "\n",
    "    return correspondances[ind1]\n",
    "\n",
    "# youtube[\"sentiment\"] = youtube.apply(lambda x: one_column_to_rule_them_all(x.is_positive, x.is_neutral, x.is_negative), axis=1)\n",
    "youtube[\"sentiment\"] = youtube.apply(lambda x: choose_max_score(x.positive, x.neutral, x.negative), axis=1)\n",
    "tiktok[\"sentiment\"] = tiktok.apply(lambda x: choose_max_score(x.positive, x.neutral, x.negative), axis=1)\n",
    "reddit[\"sentiment\"] = reddit.apply(lambda x: choose_max_score(x.positive, x.neutral, x.negative), axis=1)"
   ]
  },
  {
   "cell_type": "code",
   "execution_count": 6,
   "metadata": {},
   "outputs": [
    {
     "name": "stdout",
     "output_type": "stream",
     "text": [
      "1936 1894 30\n",
      "13569 18138 250\n"
     ]
    }
   ],
   "source": [
    "nb_kamala_youtube =  youtube['Comment'].str.contains('kamala', case = False, regex=True).sum()\n",
    "nb_kamala_tiktok =  tiktok['Comment Text'].str.contains('kamala', case = False, regex=True).sum()\n",
    "nb_kamala_reddit =  reddit['comment_content'].str.contains('kamala', case = False, regex=True).sum()\n",
    "\n",
    "print(nb_kamala_youtube,nb_kamala_tiktok, nb_kamala_reddit)\n",
    "\n",
    "total_yt, total_tiktok, total_reddit = youtube.shape[0], tiktok.shape[0], reddit.shape[0]\n",
    "\n",
    "print(total_yt, total_tiktok, total_reddit)"
   ]
  },
  {
   "cell_type": "code",
   "execution_count": 19,
   "metadata": {},
   "outputs": [],
   "source": [
    "youtube['contains_kamala'] = youtube['Comment'].str.contains('kamala', case = False, regex=True)\n",
    "tiktok['contains_kamala'] = tiktok['Comment Text'].str.contains('kamala', case = False, regex=True)\n",
    "reddit['contains_kamala'] = reddit['comment_content'].str.contains('kamala', case = False, regex=True)"
   ]
  },
  {
   "cell_type": "code",
   "execution_count": 22,
   "metadata": {},
   "outputs": [
    {
     "data": {
      "image/png": "[encoded data removed]",
      "text/plain": [
       "<Figure size 500x500 with 1 Axes>"
      ]
     },
     "metadata": {},
     "output_type": "display_data"
    }
   ],
   "source": [
    "fig, ax = plt.subplots(figsize=(5, 5), layout='constrained')\n",
    "\n",
    "sns.countplot(\n",
    "        data = youtube[youtube['contains_kamala']], #keep only those where it is true\n",
    "        x='contains_kamala',\n",
    "        hue='sentiment',\n",
    "        palette={'negative':negative_shade, 'neutral': neutral_shade, 'positive':positive_shade}, \n",
    "        ax=ax)\n",
    "    # ax.set_title(f'Sentiment when {contains_michel} (threshold: {t})', fontsize=10) \n",
    "ax.set_title(f\"Sentiment when 'contains_kamala' (YouTube)\", fontsize=10) \n",
    "ax.set_xlabel('contains_kamala', fontsize=8)\n",
    "ax.set_ylabel('Frequency', fontsize=8)\n",
    "plt.savefig('../viz/sentiment_kamala_youtube.png',bbox_inches='tight', transparent=True, dpi=300)"
   ]
  },
  {
   "cell_type": "code",
   "execution_count": 36,
   "metadata": {},
   "outputs": [
    {
     "data": {
      "image/png": "[encoded data removed]",
      "text/plain": [
       "<Figure size 500x500 with 1 Axes>"
      ]
     },
     "metadata": {},
     "output_type": "display_data"
    }
   ],
   "source": [
    "fig, ax = plt.subplots(figsize=(5, 5), layout='constrained')\n",
    "\n",
    "\n",
    "sns.countplot(\n",
    "        data = tiktok[tiktok['contains_kamala']], #keep only those where it is true\n",
    "        x='contains_kamala',\n",
    "        hue='sentiment',\n",
    "        palette={'negative':negative_shade, 'neutral': neutral_shade, 'positive':positive_shade}, \n",
    "        hue_order=[\"positive\", 'negative', 'neutral'],\n",
    "        ax=ax)\n",
    "    # ax.set_title(f'Sentiment when {contains_michel} (threshold: {t})', fontsize=10) \n",
    "ax.set_title(f\"Sentiment when 'contains_kamala' (tiktok)\", fontsize=10) \n",
    "ax.set_xlabel('contains_kamala', fontsize=8)\n",
    "ax.set_ylabel('Frequency', fontsize=8)\n",
    "plt.savefig('../viz/sentiment_kamala_tiktok.png',bbox_inches='tight', transparent=True, dpi=300)"
   ]
  },
  {
   "cell_type": "code",
   "execution_count": 31,
   "metadata": {},
   "outputs": [
    {
     "data": {
      "image/png": "[encoded data removed]",
      "text/plain": [
       "<Figure size 500x500 with 1 Axes>"
      ]
     },
     "metadata": {},
     "output_type": "display_data"
    }
   ],
   "source": [
    "fig, ax = plt.subplots(figsize=(5, 5), layout='constrained')\n",
    "\n",
    "\n",
    "sns.countplot(\n",
    "        data = reddit[reddit['contains_kamala']], #keep only those where it is true\n",
    "        x='contains_kamala',\n",
    "        hue='sentiment',\n",
    "        palette={'negative':negative_shade, 'neutral': neutral_shade, 'positive':positive_shade}, \n",
    "        ax=ax)\n",
    "    # ax.set_title(f'Sentiment when {contains_michel} (threshold: {t})', fontsize=10) \n",
    "ax.set_title(f\"Sentiment when 'contains_kamala' (reddit)\", fontsize=10) \n",
    "ax.set_xlabel('contains_kamala', fontsize=8)\n",
    "ax.set_ylabel('Frequency', fontsize=8)\n",
    "plt.savefig('../viz/sentiment_kamala_reddit.png',bbox_inches='tight', transparent=True, dpi=300)"
   ]
  },
  {
   "cell_type": "markdown",
   "metadata": {},
   "source": [
    "## Now, I do the same graph but with all social medias together:"
   ]
  },
  {
   "cell_type": "code",
   "execution_count": 27,
   "metadata": {},
   "outputs": [
    {
     "name": "stderr",
     "output_type": "stream",
     "text": [
      "/var/folders/d9/w3wlldnd20s584r1s8_wcqlh0000gp/T/ipykernel_18144/3529063308.py:3: SettingWithCopyWarning: \n",
      "A value is trying to be set on a copy of a slice from a DataFrame.\n",
      "Try using .loc[row_indexer,col_indexer] = value instead\n",
      "\n",
      "See the caveats in the documentation: https://pandas.pydata.org/pandas-docs/stable/user_guide/indexing.html#returning-a-view-versus-a-copy\n",
      "  youtube_small[\"media\"] = [\"youtube\" for _ in range(youtube.shape[0])]\n",
      "/var/folders/d9/w3wlldnd20s584r1s8_wcqlh0000gp/T/ipykernel_18144/3529063308.py:6: SettingWithCopyWarning: \n",
      "A value is trying to be set on a copy of a slice from a DataFrame\n",
      "\n",
      "See the caveats in the documentation: https://pandas.pydata.org/pandas-docs/stable/user_guide/indexing.html#returning-a-view-versus-a-copy\n",
      "  tiktok_small.rename(columns={\"Comment Text\":\"Comment\", \"sentiment\":\"sentiment\"}, inplace=True)\n",
      "/var/folders/d9/w3wlldnd20s584r1s8_wcqlh0000gp/T/ipykernel_18144/3529063308.py:7: SettingWithCopyWarning: \n",
      "A value is trying to be set on a copy of a slice from a DataFrame.\n",
      "Try using .loc[row_indexer,col_indexer] = value instead\n",
      "\n",
      "See the caveats in the documentation: https://pandas.pydata.org/pandas-docs/stable/user_guide/indexing.html#returning-a-view-versus-a-copy\n",
      "  tiktok_small[\"media\"] = [\"tiktok\" for _ in range(tiktok.shape[0])]\n",
      "/var/folders/d9/w3wlldnd20s584r1s8_wcqlh0000gp/T/ipykernel_18144/3529063308.py:10: SettingWithCopyWarning: \n",
      "A value is trying to be set on a copy of a slice from a DataFrame\n",
      "\n",
      "See the caveats in the documentation: https://pandas.pydata.org/pandas-docs/stable/user_guide/indexing.html#returning-a-view-versus-a-copy\n",
      "  reddit_small.rename(columns={\"comment_content\":\"Comment\", \"sentiment\":\"sentiment\"}, inplace=True)\n",
      "/var/folders/d9/w3wlldnd20s584r1s8_wcqlh0000gp/T/ipykernel_18144/3529063308.py:11: SettingWithCopyWarning: \n",
      "A value is trying to be set on a copy of a slice from a DataFrame.\n",
      "Try using .loc[row_indexer,col_indexer] = value instead\n",
      "\n",
      "See the caveats in the documentation: https://pandas.pydata.org/pandas-docs/stable/user_guide/indexing.html#returning-a-view-versus-a-copy\n",
      "  reddit_small[\"media\"] = [\"reddit\" for _ in range(reddit.shape[0])]\n"
     ]
    }
   ],
   "source": [
    "youtube_small = youtube[[\"Comment\", \"sentiment\"]]\n",
    "# youtube_small.rename(columns={\"Comment\":\"Comment\", \"sentiment\":\"sentiment\"}, inplace=True)\n",
    "youtube_small[\"media\"] = [\"youtube\" for _ in range(youtube.shape[0])]\n",
    "\n",
    "tiktok_small = tiktok[[\"Comment Text\", \"sentiment\"]]\n",
    "tiktok_small.rename(columns={\"Comment Text\":\"Comment\", \"sentiment\":\"sentiment\"}, inplace=True)\n",
    "tiktok_small[\"media\"] = [\"tiktok\" for _ in range(tiktok.shape[0])]\n",
    "\n",
    "reddit_small = reddit[[\"comment_content\", \"sentiment\"]]\n",
    "reddit_small.rename(columns={\"comment_content\":\"Comment\", \"sentiment\":\"sentiment\"}, inplace=True)\n",
    "reddit_small[\"media\"] = [\"reddit\" for _ in range(reddit.shape[0])]\n",
    "\n",
    "#tiktok.dropna(axis=0, subset=\"Comment\", inplace=True) # there is one nan that need to be removed"
   ]
  },
  {
   "cell_type": "code",
   "execution_count": 32,
   "metadata": {},
   "outputs": [],
   "source": [
    "all_comments_with_sentiment = pd.concat([youtube_small, tiktok_small, reddit_small], axis = 0)\n",
    "\n",
    "all_comments_with_sentiment['contains_kamala'] = all_comments_with_sentiment['Comment'].str.contains('kamala', case = False, regex=True)\n",
    "\n"
   ]
  },
  {
   "cell_type": "code",
   "execution_count": 33,
   "metadata": {},
   "outputs": [
    {
     "data": {
      "image/png": "[encoded data removed]",
      "text/plain": [
       "<Figure size 500x500 with 1 Axes>"
      ]
     },
     "metadata": {},
     "output_type": "display_data"
    }
   ],
   "source": [
    "fig, ax = plt.subplots(figsize=(5, 5), layout='constrained')\n",
    "\n",
    "\n",
    "sns.countplot(\n",
    "        data = all_comments_with_sentiment[all_comments_with_sentiment['contains_kamala']], #keep only those where it is true\n",
    "        x='contains_kamala',\n",
    "        hue='sentiment',\n",
    "        palette={'negative':negative_shade, 'neutral': neutral_shade, 'positive':positive_shade}, \n",
    "        ax=ax)\n",
    "    # ax.set_title(f'Sentiment when {contains_michel} (threshold: {t})', fontsize=10) \n",
    "ax.set_title(f\"Sentiment when 'contains_kamala' (all media)\", fontsize=10) \n",
    "ax.set_xlabel('contains_kamala', fontsize=8)\n",
    "ax.set_ylabel('Frequency', fontsize=8)\n",
    "plt.savefig('../viz/sentiment_kamala_all_media.png',bbox_inches='tight', transparent=True, dpi=300)"
   ]
  },
  {
   "cell_type": "code",
   "execution_count": 7,
   "metadata": {},
   "outputs": [
    {
     "data": {
      "image/png": "[encoded data removed]",
      "text/plain": [
       "<Figure size 640x480 with 1 Axes>"
      ]
     },
     "metadata": {},
     "output_type": "display_data"
    }
   ],
   "source": [
    "import matplotlib.pyplot as plt\n",
    "\n",
    "proportion_yt, proportion_tiktok, proportion_reddit = (nb_kamala_youtube / total_yt)*100, (nb_kamala_tiktok / total_tiktok)*100, (nb_kamala_reddit / total_reddit)*100\n",
    "\n",
    "\n",
    "plt.figure()\n",
    "plt.ylabel(\"%\")\n",
    "plt.bar(x = [1, 2, 3], height=[proportion_yt, proportion_reddit, proportion_tiktok], tick_label = [\"youtube\", \"reddit\", \"tiktok\"], color = \"#8ACE00\")\n",
    "plt.show()"
   ]
  },
  {
   "cell_type": "code",
   "execution_count": 26,
   "metadata": {},
   "outputs": [
    {
     "data": {
      "text/plain": [
       "14.267816346082984"
      ]
     },
     "execution_count": 26,
     "metadata": {},
     "output_type": "execute_result"
    }
   ],
   "source": [
    "proportion_yt"
   ]
  },
  {
   "cell_type": "code",
   "execution_count": 36,
   "metadata": {},
   "outputs": [
    {
     "data": {
      "text/html": [
       "<div>\n",
       "<style scoped>\n",
       "    .dataframe tbody tr th:only-of-type {\n",
       "        vertical-align: middle;\n",
       "    }\n",
       "\n",
       "    .dataframe tbody tr th {\n",
       "        vertical-align: top;\n",
       "    }\n",
       "\n",
       "    .dataframe thead th {\n",
       "        text-align: right;\n",
       "    }\n",
       "</style>\n",
       "<table border=\"1\" class=\"dataframe\">\n",
       "  <thead>\n",
       "    <tr style=\"text-align: right;\">\n",
       "      <th></th>\n",
       "      <th>Unnamed: 0.1</th>\n",
       "      <th>Unnamed: 0</th>\n",
       "      <th>Timestamp</th>\n",
       "      <th>Username</th>\n",
       "      <th>VideoID</th>\n",
       "      <th>Comment</th>\n",
       "      <th>Date</th>\n",
       "      <th>Modified</th>\n",
       "      <th>NbLikes</th>\n",
       "      <th>join_key</th>\n",
       "      <th>positive</th>\n",
       "      <th>neutral</th>\n",
       "      <th>negative</th>\n",
       "    </tr>\n",
       "  </thead>\n",
       "  <tbody>\n",
       "    <tr>\n",
       "      <th>0</th>\n",
       "      <td>0</td>\n",
       "      <td>0</td>\n",
       "      <td>2024-11-04T16:26:49Z</td>\n",
       "      <td>@st8275</td>\n",
       "      <td>Js4qqwdjA9M</td>\n",
       "      <td>Dufus-in-chief</td>\n",
       "      <td>2024-11-04T16:26:49Z</td>\n",
       "      <td>True</td>\n",
       "      <td>1</td>\n",
       "      <td>0</td>\n",
       "      <td>0.61</td>\n",
       "      <td>0.27</td>\n",
       "      <td>0.12</td>\n",
       "    </tr>\n",
       "    <tr>\n",
       "      <th>1</th>\n",
       "      <td>1</td>\n",
       "      <td>1</td>\n",
       "      <td>2024-11-04T14:11:51Z</td>\n",
       "      <td>@comingforya690</td>\n",
       "      <td>Js4qqwdjA9M</td>\n",
       "      <td>I thought the liberals hate the rich? Lmfao th...</td>\n",
       "      <td>2024-11-04T14:11:51Z</td>\n",
       "      <td>True</td>\n",
       "      <td>0</td>\n",
       "      <td>1</td>\n",
       "      <td>0.10</td>\n",
       "      <td>0.10</td>\n",
       "      <td>0.80</td>\n",
       "    </tr>\n",
       "    <tr>\n",
       "      <th>2</th>\n",
       "      <td>2</td>\n",
       "      <td>2</td>\n",
       "      <td>2024-11-04T12:59:38Z</td>\n",
       "      <td>@2ndhk552</td>\n",
       "      <td>Js4qqwdjA9M</td>\n",
       "      <td>Who gives af</td>\n",
       "      <td>2024-11-04T12:59:38Z</td>\n",
       "      <td>True</td>\n",
       "      <td>0</td>\n",
       "      <td>2</td>\n",
       "      <td>0.11</td>\n",
       "      <td>0.14</td>\n",
       "      <td>0.76</td>\n",
       "    </tr>\n",
       "    <tr>\n",
       "      <th>3</th>\n",
       "      <td>3</td>\n",
       "      <td>3</td>\n",
       "      <td>2024-11-04T03:08:23Z</td>\n",
       "      <td>@___KPR</td>\n",
       "      <td>Js4qqwdjA9M</td>\n",
       "      <td>No babe we don’t need your opinion babe. Trump...</td>\n",
       "      <td>2024-11-04T03:08:23Z</td>\n",
       "      <td>True</td>\n",
       "      <td>0</td>\n",
       "      <td>3</td>\n",
       "      <td>0.68</td>\n",
       "      <td>0.28</td>\n",
       "      <td>0.04</td>\n",
       "    </tr>\n",
       "    <tr>\n",
       "      <th>4</th>\n",
       "      <td>4</td>\n",
       "      <td>4</td>\n",
       "      <td>2024-11-02T20:11:12Z</td>\n",
       "      <td>@cynthiabarrow509</td>\n",
       "      <td>Js4qqwdjA9M</td>\n",
       "      <td>Yeah this will sway the vote</td>\n",
       "      <td>2024-11-02T20:11:12Z</td>\n",
       "      <td>True</td>\n",
       "      <td>0</td>\n",
       "      <td>4</td>\n",
       "      <td>0.94</td>\n",
       "      <td>0.03</td>\n",
       "      <td>0.03</td>\n",
       "    </tr>\n",
       "    <tr>\n",
       "      <th>...</th>\n",
       "      <td>...</td>\n",
       "      <td>...</td>\n",
       "      <td>...</td>\n",
       "      <td>...</td>\n",
       "      <td>...</td>\n",
       "      <td>...</td>\n",
       "      <td>...</td>\n",
       "      <td>...</td>\n",
       "      <td>...</td>\n",
       "      <td>...</td>\n",
       "      <td>...</td>\n",
       "      <td>...</td>\n",
       "      <td>...</td>\n",
       "    </tr>\n",
       "    <tr>\n",
       "      <th>13564</th>\n",
       "      <td>13564</td>\n",
       "      <td>13568</td>\n",
       "      <td>2024-07-27T17:08:30Z</td>\n",
       "      <td>@punchkitten874</td>\n",
       "      <td>1EuF7yfoyDE</td>\n",
       "      <td>🐑🐑🐑</td>\n",
       "      <td>2024-07-27T17:08:30Z</td>\n",
       "      <td>True</td>\n",
       "      <td>1</td>\n",
       "      <td>13564</td>\n",
       "      <td>0.46</td>\n",
       "      <td>0.33</td>\n",
       "      <td>0.20</td>\n",
       "    </tr>\n",
       "    <tr>\n",
       "      <th>13565</th>\n",
       "      <td>13565</td>\n",
       "      <td>13569</td>\n",
       "      <td>2024-07-27T17:00:23Z</td>\n",
       "      <td>@Daniel_B_23</td>\n",
       "      <td>1EuF7yfoyDE</td>\n",
       "      <td>First</td>\n",
       "      <td>2024-07-27T17:00:23Z</td>\n",
       "      <td>True</td>\n",
       "      <td>0</td>\n",
       "      <td>13565</td>\n",
       "      <td>0.47</td>\n",
       "      <td>0.34</td>\n",
       "      <td>0.19</td>\n",
       "    </tr>\n",
       "    <tr>\n",
       "      <th>13566</th>\n",
       "      <td>13566</td>\n",
       "      <td>13570</td>\n",
       "      <td>2024-07-27T17:02:46Z</td>\n",
       "      <td>@Phoenix_cc</td>\n",
       "      <td>1EuF7yfoyDE</td>\n",
       "      <td>No, I am, if you go to newest comments and scr...</td>\n",
       "      <td>2024-07-27T17:02:46Z</td>\n",
       "      <td>True</td>\n",
       "      <td>0</td>\n",
       "      <td>13566</td>\n",
       "      <td>0.64</td>\n",
       "      <td>0.33</td>\n",
       "      <td>0.03</td>\n",
       "    </tr>\n",
       "    <tr>\n",
       "      <th>13567</th>\n",
       "      <td>13567</td>\n",
       "      <td>13571</td>\n",
       "      <td>2024-07-27T17:00:22Z</td>\n",
       "      <td>@Phoenix_cc</td>\n",
       "      <td>1EuF7yfoyDE</td>\n",
       "      <td>FIRST COMMENT AND LIKE</td>\n",
       "      <td>2024-07-27T17:00:22Z</td>\n",
       "      <td>True</td>\n",
       "      <td>6</td>\n",
       "      <td>13567</td>\n",
       "      <td>0.72</td>\n",
       "      <td>0.22</td>\n",
       "      <td>0.06</td>\n",
       "    </tr>\n",
       "    <tr>\n",
       "      <th>13568</th>\n",
       "      <td>13568</td>\n",
       "      <td>13572</td>\n",
       "      <td>2024-07-27T17:00:50Z</td>\n",
       "      <td>@sneakysniper9226</td>\n",
       "      <td>1EuF7yfoyDE</td>\n",
       "      <td>W</td>\n",
       "      <td>2024-07-27T17:00:50Z</td>\n",
       "      <td>True</td>\n",
       "      <td>0</td>\n",
       "      <td>13568</td>\n",
       "      <td>0.40</td>\n",
       "      <td>0.39</td>\n",
       "      <td>0.21</td>\n",
       "    </tr>\n",
       "  </tbody>\n",
       "</table>\n",
       "<p>13569 rows × 13 columns</p>\n",
       "</div>"
      ],
      "text/plain": [
       "       Unnamed: 0.1  Unnamed: 0             Timestamp           Username  \\\n",
       "0                 0           0  2024-11-04T16:26:49Z            @st8275   \n",
       "1                 1           1  2024-11-04T14:11:51Z    @comingforya690   \n",
       "2                 2           2  2024-11-04T12:59:38Z          @2ndhk552   \n",
       "3                 3           3  2024-11-04T03:08:23Z            @___KPR   \n",
       "4                 4           4  2024-11-02T20:11:12Z  @cynthiabarrow509   \n",
       "...             ...         ...                   ...                ...   \n",
       "13564         13564       13568  2024-07-27T17:08:30Z    @punchkitten874   \n",
       "13565         13565       13569  2024-07-27T17:00:23Z       @Daniel_B_23   \n",
       "13566         13566       13570  2024-07-27T17:02:46Z        @Phoenix_cc   \n",
       "13567         13567       13571  2024-07-27T17:00:22Z        @Phoenix_cc   \n",
       "13568         13568       13572  2024-07-27T17:00:50Z  @sneakysniper9226   \n",
       "\n",
       "           VideoID                                            Comment  \\\n",
       "0      Js4qqwdjA9M                                     Dufus-in-chief   \n",
       "1      Js4qqwdjA9M  I thought the liberals hate the rich? Lmfao th...   \n",
       "2      Js4qqwdjA9M                                       Who gives af   \n",
       "3      Js4qqwdjA9M  No babe we don’t need your opinion babe. Trump...   \n",
       "4      Js4qqwdjA9M                       Yeah this will sway the vote   \n",
       "...            ...                                                ...   \n",
       "13564  1EuF7yfoyDE                                                🐑🐑🐑   \n",
       "13565  1EuF7yfoyDE                                              First   \n",
       "13566  1EuF7yfoyDE  No, I am, if you go to newest comments and scr...   \n",
       "13567  1EuF7yfoyDE                             FIRST COMMENT AND LIKE   \n",
       "13568  1EuF7yfoyDE                                                  W   \n",
       "\n",
       "                       Date  Modified  NbLikes  join_key  positive  neutral  \\\n",
       "0      2024-11-04T16:26:49Z      True        1         0      0.61     0.27   \n",
       "1      2024-11-04T14:11:51Z      True        0         1      0.10     0.10   \n",
       "2      2024-11-04T12:59:38Z      True        0         2      0.11     0.14   \n",
       "3      2024-11-04T03:08:23Z      True        0         3      0.68     0.28   \n",
       "4      2024-11-02T20:11:12Z      True        0         4      0.94     0.03   \n",
       "...                     ...       ...      ...       ...       ...      ...   \n",
       "13564  2024-07-27T17:08:30Z      True        1     13564      0.46     0.33   \n",
       "13565  2024-07-27T17:00:23Z      True        0     13565      0.47     0.34   \n",
       "13566  2024-07-27T17:02:46Z      True        0     13566      0.64     0.33   \n",
       "13567  2024-07-27T17:00:22Z      True        6     13567      0.72     0.22   \n",
       "13568  2024-07-27T17:00:50Z      True        0     13568      0.40     0.39   \n",
       "\n",
       "       negative  \n",
       "0          0.12  \n",
       "1          0.80  \n",
       "2          0.76  \n",
       "3          0.04  \n",
       "4          0.03  \n",
       "...         ...  \n",
       "13564      0.20  \n",
       "13565      0.19  \n",
       "13566      0.03  \n",
       "13567      0.06  \n",
       "13568      0.21  \n",
       "\n",
       "[13569 rows x 13 columns]"
      ]
     },
     "execution_count": 36,
     "metadata": {},
     "output_type": "execute_result"
    }
   ],
   "source": [
    "youtube"
   ]
  },
  {
   "cell_type": "code",
   "execution_count": 45,
   "metadata": {},
   "outputs": [
    {
     "data": {
      "text/plain": [
       "7"
      ]
     },
     "execution_count": 45,
     "metadata": {},
     "output_type": "execute_result"
    }
   ],
   "source": [
    "import datetime\n",
    "d = datetime.datetime(2024,7,22)\n",
    "d.month"
   ]
  },
  {
   "cell_type": "code",
   "execution_count": 42,
   "metadata": {},
   "outputs": [
    {
     "data": {
      "text/html": [
       "<div>\n",
       "<style scoped>\n",
       "    .dataframe tbody tr th:only-of-type {\n",
       "        vertical-align: middle;\n",
       "    }\n",
       "\n",
       "    .dataframe tbody tr th {\n",
       "        vertical-align: top;\n",
       "    }\n",
       "\n",
       "    .dataframe thead th {\n",
       "        text-align: right;\n",
       "    }\n",
       "</style>\n",
       "<table border=\"1\" class=\"dataframe\">\n",
       "  <thead>\n",
       "    <tr style=\"text-align: right;\">\n",
       "      <th></th>\n",
       "      <th>Unnamed: 0.1</th>\n",
       "      <th>Unnamed: 0</th>\n",
       "      <th>Timestamp</th>\n",
       "      <th>Username</th>\n",
       "      <th>VideoID</th>\n",
       "      <th>Comment</th>\n",
       "      <th>Date</th>\n",
       "      <th>Modified</th>\n",
       "      <th>NbLikes</th>\n",
       "      <th>join_key</th>\n",
       "      <th>positive</th>\n",
       "      <th>neutral</th>\n",
       "      <th>negative</th>\n",
       "    </tr>\n",
       "  </thead>\n",
       "  <tbody>\n",
       "    <tr>\n",
       "      <th>0</th>\n",
       "      <td>0</td>\n",
       "      <td>0</td>\n",
       "      <td>2024-11-04</td>\n",
       "      <td>@st8275</td>\n",
       "      <td>Js4qqwdjA9M</td>\n",
       "      <td>Dufus-in-chief</td>\n",
       "      <td>2024-11-04</td>\n",
       "      <td>True</td>\n",
       "      <td>1</td>\n",
       "      <td>0</td>\n",
       "      <td>0.61</td>\n",
       "      <td>0.27</td>\n",
       "      <td>0.12</td>\n",
       "    </tr>\n",
       "    <tr>\n",
       "      <th>1</th>\n",
       "      <td>1</td>\n",
       "      <td>1</td>\n",
       "      <td>2024-11-04</td>\n",
       "      <td>@comingforya690</td>\n",
       "      <td>Js4qqwdjA9M</td>\n",
       "      <td>I thought the liberals hate the rich? Lmfao th...</td>\n",
       "      <td>2024-11-04</td>\n",
       "      <td>True</td>\n",
       "      <td>0</td>\n",
       "      <td>1</td>\n",
       "      <td>0.10</td>\n",
       "      <td>0.10</td>\n",
       "      <td>0.80</td>\n",
       "    </tr>\n",
       "    <tr>\n",
       "      <th>2</th>\n",
       "      <td>2</td>\n",
       "      <td>2</td>\n",
       "      <td>2024-11-04</td>\n",
       "      <td>@2ndhk552</td>\n",
       "      <td>Js4qqwdjA9M</td>\n",
       "      <td>Who gives af</td>\n",
       "      <td>2024-11-04</td>\n",
       "      <td>True</td>\n",
       "      <td>0</td>\n",
       "      <td>2</td>\n",
       "      <td>0.11</td>\n",
       "      <td>0.14</td>\n",
       "      <td>0.76</td>\n",
       "    </tr>\n",
       "    <tr>\n",
       "      <th>3</th>\n",
       "      <td>3</td>\n",
       "      <td>3</td>\n",
       "      <td>2024-11-04</td>\n",
       "      <td>@___KPR</td>\n",
       "      <td>Js4qqwdjA9M</td>\n",
       "      <td>No babe we don’t need your opinion babe. Trump...</td>\n",
       "      <td>2024-11-04</td>\n",
       "      <td>True</td>\n",
       "      <td>0</td>\n",
       "      <td>3</td>\n",
       "      <td>0.68</td>\n",
       "      <td>0.28</td>\n",
       "      <td>0.04</td>\n",
       "    </tr>\n",
       "    <tr>\n",
       "      <th>4</th>\n",
       "      <td>4</td>\n",
       "      <td>4</td>\n",
       "      <td>2024-11-02</td>\n",
       "      <td>@cynthiabarrow509</td>\n",
       "      <td>Js4qqwdjA9M</td>\n",
       "      <td>Yeah this will sway the vote</td>\n",
       "      <td>2024-11-02</td>\n",
       "      <td>True</td>\n",
       "      <td>0</td>\n",
       "      <td>4</td>\n",
       "      <td>0.94</td>\n",
       "      <td>0.03</td>\n",
       "      <td>0.03</td>\n",
       "    </tr>\n",
       "    <tr>\n",
       "      <th>...</th>\n",
       "      <td>...</td>\n",
       "      <td>...</td>\n",
       "      <td>...</td>\n",
       "      <td>...</td>\n",
       "      <td>...</td>\n",
       "      <td>...</td>\n",
       "      <td>...</td>\n",
       "      <td>...</td>\n",
       "      <td>...</td>\n",
       "      <td>...</td>\n",
       "      <td>...</td>\n",
       "      <td>...</td>\n",
       "      <td>...</td>\n",
       "    </tr>\n",
       "    <tr>\n",
       "      <th>13564</th>\n",
       "      <td>13564</td>\n",
       "      <td>13568</td>\n",
       "      <td>2024-07-27</td>\n",
       "      <td>@punchkitten874</td>\n",
       "      <td>1EuF7yfoyDE</td>\n",
       "      <td>🐑🐑🐑</td>\n",
       "      <td>2024-07-27</td>\n",
       "      <td>True</td>\n",
       "      <td>1</td>\n",
       "      <td>13564</td>\n",
       "      <td>0.46</td>\n",
       "      <td>0.33</td>\n",
       "      <td>0.20</td>\n",
       "    </tr>\n",
       "    <tr>\n",
       "      <th>13565</th>\n",
       "      <td>13565</td>\n",
       "      <td>13569</td>\n",
       "      <td>2024-07-27</td>\n",
       "      <td>@Daniel_B_23</td>\n",
       "      <td>1EuF7yfoyDE</td>\n",
       "      <td>First</td>\n",
       "      <td>2024-07-27</td>\n",
       "      <td>True</td>\n",
       "      <td>0</td>\n",
       "      <td>13565</td>\n",
       "      <td>0.47</td>\n",
       "      <td>0.34</td>\n",
       "      <td>0.19</td>\n",
       "    </tr>\n",
       "    <tr>\n",
       "      <th>13566</th>\n",
       "      <td>13566</td>\n",
       "      <td>13570</td>\n",
       "      <td>2024-07-27</td>\n",
       "      <td>@Phoenix_cc</td>\n",
       "      <td>1EuF7yfoyDE</td>\n",
       "      <td>No, I am, if you go to newest comments and scr...</td>\n",
       "      <td>2024-07-27</td>\n",
       "      <td>True</td>\n",
       "      <td>0</td>\n",
       "      <td>13566</td>\n",
       "      <td>0.64</td>\n",
       "      <td>0.33</td>\n",
       "      <td>0.03</td>\n",
       "    </tr>\n",
       "    <tr>\n",
       "      <th>13567</th>\n",
       "      <td>13567</td>\n",
       "      <td>13571</td>\n",
       "      <td>2024-07-27</td>\n",
       "      <td>@Phoenix_cc</td>\n",
       "      <td>1EuF7yfoyDE</td>\n",
       "      <td>FIRST COMMENT AND LIKE</td>\n",
       "      <td>2024-07-27</td>\n",
       "      <td>True</td>\n",
       "      <td>6</td>\n",
       "      <td>13567</td>\n",
       "      <td>0.72</td>\n",
       "      <td>0.22</td>\n",
       "      <td>0.06</td>\n",
       "    </tr>\n",
       "    <tr>\n",
       "      <th>13568</th>\n",
       "      <td>13568</td>\n",
       "      <td>13572</td>\n",
       "      <td>2024-07-27</td>\n",
       "      <td>@sneakysniper9226</td>\n",
       "      <td>1EuF7yfoyDE</td>\n",
       "      <td>W</td>\n",
       "      <td>2024-07-27</td>\n",
       "      <td>True</td>\n",
       "      <td>0</td>\n",
       "      <td>13568</td>\n",
       "      <td>0.40</td>\n",
       "      <td>0.39</td>\n",
       "      <td>0.21</td>\n",
       "    </tr>\n",
       "  </tbody>\n",
       "</table>\n",
       "<p>13569 rows × 13 columns</p>\n",
       "</div>"
      ],
      "text/plain": [
       "       Unnamed: 0.1  Unnamed: 0   Timestamp           Username      VideoID  \\\n",
       "0                 0           0  2024-11-04            @st8275  Js4qqwdjA9M   \n",
       "1                 1           1  2024-11-04    @comingforya690  Js4qqwdjA9M   \n",
       "2                 2           2  2024-11-04          @2ndhk552  Js4qqwdjA9M   \n",
       "3                 3           3  2024-11-04            @___KPR  Js4qqwdjA9M   \n",
       "4                 4           4  2024-11-02  @cynthiabarrow509  Js4qqwdjA9M   \n",
       "...             ...         ...         ...                ...          ...   \n",
       "13564         13564       13568  2024-07-27    @punchkitten874  1EuF7yfoyDE   \n",
       "13565         13565       13569  2024-07-27       @Daniel_B_23  1EuF7yfoyDE   \n",
       "13566         13566       13570  2024-07-27        @Phoenix_cc  1EuF7yfoyDE   \n",
       "13567         13567       13571  2024-07-27        @Phoenix_cc  1EuF7yfoyDE   \n",
       "13568         13568       13572  2024-07-27  @sneakysniper9226  1EuF7yfoyDE   \n",
       "\n",
       "                                                 Comment        Date  \\\n",
       "0                                         Dufus-in-chief  2024-11-04   \n",
       "1      I thought the liberals hate the rich? Lmfao th...  2024-11-04   \n",
       "2                                           Who gives af  2024-11-04   \n",
       "3      No babe we don’t need your opinion babe. Trump...  2024-11-04   \n",
       "4                           Yeah this will sway the vote  2024-11-02   \n",
       "...                                                  ...         ...   \n",
       "13564                                                🐑🐑🐑  2024-07-27   \n",
       "13565                                              First  2024-07-27   \n",
       "13566  No, I am, if you go to newest comments and scr...  2024-07-27   \n",
       "13567                             FIRST COMMENT AND LIKE  2024-07-27   \n",
       "13568                                                  W  2024-07-27   \n",
       "\n",
       "       Modified  NbLikes  join_key  positive  neutral  negative  \n",
       "0          True        1         0      0.61     0.27      0.12  \n",
       "1          True        0         1      0.10     0.10      0.80  \n",
       "2          True        0         2      0.11     0.14      0.76  \n",
       "3          True        0         3      0.68     0.28      0.04  \n",
       "4          True        0         4      0.94     0.03      0.03  \n",
       "...         ...      ...       ...       ...      ...       ...  \n",
       "13564      True        1     13564      0.46     0.33      0.20  \n",
       "13565      True        0     13565      0.47     0.34      0.19  \n",
       "13566      True        0     13566      0.64     0.33      0.03  \n",
       "13567      True        6     13567      0.72     0.22      0.06  \n",
       "13568      True        0     13568      0.40     0.39      0.21  \n",
       "\n",
       "[13569 rows x 13 columns]"
      ]
     },
     "execution_count": 42,
     "metadata": {},
     "output_type": "execute_result"
    }
   ],
   "source": [
    "def byebyelestrucsinutiles(x):\n",
    "    return x[:10]\n",
    "\n",
    "youtube[\"Timestamp\"] = youtube[\"Timestamp\"].apply(byebyelestrucsinutiles)\n",
    "\n",
    "youtube"
   ]
  },
  {
   "cell_type": "code",
   "execution_count": 43,
   "metadata": {},
   "outputs": [],
   "source": [
    "youtube[\"Timestamp\"] = pd.to_datetime(youtube['Timestamp'], format='%Y-%m-%d')"
   ]
  },
  {
   "cell_type": "code",
   "execution_count": 47,
   "metadata": {},
   "outputs": [
    {
     "data": {
      "text/html": [
       "<div>\n",
       "<style scoped>\n",
       "    .dataframe tbody tr th:only-of-type {\n",
       "        vertical-align: middle;\n",
       "    }\n",
       "\n",
       "    .dataframe tbody tr th {\n",
       "        vertical-align: top;\n",
       "    }\n",
       "\n",
       "    .dataframe thead th {\n",
       "        text-align: right;\n",
       "    }\n",
       "</style>\n",
       "<table border=\"1\" class=\"dataframe\">\n",
       "  <thead>\n",
       "    <tr style=\"text-align: right;\">\n",
       "      <th></th>\n",
       "      <th>Unnamed: 0.1</th>\n",
       "      <th>Unnamed: 0</th>\n",
       "      <th>Timestamp</th>\n",
       "      <th>Username</th>\n",
       "      <th>VideoID</th>\n",
       "      <th>Comment</th>\n",
       "      <th>Date</th>\n",
       "      <th>Modified</th>\n",
       "      <th>NbLikes</th>\n",
       "      <th>join_key</th>\n",
       "      <th>positive</th>\n",
       "      <th>neutral</th>\n",
       "      <th>negative</th>\n",
       "    </tr>\n",
       "  </thead>\n",
       "  <tbody>\n",
       "    <tr>\n",
       "      <th>0</th>\n",
       "      <td>0</td>\n",
       "      <td>0</td>\n",
       "      <td>2024-11-04</td>\n",
       "      <td>@st8275</td>\n",
       "      <td>Js4qqwdjA9M</td>\n",
       "      <td>Dufus-in-chief</td>\n",
       "      <td>2024-11-04</td>\n",
       "      <td>True</td>\n",
       "      <td>1</td>\n",
       "      <td>0</td>\n",
       "      <td>0.61</td>\n",
       "      <td>0.27</td>\n",
       "      <td>0.12</td>\n",
       "    </tr>\n",
       "    <tr>\n",
       "      <th>1</th>\n",
       "      <td>1</td>\n",
       "      <td>1</td>\n",
       "      <td>2024-11-04</td>\n",
       "      <td>@comingforya690</td>\n",
       "      <td>Js4qqwdjA9M</td>\n",
       "      <td>I thought the liberals hate the rich? Lmfao th...</td>\n",
       "      <td>2024-11-04</td>\n",
       "      <td>True</td>\n",
       "      <td>0</td>\n",
       "      <td>1</td>\n",
       "      <td>0.10</td>\n",
       "      <td>0.10</td>\n",
       "      <td>0.80</td>\n",
       "    </tr>\n",
       "    <tr>\n",
       "      <th>2</th>\n",
       "      <td>2</td>\n",
       "      <td>2</td>\n",
       "      <td>2024-11-04</td>\n",
       "      <td>@2ndhk552</td>\n",
       "      <td>Js4qqwdjA9M</td>\n",
       "      <td>Who gives af</td>\n",
       "      <td>2024-11-04</td>\n",
       "      <td>True</td>\n",
       "      <td>0</td>\n",
       "      <td>2</td>\n",
       "      <td>0.11</td>\n",
       "      <td>0.14</td>\n",
       "      <td>0.76</td>\n",
       "    </tr>\n",
       "    <tr>\n",
       "      <th>3</th>\n",
       "      <td>3</td>\n",
       "      <td>3</td>\n",
       "      <td>2024-11-04</td>\n",
       "      <td>@___KPR</td>\n",
       "      <td>Js4qqwdjA9M</td>\n",
       "      <td>No babe we don’t need your opinion babe. Trump...</td>\n",
       "      <td>2024-11-04</td>\n",
       "      <td>True</td>\n",
       "      <td>0</td>\n",
       "      <td>3</td>\n",
       "      <td>0.68</td>\n",
       "      <td>0.28</td>\n",
       "      <td>0.04</td>\n",
       "    </tr>\n",
       "    <tr>\n",
       "      <th>4</th>\n",
       "      <td>4</td>\n",
       "      <td>4</td>\n",
       "      <td>2024-11-02</td>\n",
       "      <td>@cynthiabarrow509</td>\n",
       "      <td>Js4qqwdjA9M</td>\n",
       "      <td>Yeah this will sway the vote</td>\n",
       "      <td>2024-11-02</td>\n",
       "      <td>True</td>\n",
       "      <td>0</td>\n",
       "      <td>4</td>\n",
       "      <td>0.94</td>\n",
       "      <td>0.03</td>\n",
       "      <td>0.03</td>\n",
       "    </tr>\n",
       "    <tr>\n",
       "      <th>...</th>\n",
       "      <td>...</td>\n",
       "      <td>...</td>\n",
       "      <td>...</td>\n",
       "      <td>...</td>\n",
       "      <td>...</td>\n",
       "      <td>...</td>\n",
       "      <td>...</td>\n",
       "      <td>...</td>\n",
       "      <td>...</td>\n",
       "      <td>...</td>\n",
       "      <td>...</td>\n",
       "      <td>...</td>\n",
       "      <td>...</td>\n",
       "    </tr>\n",
       "    <tr>\n",
       "      <th>13564</th>\n",
       "      <td>13564</td>\n",
       "      <td>13568</td>\n",
       "      <td>2024-07-27</td>\n",
       "      <td>@punchkitten874</td>\n",
       "      <td>1EuF7yfoyDE</td>\n",
       "      <td>🐑🐑🐑</td>\n",
       "      <td>2024-07-27</td>\n",
       "      <td>True</td>\n",
       "      <td>1</td>\n",
       "      <td>13564</td>\n",
       "      <td>0.46</td>\n",
       "      <td>0.33</td>\n",
       "      <td>0.20</td>\n",
       "    </tr>\n",
       "    <tr>\n",
       "      <th>13565</th>\n",
       "      <td>13565</td>\n",
       "      <td>13569</td>\n",
       "      <td>2024-07-27</td>\n",
       "      <td>@Daniel_B_23</td>\n",
       "      <td>1EuF7yfoyDE</td>\n",
       "      <td>First</td>\n",
       "      <td>2024-07-27</td>\n",
       "      <td>True</td>\n",
       "      <td>0</td>\n",
       "      <td>13565</td>\n",
       "      <td>0.47</td>\n",
       "      <td>0.34</td>\n",
       "      <td>0.19</td>\n",
       "    </tr>\n",
       "    <tr>\n",
       "      <th>13566</th>\n",
       "      <td>13566</td>\n",
       "      <td>13570</td>\n",
       "      <td>2024-07-27</td>\n",
       "      <td>@Phoenix_cc</td>\n",
       "      <td>1EuF7yfoyDE</td>\n",
       "      <td>No, I am, if you go to newest comments and scr...</td>\n",
       "      <td>2024-07-27</td>\n",
       "      <td>True</td>\n",
       "      <td>0</td>\n",
       "      <td>13566</td>\n",
       "      <td>0.64</td>\n",
       "      <td>0.33</td>\n",
       "      <td>0.03</td>\n",
       "    </tr>\n",
       "    <tr>\n",
       "      <th>13567</th>\n",
       "      <td>13567</td>\n",
       "      <td>13571</td>\n",
       "      <td>2024-07-27</td>\n",
       "      <td>@Phoenix_cc</td>\n",
       "      <td>1EuF7yfoyDE</td>\n",
       "      <td>FIRST COMMENT AND LIKE</td>\n",
       "      <td>2024-07-27</td>\n",
       "      <td>True</td>\n",
       "      <td>6</td>\n",
       "      <td>13567</td>\n",
       "      <td>0.72</td>\n",
       "      <td>0.22</td>\n",
       "      <td>0.06</td>\n",
       "    </tr>\n",
       "    <tr>\n",
       "      <th>13568</th>\n",
       "      <td>13568</td>\n",
       "      <td>13572</td>\n",
       "      <td>2024-07-27</td>\n",
       "      <td>@sneakysniper9226</td>\n",
       "      <td>1EuF7yfoyDE</td>\n",
       "      <td>W</td>\n",
       "      <td>2024-07-27</td>\n",
       "      <td>True</td>\n",
       "      <td>0</td>\n",
       "      <td>13568</td>\n",
       "      <td>0.40</td>\n",
       "      <td>0.39</td>\n",
       "      <td>0.21</td>\n",
       "    </tr>\n",
       "  </tbody>\n",
       "</table>\n",
       "<p>13569 rows × 13 columns</p>\n",
       "</div>"
      ],
      "text/plain": [
       "       Unnamed: 0.1  Unnamed: 0  Timestamp           Username      VideoID  \\\n",
       "0                 0           0 2024-11-04            @st8275  Js4qqwdjA9M   \n",
       "1                 1           1 2024-11-04    @comingforya690  Js4qqwdjA9M   \n",
       "2                 2           2 2024-11-04          @2ndhk552  Js4qqwdjA9M   \n",
       "3                 3           3 2024-11-04            @___KPR  Js4qqwdjA9M   \n",
       "4                 4           4 2024-11-02  @cynthiabarrow509  Js4qqwdjA9M   \n",
       "...             ...         ...        ...                ...          ...   \n",
       "13564         13564       13568 2024-07-27    @punchkitten874  1EuF7yfoyDE   \n",
       "13565         13565       13569 2024-07-27       @Daniel_B_23  1EuF7yfoyDE   \n",
       "13566         13566       13570 2024-07-27        @Phoenix_cc  1EuF7yfoyDE   \n",
       "13567         13567       13571 2024-07-27        @Phoenix_cc  1EuF7yfoyDE   \n",
       "13568         13568       13572 2024-07-27  @sneakysniper9226  1EuF7yfoyDE   \n",
       "\n",
       "                                                 Comment        Date  \\\n",
       "0                                         Dufus-in-chief  2024-11-04   \n",
       "1      I thought the liberals hate the rich? Lmfao th...  2024-11-04   \n",
       "2                                           Who gives af  2024-11-04   \n",
       "3      No babe we don’t need your opinion babe. Trump...  2024-11-04   \n",
       "4                           Yeah this will sway the vote  2024-11-02   \n",
       "...                                                  ...         ...   \n",
       "13564                                                🐑🐑🐑  2024-07-27   \n",
       "13565                                              First  2024-07-27   \n",
       "13566  No, I am, if you go to newest comments and scr...  2024-07-27   \n",
       "13567                             FIRST COMMENT AND LIKE  2024-07-27   \n",
       "13568                                                  W  2024-07-27   \n",
       "\n",
       "       Modified  NbLikes  join_key  positive  neutral  negative  \n",
       "0          True        1         0      0.61     0.27      0.12  \n",
       "1          True        0         1      0.10     0.10      0.80  \n",
       "2          True        0         2      0.11     0.14      0.76  \n",
       "3          True        0         3      0.68     0.28      0.04  \n",
       "4          True        0         4      0.94     0.03      0.03  \n",
       "...         ...      ...       ...       ...      ...       ...  \n",
       "13564      True        1     13564      0.46     0.33      0.20  \n",
       "13565      True        0     13565      0.47     0.34      0.19  \n",
       "13566      True        0     13566      0.64     0.33      0.03  \n",
       "13567      True        6     13567      0.72     0.22      0.06  \n",
       "13568      True        0     13568      0.40     0.39      0.21  \n",
       "\n",
       "[13569 rows x 13 columns]"
      ]
     },
     "execution_count": 47,
     "metadata": {},
     "output_type": "execute_result"
    }
   ],
   "source": [
    "youtube[youtube[\"Timestamp\"] > d]"
   ]
  },
  {
   "cell_type": "code",
   "execution_count": 54,
   "metadata": {},
   "outputs": [
    {
     "data": {
      "text/html": [
       "<div>\n",
       "<style scoped>\n",
       "    .dataframe tbody tr th:only-of-type {\n",
       "        vertical-align: middle;\n",
       "    }\n",
       "\n",
       "    .dataframe tbody tr th {\n",
       "        vertical-align: top;\n",
       "    }\n",
       "\n",
       "    .dataframe thead th {\n",
       "        text-align: right;\n",
       "    }\n",
       "</style>\n",
       "<table border=\"1\" class=\"dataframe\">\n",
       "  <thead>\n",
       "    <tr style=\"text-align: right;\">\n",
       "      <th></th>\n",
       "      <th>Unnamed: 0</th>\n",
       "      <th>Comment Number (ID)</th>\n",
       "      <th>Nickname</th>\n",
       "      <th>User @</th>\n",
       "      <th>User URL</th>\n",
       "      <th>Comment Text</th>\n",
       "      <th>Time</th>\n",
       "      <th>Likes</th>\n",
       "      <th>Profile Picture URL</th>\n",
       "      <th>Is 2nd Level Comment</th>\n",
       "      <th>...</th>\n",
       "      <th>difference</th>\n",
       "      <th>publisher</th>\n",
       "      <th>post_likes</th>\n",
       "      <th>post_shares</th>\n",
       "      <th>post_description</th>\n",
       "      <th>date_scraped</th>\n",
       "      <th>join_key</th>\n",
       "      <th>positive</th>\n",
       "      <th>neutral</th>\n",
       "      <th>negative</th>\n",
       "    </tr>\n",
       "  </thead>\n",
       "  <tbody>\n",
       "    <tr>\n",
       "      <th>1008</th>\n",
       "      <td>1008</td>\n",
       "      <td>1</td>\n",
       "      <td>clea</td>\n",
       "      <td>h3xgirl</td>\n",
       "      <td>https://www.tiktok.com/@h3xgirl</td>\n",
       "      <td>MAKE THIS AN AUDIO</td>\n",
       "      <td>2024-07-01</td>\n",
       "      <td>2466</td>\n",
       "      <td>https://p77-sign-va-lite.tiktokcdn.com/tos-mal...</td>\n",
       "      <td>No</td>\n",
       "      <td>...</td>\n",
       "      <td>352</td>\n",
       "      <td>temhota36</td>\n",
       "      <td>217.6K</td>\n",
       "      <td>15.2K</td>\n",
       "      <td>Crée des effets TikTok, reçois une récompense</td>\n",
       "      <td>2024-11-04</td>\n",
       "      <td>1008</td>\n",
       "      <td>0.60</td>\n",
       "      <td>0.25</td>\n",
       "      <td>0.15</td>\n",
       "    </tr>\n",
       "    <tr>\n",
       "      <th>1009</th>\n",
       "      <td>1009</td>\n",
       "      <td>2</td>\n",
       "      <td>meri 💌</td>\n",
       "      <td>super.cool_.person</td>\n",
       "      <td>https://www.tiktok.com/@super.cool_.person</td>\n",
       "      <td>wait i get what shes saying now</td>\n",
       "      <td>2024-07-02</td>\n",
       "      <td>4315</td>\n",
       "      <td>https://p16-sign-va.tiktokcdn.com/tos-maliva-a...</td>\n",
       "      <td>No</td>\n",
       "      <td>...</td>\n",
       "      <td>352</td>\n",
       "      <td>temhota36</td>\n",
       "      <td>217.6K</td>\n",
       "      <td>15.2K</td>\n",
       "      <td>Crée des effets TikTok, reçois une récompense</td>\n",
       "      <td>2024-11-04</td>\n",
       "      <td>1009</td>\n",
       "      <td>0.27</td>\n",
       "      <td>0.51</td>\n",
       "      <td>0.22</td>\n",
       "    </tr>\n",
       "    <tr>\n",
       "      <th>1010</th>\n",
       "      <td>1010</td>\n",
       "      <td>3</td>\n",
       "      <td>h1ntze</td>\n",
       "      <td>h1ntze</td>\n",
       "      <td>https://www.tiktok.com/@h1ntze</td>\n",
       "      <td>Will she work it out on the remix?</td>\n",
       "      <td>2024-07-01</td>\n",
       "      <td>4035</td>\n",
       "      <td>https://p16-sign-va.tiktokcdn.com/tos-maliva-a...</td>\n",
       "      <td>No</td>\n",
       "      <td>...</td>\n",
       "      <td>352</td>\n",
       "      <td>temhota36</td>\n",
       "      <td>217.6K</td>\n",
       "      <td>15.2K</td>\n",
       "      <td>Crée des effets TikTok, reçois une récompense</td>\n",
       "      <td>2024-11-04</td>\n",
       "      <td>1010</td>\n",
       "      <td>0.75</td>\n",
       "      <td>0.24</td>\n",
       "      <td>0.01</td>\n",
       "    </tr>\n",
       "    <tr>\n",
       "      <th>1011</th>\n",
       "      <td>1011</td>\n",
       "      <td>4</td>\n",
       "      <td>keke420purr</td>\n",
       "      <td>keke420purr</td>\n",
       "      <td>https://www.tiktok.com/@keke420purr</td>\n",
       "      <td>Wait im mad at how well this fits 😭</td>\n",
       "      <td>2024-07-01</td>\n",
       "      <td>5084</td>\n",
       "      <td>https://p77-sign-va-lite.tiktokcdn.com/tos-mal...</td>\n",
       "      <td>No</td>\n",
       "      <td>...</td>\n",
       "      <td>352</td>\n",
       "      <td>temhota36</td>\n",
       "      <td>217.6K</td>\n",
       "      <td>15.2K</td>\n",
       "      <td>Crée des effets TikTok, reçois une récompense</td>\n",
       "      <td>2024-11-04</td>\n",
       "      <td>1011</td>\n",
       "      <td>0.96</td>\n",
       "      <td>0.01</td>\n",
       "      <td>0.03</td>\n",
       "    </tr>\n",
       "    <tr>\n",
       "      <th>1012</th>\n",
       "      <td>1012</td>\n",
       "      <td>5</td>\n",
       "      <td>yooo</td>\n",
       "      <td>pumpkin.guts</td>\n",
       "      <td>https://www.tiktok.com/@pumpkin.guts</td>\n",
       "      <td>wait but i think that makes perfect sense…</td>\n",
       "      <td>2024-07-01</td>\n",
       "      <td>978</td>\n",
       "      <td>https://p16-sign-sg.tiktokcdn.com/aweme/100x10...</td>\n",
       "      <td>No</td>\n",
       "      <td>...</td>\n",
       "      <td>352</td>\n",
       "      <td>temhota36</td>\n",
       "      <td>217.6K</td>\n",
       "      <td>15.2K</td>\n",
       "      <td>Crée des effets TikTok, reçois une récompense</td>\n",
       "      <td>2024-11-04</td>\n",
       "      <td>1012</td>\n",
       "      <td>0.98</td>\n",
       "      <td>0.01</td>\n",
       "      <td>0.01</td>\n",
       "    </tr>\n",
       "    <tr>\n",
       "      <th>...</th>\n",
       "      <td>...</td>\n",
       "      <td>...</td>\n",
       "      <td>...</td>\n",
       "      <td>...</td>\n",
       "      <td>...</td>\n",
       "      <td>...</td>\n",
       "      <td>...</td>\n",
       "      <td>...</td>\n",
       "      <td>...</td>\n",
       "      <td>...</td>\n",
       "      <td>...</td>\n",
       "      <td>...</td>\n",
       "      <td>...</td>\n",
       "      <td>...</td>\n",
       "      <td>...</td>\n",
       "      <td>...</td>\n",
       "      <td>...</td>\n",
       "      <td>...</td>\n",
       "      <td>...</td>\n",
       "      <td>...</td>\n",
       "      <td>...</td>\n",
       "    </tr>\n",
       "    <tr>\n",
       "      <th>8844</th>\n",
       "      <td>8844</td>\n",
       "      <td>1574</td>\n",
       "      <td>TheHappyTree</td>\n",
       "      <td>the.happy.tree</td>\n",
       "      <td>https://www.tiktok.com/@the.happy.tree</td>\n",
       "      <td>HARRIS 2024</td>\n",
       "      <td>2024-07-21</td>\n",
       "      <td>0</td>\n",
       "      <td>https://p16-sign-va.tiktokcdn.com/tos-maliva-a...</td>\n",
       "      <td>No</td>\n",
       "      <td>...</td>\n",
       "      <td>1867</td>\n",
       "      <td>mebbytoks</td>\n",
       "      <td>453K</td>\n",
       "      <td>14.2K</td>\n",
       "      <td>Crée des effets TikTok, reçois une récompense</td>\n",
       "      <td>2024-11-10</td>\n",
       "      <td>8844</td>\n",
       "      <td>0.69</td>\n",
       "      <td>0.23</td>\n",
       "      <td>0.08</td>\n",
       "    </tr>\n",
       "    <tr>\n",
       "      <th>8845</th>\n",
       "      <td>8845</td>\n",
       "      <td>1575</td>\n",
       "      <td>🐠</td>\n",
       "      <td>tackkv</td>\n",
       "      <td>https://www.tiktok.com/@tackkv</td>\n",
       "      <td>HARRIS 2024 🥥🌴🇺🇸</td>\n",
       "      <td>2024-07-21</td>\n",
       "      <td>0</td>\n",
       "      <td>https://p16-sign-va.tiktokcdn.com/tos-maliva-a...</td>\n",
       "      <td>No</td>\n",
       "      <td>...</td>\n",
       "      <td>1867</td>\n",
       "      <td>mebbytoks</td>\n",
       "      <td>453K</td>\n",
       "      <td>14.2K</td>\n",
       "      <td>Crée des effets TikTok, reçois une récompense</td>\n",
       "      <td>2024-11-10</td>\n",
       "      <td>8845</td>\n",
       "      <td>0.95</td>\n",
       "      <td>0.04</td>\n",
       "      <td>0.01</td>\n",
       "    </tr>\n",
       "    <tr>\n",
       "      <th>8846</th>\n",
       "      <td>8846</td>\n",
       "      <td>1576</td>\n",
       "      <td>miffymaiden</td>\n",
       "      <td>miffymaiden</td>\n",
       "      <td>https://www.tiktok.com/@miffymaiden</td>\n",
       "      <td>Vote for Kennedy! 🫶🏼</td>\n",
       "      <td>2024-07-21</td>\n",
       "      <td>0</td>\n",
       "      <td>https://p16-sign-va.tiktokcdn.com/tos-maliva-a...</td>\n",
       "      <td>No</td>\n",
       "      <td>...</td>\n",
       "      <td>1867</td>\n",
       "      <td>mebbytoks</td>\n",
       "      <td>453K</td>\n",
       "      <td>14.2K</td>\n",
       "      <td>Crée des effets TikTok, reçois une récompense</td>\n",
       "      <td>2024-11-10</td>\n",
       "      <td>8846</td>\n",
       "      <td>0.83</td>\n",
       "      <td>0.14</td>\n",
       "      <td>0.03</td>\n",
       "    </tr>\n",
       "    <tr>\n",
       "      <th>8847</th>\n",
       "      <td>8847</td>\n",
       "      <td>1577</td>\n",
       "      <td>ella</td>\n",
       "      <td>nichtdiebanke</td>\n",
       "      <td>https://www.tiktok.com/@nichtdiebanke</td>\n",
       "      <td>aged well in one part now we need it to age we...</td>\n",
       "      <td>2024-07-21</td>\n",
       "      <td>0</td>\n",
       "      <td>https://p16-sign-va.tiktokcdn.com/tos-maliva-a...</td>\n",
       "      <td>No</td>\n",
       "      <td>...</td>\n",
       "      <td>1867</td>\n",
       "      <td>mebbytoks</td>\n",
       "      <td>453K</td>\n",
       "      <td>14.2K</td>\n",
       "      <td>Crée des effets TikTok, reçois une récompense</td>\n",
       "      <td>2024-11-10</td>\n",
       "      <td>8847</td>\n",
       "      <td>0.73</td>\n",
       "      <td>0.16</td>\n",
       "      <td>0.11</td>\n",
       "    </tr>\n",
       "    <tr>\n",
       "      <th>8848</th>\n",
       "      <td>8848</td>\n",
       "      <td>1578</td>\n",
       "      <td>Will Solace</td>\n",
       "      <td>willsolace999</td>\n",
       "      <td>https://www.tiktok.com/@willsolace999</td>\n",
       "      <td>@Lmlylawhiab @gena save us 🔥</td>\n",
       "      <td>2024-07-21</td>\n",
       "      <td>0</td>\n",
       "      <td>https://p16-sign-va.tiktokcdn.com/tos-maliva-a...</td>\n",
       "      <td>No</td>\n",
       "      <td>...</td>\n",
       "      <td>1867</td>\n",
       "      <td>mebbytoks</td>\n",
       "      <td>453K</td>\n",
       "      <td>14.2K</td>\n",
       "      <td>Crée des effets TikTok, reçois une récompense</td>\n",
       "      <td>2024-11-10</td>\n",
       "      <td>8848</td>\n",
       "      <td>0.95</td>\n",
       "      <td>0.03</td>\n",
       "      <td>0.02</td>\n",
       "    </tr>\n",
       "  </tbody>\n",
       "</table>\n",
       "<p>876 rows × 25 columns</p>\n",
       "</div>"
      ],
      "text/plain": [
       "      Unnamed: 0  Comment Number (ID)      Nickname              User @  \\\n",
       "1008        1008                    1          clea             h3xgirl   \n",
       "1009        1009                    2        meri 💌  super.cool_.person   \n",
       "1010        1010                    3        h1ntze              h1ntze   \n",
       "1011        1011                    4   keke420purr         keke420purr   \n",
       "1012        1012                    5          yooo        pumpkin.guts   \n",
       "...          ...                  ...           ...                 ...   \n",
       "8844        8844                 1574  TheHappyTree      the.happy.tree   \n",
       "8845        8845                 1575             🐠              tackkv   \n",
       "8846        8846                 1576   miffymaiden         miffymaiden   \n",
       "8847        8847                 1577          ella       nichtdiebanke   \n",
       "8848        8848                 1578   Will Solace       willsolace999   \n",
       "\n",
       "                                        User URL  \\\n",
       "1008             https://www.tiktok.com/@h3xgirl   \n",
       "1009  https://www.tiktok.com/@super.cool_.person   \n",
       "1010              https://www.tiktok.com/@h1ntze   \n",
       "1011         https://www.tiktok.com/@keke420purr   \n",
       "1012        https://www.tiktok.com/@pumpkin.guts   \n",
       "...                                          ...   \n",
       "8844      https://www.tiktok.com/@the.happy.tree   \n",
       "8845              https://www.tiktok.com/@tackkv   \n",
       "8846         https://www.tiktok.com/@miffymaiden   \n",
       "8847       https://www.tiktok.com/@nichtdiebanke   \n",
       "8848       https://www.tiktok.com/@willsolace999   \n",
       "\n",
       "                                           Comment Text       Time Likes  \\\n",
       "1008                                 MAKE THIS AN AUDIO 2024-07-01  2466   \n",
       "1009                    wait i get what shes saying now 2024-07-02  4315   \n",
       "1010                 Will she work it out on the remix? 2024-07-01  4035   \n",
       "1011                Wait im mad at how well this fits 😭 2024-07-01  5084   \n",
       "1012         wait but i think that makes perfect sense… 2024-07-01   978   \n",
       "...                                                 ...        ...   ...   \n",
       "8844                                        HARRIS 2024 2024-07-21     0   \n",
       "8845                                   HARRIS 2024 🥥🌴🇺🇸 2024-07-21     0   \n",
       "8846                               Vote for Kennedy! 🫶🏼 2024-07-21     0   \n",
       "8847  aged well in one part now we need it to age we... 2024-07-21     0   \n",
       "8848                       @Lmlylawhiab @gena save us 🔥 2024-07-21     0   \n",
       "\n",
       "                                    Profile Picture URL Is 2nd Level Comment  \\\n",
       "1008  https://p77-sign-va-lite.tiktokcdn.com/tos-mal...                   No   \n",
       "1009  https://p16-sign-va.tiktokcdn.com/tos-maliva-a...                   No   \n",
       "1010  https://p16-sign-va.tiktokcdn.com/tos-maliva-a...                   No   \n",
       "1011  https://p77-sign-va-lite.tiktokcdn.com/tos-mal...                   No   \n",
       "1012  https://p16-sign-sg.tiktokcdn.com/aweme/100x10...                   No   \n",
       "...                                                 ...                  ...   \n",
       "8844  https://p16-sign-va.tiktokcdn.com/tos-maliva-a...                   No   \n",
       "8845  https://p16-sign-va.tiktokcdn.com/tos-maliva-a...                   No   \n",
       "8846  https://p16-sign-va.tiktokcdn.com/tos-maliva-a...                   No   \n",
       "8847  https://p16-sign-va.tiktokcdn.com/tos-maliva-a...                   No   \n",
       "8848  https://p16-sign-va.tiktokcdn.com/tos-maliva-a...                   No   \n",
       "\n",
       "      ... difference  publisher post_likes  post_shares  \\\n",
       "1008  ...        352  temhota36     217.6K        15.2K   \n",
       "1009  ...        352  temhota36     217.6K        15.2K   \n",
       "1010  ...        352  temhota36     217.6K        15.2K   \n",
       "1011  ...        352  temhota36     217.6K        15.2K   \n",
       "1012  ...        352  temhota36     217.6K        15.2K   \n",
       "...   ...        ...        ...        ...          ...   \n",
       "8844  ...       1867  mebbytoks       453K        14.2K   \n",
       "8845  ...       1867  mebbytoks       453K        14.2K   \n",
       "8846  ...       1867  mebbytoks       453K        14.2K   \n",
       "8847  ...       1867  mebbytoks       453K        14.2K   \n",
       "8848  ...       1867  mebbytoks       453K        14.2K   \n",
       "\n",
       "                                   post_description  date_scraped join_key  \\\n",
       "1008  Crée des effets TikTok, reçois une récompense    2024-11-04     1008   \n",
       "1009  Crée des effets TikTok, reçois une récompense    2024-11-04     1009   \n",
       "1010  Crée des effets TikTok, reçois une récompense    2024-11-04     1010   \n",
       "1011  Crée des effets TikTok, reçois une récompense    2024-11-04     1011   \n",
       "1012  Crée des effets TikTok, reçois une récompense    2024-11-04     1012   \n",
       "...                                             ...           ...      ...   \n",
       "8844  Crée des effets TikTok, reçois une récompense    2024-11-10     8844   \n",
       "8845  Crée des effets TikTok, reçois une récompense    2024-11-10     8845   \n",
       "8846  Crée des effets TikTok, reçois une récompense    2024-11-10     8846   \n",
       "8847  Crée des effets TikTok, reçois une récompense    2024-11-10     8847   \n",
       "8848  Crée des effets TikTok, reçois une récompense    2024-11-10     8848   \n",
       "\n",
       "     positive neutral negative  \n",
       "1008     0.60    0.25     0.15  \n",
       "1009     0.27    0.51     0.22  \n",
       "1010     0.75    0.24     0.01  \n",
       "1011     0.96    0.01     0.03  \n",
       "1012     0.98    0.01     0.01  \n",
       "...       ...     ...      ...  \n",
       "8844     0.69    0.23     0.08  \n",
       "8845     0.95    0.04     0.01  \n",
       "8846     0.83    0.14     0.03  \n",
       "8847     0.73    0.16     0.11  \n",
       "8848     0.95    0.03     0.02  \n",
       "\n",
       "[876 rows x 25 columns]"
      ]
     },
     "execution_count": 54,
     "metadata": {},
     "output_type": "execute_result"
    }
   ],
   "source": [
    "tiktok[\"Time\"] = pd.to_datetime(tiktok[\"Time\"], format='%Y-%m-%d')\n",
    "\n",
    "tiktok[tiktok[\"Time\"] < d]"
   ]
  },
  {
   "cell_type": "code",
   "execution_count": null,
   "metadata": {},
   "outputs": [],
   "source": []
  },
  {
   "cell_type": "code",
   "execution_count": null,
   "metadata": {},
   "outputs": [],
   "source": []
  },
  {
   "cell_type": "code",
   "execution_count": null,
   "metadata": {},
   "outputs": [],
   "source": []
  },
  {
   "cell_type": "code",
   "execution_count": null,
   "metadata": {},
   "outputs": [],
   "source": []
  },
  {
   "cell_type": "code",
   "execution_count": null,
   "metadata": {},
   "outputs": [],
   "source": []
  },
  {
   "cell_type": "code",
   "execution_count": null,
   "metadata": {},
   "outputs": [],
   "source": []
  },
  {
   "cell_type": "code",
   "execution_count": null,
   "metadata": {},
   "outputs": [],
   "source": []
  },
  {
   "cell_type": "code",
   "execution_count": null,
   "metadata": {},
   "outputs": [],
   "source": []
  },
  {
   "cell_type": "code",
   "execution_count": null,
   "metadata": {},
   "outputs": [],
   "source": []
  },
  {
   "cell_type": "code",
   "execution_count": null,
   "metadata": {},
   "outputs": [],
   "source": []
  },
  {
   "cell_type": "code",
   "execution_count": null,
   "metadata": {},
   "outputs": [],
   "source": []
  },
  {
   "cell_type": "code",
   "execution_count": null,
   "metadata": {},
   "outputs": [],
   "source": []
  },
  {
   "cell_type": "code",
   "execution_count": null,
   "metadata": {},
   "outputs": [],
   "source": []
  },
  {
   "cell_type": "code",
   "execution_count": null,
   "metadata": {},
   "outputs": [],
   "source": []
  },
  {
   "cell_type": "code",
   "execution_count": null,
   "metadata": {},
   "outputs": [],
   "source": []
  },
  {
   "cell_type": "code",
   "execution_count": null,
   "metadata": {},
   "outputs": [],
   "source": []
  },
  {
   "cell_type": "code",
   "execution_count": null,
   "metadata": {},
   "outputs": [],
   "source": []
  },
  {
   "cell_type": "code",
   "execution_count": null,
   "metadata": {},
   "outputs": [],
   "source": []
  },
  {
   "cell_type": "code",
   "execution_count": null,
   "metadata": {},
   "outputs": [],
   "source": []
  },
  {
   "cell_type": "code",
   "execution_count": null,
   "metadata": {},
   "outputs": [],
   "source": []
  },
  {
   "cell_type": "code",
   "execution_count": null,
   "metadata": {},
   "outputs": [],
   "source": []
  },
  {
   "cell_type": "code",
   "execution_count": null,
   "metadata": {},
   "outputs": [],
   "source": []
  },
  {
   "cell_type": "code",
   "execution_count": null,
   "metadata": {},
   "outputs": [],
   "source": []
  },
  {
   "cell_type": "code",
   "execution_count": null,
   "metadata": {},
   "outputs": [],
   "source": []
  },
  {
   "cell_type": "code",
   "execution_count": null,
   "metadata": {},
   "outputs": [],
   "source": []
  },
  {
   "cell_type": "code",
   "execution_count": null,
   "metadata": {},
   "outputs": [],
   "source": []
  },
  {
   "cell_type": "code",
   "execution_count": null,
   "metadata": {},
   "outputs": [],
   "source": []
  },
  {
   "cell_type": "code",
   "execution_count": null,
   "metadata": {},
   "outputs": [],
   "source": []
  },
  {
   "cell_type": "code",
   "execution_count": null,
   "metadata": {},
   "outputs": [],
   "source": []
  },
  {
   "cell_type": "code",
   "execution_count": null,
   "metadata": {},
   "outputs": [],
   "source": []
  },
  {
   "cell_type": "code",
   "execution_count": null,
   "metadata": {},
   "outputs": [],
   "source": []
  },
  {
   "cell_type": "code",
   "execution_count": null,
   "metadata": {},
   "outputs": [],
   "source": []
  },
  {
   "cell_type": "code",
   "execution_count": null,
   "metadata": {},
   "outputs": [],
   "source": []
  },
  {
   "cell_type": "code",
   "execution_count": null,
   "metadata": {},
   "outputs": [],
   "source": []
  },
  {
   "cell_type": "code",
   "execution_count": null,
   "metadata": {},
   "outputs": [],
   "source": []
  },
  {
   "cell_type": "code",
   "execution_count": null,
   "metadata": {},
   "outputs": [],
   "source": []
  },
  {
   "cell_type": "code",
   "execution_count": null,
   "metadata": {},
   "outputs": [],
   "source": []
  },
  {
   "cell_type": "code",
   "execution_count": null,
   "metadata": {},
   "outputs": [],
   "source": []
  },
  {
   "cell_type": "code",
   "execution_count": null,
   "metadata": {},
   "outputs": [],
   "source": []
  },
  {
   "cell_type": "code",
   "execution_count": null,
   "metadata": {},
   "outputs": [],
   "source": []
  },
  {
   "cell_type": "code",
   "execution_count": null,
   "metadata": {},
   "outputs": [],
   "source": []
  },
  {
   "cell_type": "code",
   "execution_count": null,
   "metadata": {},
   "outputs": [],
   "source": []
  },
  {
   "cell_type": "code",
   "execution_count": null,
   "metadata": {},
   "outputs": [],
   "source": []
  },
  {
   "cell_type": "code",
   "execution_count": null,
   "metadata": {},
   "outputs": [],
   "source": []
  },
  {
   "cell_type": "code",
   "execution_count": null,
   "metadata": {},
   "outputs": [],
   "source": []
  },
  {
   "cell_type": "code",
   "execution_count": null,
   "metadata": {},
   "outputs": [],
   "source": []
  },
  {
   "cell_type": "code",
   "execution_count": null,
   "metadata": {},
   "outputs": [],
   "source": []
  },
  {
   "cell_type": "code",
   "execution_count": null,
   "metadata": {},
   "outputs": [],
   "source": []
  },
  {
   "cell_type": "code",
   "execution_count": null,
   "metadata": {},
   "outputs": [],
   "source": []
  },
  {
   "cell_type": "code",
   "execution_count": null,
   "metadata": {},
   "outputs": [],
   "source": []
  },
  {
   "cell_type": "code",
   "execution_count": null,
   "metadata": {},
   "outputs": [],
   "source": []
  },
  {
   "cell_type": "code",
   "execution_count": null,
   "metadata": {},
   "outputs": [],
   "source": []
  },
  {
   "cell_type": "code",
   "execution_count": null,
   "metadata": {},
   "outputs": [],
   "source": []
  },
  {
   "cell_type": "code",
   "execution_count": null,
   "metadata": {},
   "outputs": [],
   "source": []
  },
  {
   "cell_type": "code",
   "execution_count": null,
   "metadata": {},
   "outputs": [],
   "source": []
  },
  {
   "cell_type": "code",
   "execution_count": null,
   "metadata": {},
   "outputs": [],
   "source": []
  },
  {
   "cell_type": "code",
   "execution_count": null,
   "metadata": {},
   "outputs": [],
   "source": []
  },
  {
   "cell_type": "code",
   "execution_count": null,
   "metadata": {},
   "outputs": [],
   "source": []
  },
  {
   "cell_type": "code",
   "execution_count": null,
   "metadata": {},
   "outputs": [],
   "source": []
  },
  {
   "cell_type": "code",
   "execution_count": null,
   "metadata": {},
   "outputs": [],
   "source": []
  },
  {
   "cell_type": "code",
   "execution_count": null,
   "metadata": {},
   "outputs": [],
   "source": []
  },
  {
   "cell_type": "code",
   "execution_count": null,
   "metadata": {},
   "outputs": [],
   "source": []
  },
  {
   "cell_type": "code",
   "execution_count": null,
   "metadata": {},
   "outputs": [],
   "source": []
  },
  {
   "cell_type": "code",
   "execution_count": null,
   "metadata": {},
   "outputs": [],
   "source": []
  },
  {
   "cell_type": "code",
   "execution_count": null,
   "metadata": {},
   "outputs": [],
   "source": []
  },
  {
   "cell_type": "code",
   "execution_count": null,
   "metadata": {},
   "outputs": [],
   "source": []
  },
  {
   "cell_type": "code",
   "execution_count": null,
   "metadata": {},
   "outputs": [],
   "source": []
  },
  {
   "cell_type": "code",
   "execution_count": null,
   "metadata": {},
   "outputs": [],
   "source": []
  },
  {
   "cell_type": "code",
   "execution_count": null,
   "metadata": {},
   "outputs": [],
   "source": []
  },
  {
   "cell_type": "code",
   "execution_count": null,
   "metadata": {},
   "outputs": [],
   "source": []
  },
  {
   "cell_type": "code",
   "execution_count": null,
   "metadata": {},
   "outputs": [],
   "source": []
  },
  {
   "cell_type": "code",
   "execution_count": null,
   "metadata": {},
   "outputs": [],
   "source": []
  },
  {
   "cell_type": "code",
   "execution_count": null,
   "metadata": {},
   "outputs": [],
   "source": []
  },
  {
   "cell_type": "code",
   "execution_count": null,
   "metadata": {},
   "outputs": [],
   "source": []
  },
  {
   "cell_type": "code",
   "execution_count": null,
   "metadata": {},
   "outputs": [],
   "source": []
  },
  {
   "cell_type": "code",
   "execution_count": null,
   "metadata": {},
   "outputs": [],
   "source": []
  },
  {
   "cell_type": "code",
   "execution_count": null,
   "metadata": {},
   "outputs": [],
   "source": []
  },
  {
   "cell_type": "code",
   "execution_count": null,
   "metadata": {},
   "outputs": [],
   "source": []
  },
  {
   "cell_type": "code",
   "execution_count": null,
   "metadata": {},
   "outputs": [],
   "source": []
  },
  {
   "cell_type": "code",
   "execution_count": null,
   "metadata": {},
   "outputs": [],
   "source": []
  },
  {
   "cell_type": "code",
   "execution_count": null,
   "metadata": {},
   "outputs": [],
   "source": []
  },
  {
   "cell_type": "code",
   "execution_count": null,
   "metadata": {},
   "outputs": [],
   "source": []
  },
  {
   "cell_type": "code",
   "execution_count": null,
   "metadata": {},
   "outputs": [],
   "source": []
  },
  {
   "cell_type": "code",
   "execution_count": null,
   "metadata": {},
   "outputs": [],
   "source": []
  },
  {
   "cell_type": "code",
   "execution_count": null,
   "metadata": {},
   "outputs": [],
   "source": []
  },
  {
   "cell_type": "code",
   "execution_count": null,
   "metadata": {},
   "outputs": [],
   "source": []
  },
  {
   "cell_type": "code",
   "execution_count": null,
   "metadata": {},
   "outputs": [],
   "source": []
  },
  {
   "cell_type": "code",
   "execution_count": null,
   "metadata": {},
   "outputs": [],
   "source": []
  },
  {
   "cell_type": "code",
   "execution_count": null,
   "metadata": {},
   "outputs": [],
   "source": []
  },
  {
   "cell_type": "code",
   "execution_count": null,
   "metadata": {},
   "outputs": [],
   "source": []
  },
  {
   "cell_type": "code",
   "execution_count": null,
   "metadata": {},
   "outputs": [],
   "source": []
  },
  {
   "cell_type": "code",
   "execution_count": null,
   "metadata": {},
   "outputs": [],
   "source": []
  },
  {
   "cell_type": "code",
   "execution_count": null,
   "metadata": {},
   "outputs": [],
   "source": []
  },
  {
   "cell_type": "code",
   "execution_count": null,
   "metadata": {},
   "outputs": [],
   "source": []
  },
  {
   "cell_type": "code",
   "execution_count": null,
   "metadata": {},
   "outputs": [],
   "source": []
  },
  {
   "cell_type": "code",
   "execution_count": null,
   "metadata": {},
   "outputs": [],
   "source": []
  },
  {
   "cell_type": "code",
   "execution_count": null,
   "metadata": {},
   "outputs": [],
   "source": []
  },
  {
   "cell_type": "code",
   "execution_count": null,
   "metadata": {},
   "outputs": [],
   "source": []
  },
  {
   "cell_type": "code",
   "execution_count": null,
   "metadata": {},
   "outputs": [],
   "source": []
  },
  {
   "cell_type": "code",
   "execution_count": null,
   "metadata": {},
   "outputs": [],
   "source": []
  },
  {
   "cell_type": "code",
   "execution_count": null,
   "metadata": {},
   "outputs": [],
   "source": []
  },
  {
   "cell_type": "code",
   "execution_count": null,
   "metadata": {},
   "outputs": [],
   "source": []
  },
  {
   "cell_type": "code",
   "execution_count": null,
   "metadata": {},
   "outputs": [],
   "source": []
  },
  {
   "cell_type": "code",
   "execution_count": null,
   "metadata": {},
   "outputs": [],
   "source": []
  },
  {
   "cell_type": "code",
   "execution_count": null,
   "metadata": {},
   "outputs": [],
   "source": []
  },
  {
   "cell_type": "code",
   "execution_count": null,
   "metadata": {},
   "outputs": [],
   "source": []
  },
  {
   "cell_type": "code",
   "execution_count": null,
   "metadata": {},
   "outputs": [],
   "source": []
  },
  {
   "cell_type": "code",
   "execution_count": null,
   "metadata": {},
   "outputs": [],
   "source": []
  },
  {
   "cell_type": "code",
   "execution_count": null,
   "metadata": {},
   "outputs": [],
   "source": []
  },
  {
   "cell_type": "code",
   "execution_count": null,
   "metadata": {},
   "outputs": [],
   "source": []
  },
  {
   "cell_type": "code",
   "execution_count": null,
   "metadata": {},
   "outputs": [],
   "source": []
  },
  {
   "cell_type": "code",
   "execution_count": null,
   "metadata": {},
   "outputs": [],
   "source": []
  },
  {
   "cell_type": "code",
   "execution_count": null,
   "metadata": {},
   "outputs": [],
   "source": []
  },
  {
   "cell_type": "code",
   "execution_count": null,
   "metadata": {},
   "outputs": [],
   "source": []
  },
  {
   "cell_type": "code",
   "execution_count": null,
   "metadata": {},
   "outputs": [],
   "source": []
  },
  {
   "cell_type": "code",
   "execution_count": null,
   "metadata": {},
   "outputs": [],
   "source": []
  },
  {
   "cell_type": "code",
   "execution_count": null,
   "metadata": {},
   "outputs": [],
   "source": []
  },
  {
   "cell_type": "code",
   "execution_count": null,
   "metadata": {},
   "outputs": [],
   "source": []
  },
  {
   "cell_type": "code",
   "execution_count": null,
   "metadata": {},
   "outputs": [],
   "source": []
  },
  {
   "cell_type": "code",
   "execution_count": null,
   "metadata": {},
   "outputs": [],
   "source": []
  },
  {
   "cell_type": "code",
   "execution_count": null,
   "metadata": {},
   "outputs": [],
   "source": []
  },
  {
   "cell_type": "code",
   "execution_count": null,
   "metadata": {},
   "outputs": [],
   "source": []
  },
  {
   "cell_type": "code",
   "execution_count": null,
   "metadata": {},
   "outputs": [],
   "source": []
  },
  {
   "cell_type": "code",
   "execution_count": null,
   "metadata": {},
   "outputs": [],
   "source": []
  },
  {
   "cell_type": "code",
   "execution_count": null,
   "metadata": {},
   "outputs": [],
   "source": []
  },
  {
   "cell_type": "code",
   "execution_count": null,
   "metadata": {},
   "outputs": [],
   "source": []
  },
  {
   "cell_type": "code",
   "execution_count": null,
   "metadata": {},
   "outputs": [],
   "source": []
  },
  {
   "cell_type": "code",
   "execution_count": null,
   "metadata": {},
   "outputs": [],
   "source": []
  },
  {
   "cell_type": "code",
   "execution_count": null,
   "metadata": {},
   "outputs": [],
   "source": []
  },
  {
   "cell_type": "code",
   "execution_count": null,
   "metadata": {},
   "outputs": [],
   "source": []
  },
  {
   "cell_type": "code",
   "execution_count": null,
   "metadata": {},
   "outputs": [],
   "source": []
  },
  {
   "cell_type": "code",
   "execution_count": null,
   "metadata": {},
   "outputs": [],
   "source": []
  },
  {
   "cell_type": "code",
   "execution_count": null,
   "metadata": {},
   "outputs": [],
   "source": []
  },
  {
   "cell_type": "code",
   "execution_count": null,
   "metadata": {},
   "outputs": [],
   "source": []
  },
  {
   "cell_type": "code",
   "execution_count": null,
   "metadata": {},
   "outputs": [],
   "source": []
  },
  {
   "cell_type": "code",
   "execution_count": null,
   "metadata": {},
   "outputs": [],
   "source": []
  },
  {
   "cell_type": "code",
   "execution_count": null,
   "metadata": {},
   "outputs": [],
   "source": []
  },
  {
   "cell_type": "code",
   "execution_count": null,
   "metadata": {},
   "outputs": [],
   "source": []
  },
  {
   "cell_type": "code",
   "execution_count": null,
   "metadata": {},
   "outputs": [],
   "source": []
  },
  {
   "cell_type": "code",
   "execution_count": null,
   "metadata": {},
   "outputs": [],
   "source": []
  },
  {
   "cell_type": "code",
   "execution_count": null,
   "metadata": {},
   "outputs": [],
   "source": []
  },
  {
   "cell_type": "code",
   "execution_count": null,
   "metadata": {},
   "outputs": [],
   "source": []
  },
  {
   "cell_type": "code",
   "execution_count": null,
   "metadata": {},
   "outputs": [],
   "source": []
  },
  {
   "cell_type": "code",
   "execution_count": null,
   "metadata": {},
   "outputs": [],
   "source": []
  },
  {
   "cell_type": "code",
   "execution_count": null,
   "metadata": {},
   "outputs": [],
   "source": []
  },
  {
   "cell_type": "code",
   "execution_count": null,
   "metadata": {},
   "outputs": [],
   "source": []
  },
  {
   "cell_type": "code",
   "execution_count": null,
   "metadata": {},
   "outputs": [],
   "source": []
  },
  {
   "cell_type": "code",
   "execution_count": null,
   "metadata": {},
   "outputs": [],
   "source": []
  },
  {
   "cell_type": "code",
   "execution_count": null,
   "metadata": {},
   "outputs": [],
   "source": []
  },
  {
   "cell_type": "code",
   "execution_count": null,
   "metadata": {},
   "outputs": [],
   "source": []
  },
  {
   "cell_type": "code",
   "execution_count": null,
   "metadata": {},
   "outputs": [],
   "source": []
  },
  {
   "cell_type": "code",
   "execution_count": null,
   "metadata": {},
   "outputs": [],
   "source": []
  },
  {
   "cell_type": "code",
   "execution_count": null,
   "metadata": {},
   "outputs": [],
   "source": []
  },
  {
   "cell_type": "code",
   "execution_count": null,
   "metadata": {},
   "outputs": [],
   "source": []
  },
  {
   "cell_type": "code",
   "execution_count": null,
   "metadata": {},
   "outputs": [],
   "source": []
  },
  {
   "cell_type": "code",
   "execution_count": null,
   "metadata": {},
   "outputs": [],
   "source": []
  },
  {
   "cell_type": "code",
   "execution_count": null,
   "metadata": {},
   "outputs": [],
   "source": []
  },
  {
   "cell_type": "code",
   "execution_count": null,
   "metadata": {},
   "outputs": [],
   "source": []
  },
  {
   "cell_type": "code",
   "execution_count": null,
   "metadata": {},
   "outputs": [],
   "source": []
  },
  {
   "cell_type": "code",
   "execution_count": null,
   "metadata": {},
   "outputs": [],
   "source": []
  },
  {
   "cell_type": "code",
   "execution_count": null,
   "metadata": {},
   "outputs": [],
   "source": []
  },
  {
   "cell_type": "code",
   "execution_count": null,
   "metadata": {},
   "outputs": [],
   "source": []
  },
  {
   "cell_type": "code",
   "execution_count": null,
   "metadata": {},
   "outputs": [],
   "source": []
  },
  {
   "cell_type": "code",
   "execution_count": null,
   "metadata": {},
   "outputs": [],
   "source": []
  },
  {
   "cell_type": "code",
   "execution_count": null,
   "metadata": {},
   "outputs": [],
   "source": []
  },
  {
   "cell_type": "code",
   "execution_count": null,
   "metadata": {},
   "outputs": [],
   "source": []
  },
  {
   "cell_type": "code",
   "execution_count": null,
   "metadata": {},
   "outputs": [],
   "source": []
  },
  {
   "cell_type": "code",
   "execution_count": null,
   "metadata": {},
   "outputs": [],
   "source": []
  },
  {
   "cell_type": "code",
   "execution_count": null,
   "metadata": {},
   "outputs": [],
   "source": []
  },
  {
   "cell_type": "code",
   "execution_count": null,
   "metadata": {},
   "outputs": [],
   "source": []
  },
  {
   "cell_type": "code",
   "execution_count": null,
   "metadata": {},
   "outputs": [],
   "source": []
  },
  {
   "cell_type": "code",
   "execution_count": null,
   "metadata": {},
   "outputs": [],
   "source": []
  },
  {
   "cell_type": "code",
   "execution_count": null,
   "metadata": {},
   "outputs": [],
   "source": []
  },
  {
   "cell_type": "code",
   "execution_count": null,
   "metadata": {},
   "outputs": [],
   "source": []
  },
  {
   "cell_type": "code",
   "execution_count": null,
   "metadata": {},
   "outputs": [],
   "source": []
  },
  {
   "cell_type": "code",
   "execution_count": null,
   "metadata": {},
   "outputs": [],
   "source": []
  },
  {
   "cell_type": "code",
   "execution_count": null,
   "metadata": {},
   "outputs": [],
   "source": []
  },
  {
   "cell_type": "code",
   "execution_count": null,
   "metadata": {},
   "outputs": [],
   "source": []
  },
  {
   "cell_type": "code",
   "execution_count": null,
   "metadata": {},
   "outputs": [],
   "source": []
  },
  {
   "cell_type": "code",
   "execution_count": null,
   "metadata": {},
   "outputs": [],
   "source": []
  },
  {
   "cell_type": "code",
   "execution_count": null,
   "metadata": {},
   "outputs": [],
   "source": []
  },
  {
   "cell_type": "code",
   "execution_count": null,
   "metadata": {},
   "outputs": [],
   "source": []
  },
  {
   "cell_type": "code",
   "execution_count": null,
   "metadata": {},
   "outputs": [],
   "source": []
  },
  {
   "cell_type": "code",
   "execution_count": null,
   "metadata": {},
   "outputs": [],
   "source": []
  },
  {
   "cell_type": "code",
   "execution_count": null,
   "metadata": {},
   "outputs": [],
   "source": []
  },
  {
   "cell_type": "code",
   "execution_count": null,
   "metadata": {},
   "outputs": [],
   "source": []
  },
  {
   "cell_type": "code",
   "execution_count": null,
   "metadata": {},
   "outputs": [],
   "source": []
  },
  {
   "cell_type": "code",
   "execution_count": null,
   "metadata": {},
   "outputs": [],
   "source": []
  },
  {
   "cell_type": "code",
   "execution_count": null,
   "metadata": {},
   "outputs": [],
   "source": []
  },
  {
   "cell_type": "code",
   "execution_count": null,
   "metadata": {},
   "outputs": [],
   "source": []
  },
  {
   "cell_type": "code",
   "execution_count": null,
   "metadata": {},
   "outputs": [],
   "source": []
  },
  {
   "cell_type": "code",
   "execution_count": null,
   "metadata": {},
   "outputs": [],
   "source": []
  },
  {
   "cell_type": "code",
   "execution_count": null,
   "metadata": {},
   "outputs": [],
   "source": []
  },
  {
   "cell_type": "code",
   "execution_count": null,
   "metadata": {},
   "outputs": [],
   "source": []
  },
  {
   "cell_type": "code",
   "execution_count": null,
   "metadata": {},
   "outputs": [],
   "source": []
  },
  {
   "cell_type": "code",
   "execution_count": null,
   "metadata": {},
   "outputs": [],
   "source": []
  },
  {
   "cell_type": "code",
   "execution_count": null,
   "metadata": {},
   "outputs": [],
   "source": []
  },
  {
   "cell_type": "code",
   "execution_count": null,
   "metadata": {},
   "outputs": [],
   "source": []
  },
  {
   "cell_type": "code",
   "execution_count": null,
   "metadata": {},
   "outputs": [],
   "source": []
  },
  {
   "cell_type": "code",
   "execution_count": null,
   "metadata": {},
   "outputs": [],
   "source": []
  },
  {
   "cell_type": "code",
   "execution_count": null,
   "metadata": {},
   "outputs": [],
   "source": []
  },
  {
   "cell_type": "code",
   "execution_count": null,
   "metadata": {},
   "outputs": [],
   "source": []
  },
  {
   "cell_type": "code",
   "execution_count": null,
   "metadata": {},
   "outputs": [],
   "source": []
  },
  {
   "cell_type": "code",
   "execution_count": null,
   "metadata": {},
   "outputs": [],
   "source": []
  },
  {
   "cell_type": "code",
   "execution_count": null,
   "metadata": {},
   "outputs": [],
   "source": []
  },
  {
   "cell_type": "code",
   "execution_count": null,
   "metadata": {},
   "outputs": [],
   "source": []
  },
  {
   "cell_type": "code",
   "execution_count": null,
   "metadata": {},
   "outputs": [],
   "source": []
  },
  {
   "cell_type": "code",
   "execution_count": null,
   "metadata": {},
   "outputs": [],
   "source": []
  },
  {
   "cell_type": "code",
   "execution_count": null,
   "metadata": {},
   "outputs": [],
   "source": []
  },
  {
   "cell_type": "code",
   "execution_count": null,
   "metadata": {},
   "outputs": [],
   "source": []
  },
  {
   "cell_type": "code",
   "execution_count": null,
   "metadata": {},
   "outputs": [],
   "source": []
  },
  {
   "cell_type": "code",
   "execution_count": null,
   "metadata": {},
   "outputs": [],
   "source": []
  },
  {
   "cell_type": "code",
   "execution_count": null,
   "metadata": {},
   "outputs": [],
   "source": []
  },
  {
   "cell_type": "code",
   "execution_count": null,
   "metadata": {},
   "outputs": [],
   "source": []
  },
  {
   "cell_type": "code",
   "execution_count": null,
   "metadata": {},
   "outputs": [],
   "source": []
  },
  {
   "cell_type": "code",
   "execution_count": null,
   "metadata": {},
   "outputs": [],
   "source": []
  },
  {
   "cell_type": "code",
   "execution_count": null,
   "metadata": {},
   "outputs": [],
   "source": []
  },
  {
   "cell_type": "code",
   "execution_count": null,
   "metadata": {},
   "outputs": [],
   "source": []
  },
  {
   "cell_type": "code",
   "execution_count": null,
   "metadata": {},
   "outputs": [],
   "source": []
  },
  {
   "cell_type": "code",
   "execution_count": null,
   "metadata": {},
   "outputs": [],
   "source": []
  },
  {
   "cell_type": "code",
   "execution_count": null,
   "metadata": {},
   "outputs": [],
   "source": []
  },
  {
   "cell_type": "code",
   "execution_count": null,
   "metadata": {},
   "outputs": [],
   "source": []
  },
  {
   "cell_type": "code",
   "execution_count": null,
   "metadata": {},
   "outputs": [],
   "source": []
  },
  {
   "cell_type": "code",
   "execution_count": null,
   "metadata": {},
   "outputs": [],
   "source": []
  },
  {
   "cell_type": "code",
   "execution_count": null,
   "metadata": {},
   "outputs": [],
   "source": []
  },
  {
   "cell_type": "code",
   "execution_count": null,
   "metadata": {},
   "outputs": [],
   "source": []
  },
  {
   "cell_type": "code",
   "execution_count": null,
   "metadata": {},
   "outputs": [],
   "source": []
  },
  {
   "cell_type": "code",
   "execution_count": null,
   "metadata": {},
   "outputs": [],
   "source": []
  },
  {
   "cell_type": "code",
   "execution_count": null,
   "metadata": {},
   "outputs": [],
   "source": []
  },
  {
   "cell_type": "code",
   "execution_count": null,
   "metadata": {},
   "outputs": [],
   "source": []
  },
  {
   "cell_type": "code",
   "execution_count": null,
   "metadata": {},
   "outputs": [],
   "source": []
  },
  {
   "cell_type": "code",
   "execution_count": null,
   "metadata": {},
   "outputs": [],
   "source": []
  },
  {
   "cell_type": "code",
   "execution_count": null,
   "metadata": {},
   "outputs": [],
   "source": []
  },
  {
   "cell_type": "code",
   "execution_count": null,
   "metadata": {},
   "outputs": [],
   "source": []
  },
  {
   "cell_type": "code",
   "execution_count": null,
   "metadata": {},
   "outputs": [],
   "source": []
  },
  {
   "cell_type": "code",
   "execution_count": null,
   "metadata": {},
   "outputs": [],
   "source": []
  },
  {
   "cell_type": "code",
   "execution_count": null,
   "metadata": {},
   "outputs": [],
   "source": []
  },
  {
   "cell_type": "code",
   "execution_count": null,
   "metadata": {},
   "outputs": [],
   "source": []
  },
  {
   "cell_type": "code",
   "execution_count": null,
   "metadata": {},
   "outputs": [],
   "source": []
  },
  {
   "cell_type": "code",
   "execution_count": null,
   "metadata": {},
   "outputs": [],
   "source": []
  },
  {
   "cell_type": "code",
   "execution_count": null,
   "metadata": {},
   "outputs": [],
   "source": []
  },
  {
   "cell_type": "code",
   "execution_count": null,
   "metadata": {},
   "outputs": [],
   "source": []
  },
  {
   "cell_type": "code",
   "execution_count": null,
   "metadata": {},
   "outputs": [],
   "source": []
  },
  {
   "cell_type": "code",
   "execution_count": null,
   "metadata": {},
   "outputs": [],
   "source": []
  },
  {
   "cell_type": "code",
   "execution_count": null,
   "metadata": {},
   "outputs": [],
   "source": []
  },
  {
   "cell_type": "code",
   "execution_count": null,
   "metadata": {},
   "outputs": [],
   "source": []
  },
  {
   "cell_type": "code",
   "execution_count": null,
   "metadata": {},
   "outputs": [],
   "source": []
  },
  {
   "cell_type": "code",
   "execution_count": null,
   "metadata": {},
   "outputs": [],
   "source": []
  },
  {
   "cell_type": "code",
   "execution_count": null,
   "metadata": {},
   "outputs": [],
   "source": []
  },
  {
   "cell_type": "code",
   "execution_count": null,
   "metadata": {},
   "outputs": [],
   "source": []
  },
  {
   "cell_type": "code",
   "execution_count": null,
   "metadata": {},
   "outputs": [],
   "source": []
  },
  {
   "cell_type": "code",
   "execution_count": null,
   "metadata": {},
   "outputs": [],
   "source": []
  },
  {
   "cell_type": "code",
   "execution_count": null,
   "metadata": {},
   "outputs": [],
   "source": []
  },
  {
   "cell_type": "code",
   "execution_count": null,
   "metadata": {},
   "outputs": [],
   "source": []
  },
  {
   "cell_type": "code",
   "execution_count": null,
   "metadata": {},
   "outputs": [],
   "source": []
  },
  {
   "cell_type": "code",
   "execution_count": null,
   "metadata": {},
   "outputs": [],
   "source": []
  },
  {
   "cell_type": "code",
   "execution_count": null,
   "metadata": {},
   "outputs": [],
   "source": []
  },
  {
   "cell_type": "code",
   "execution_count": null,
   "metadata": {},
   "outputs": [],
   "source": []
  },
  {
   "cell_type": "code",
   "execution_count": null,
   "metadata": {},
   "outputs": [],
   "source": []
  },
  {
   "cell_type": "code",
   "execution_count": null,
   "metadata": {},
   "outputs": [],
   "source": []
  },
  {
   "cell_type": "code",
   "execution_count": null,
   "metadata": {},
   "outputs": [],
   "source": []
  },
  {
   "cell_type": "code",
   "execution_count": null,
   "metadata": {},
   "outputs": [],
   "source": []
  },
  {
   "cell_type": "code",
   "execution_count": null,
   "metadata": {},
   "outputs": [],
   "source": []
  },
  {
   "cell_type": "code",
   "execution_count": null,
   "metadata": {},
   "outputs": [],
   "source": []
  },
  {
   "cell_type": "code",
   "execution_count": null,
   "metadata": {},
   "outputs": [],
   "source": []
  },
  {
   "cell_type": "code",
   "execution_count": null,
   "metadata": {},
   "outputs": [],
   "source": []
  },
  {
   "cell_type": "code",
   "execution_count": null,
   "metadata": {},
   "outputs": [],
   "source": []
  },
  {
   "cell_type": "code",
   "execution_count": null,
   "metadata": {},
   "outputs": [],
   "source": []
  },
  {
   "cell_type": "code",
   "execution_count": null,
   "metadata": {},
   "outputs": [],
   "source": []
  },
  {
   "cell_type": "code",
   "execution_count": null,
   "metadata": {},
   "outputs": [],
   "source": []
  },
  {
   "cell_type": "code",
   "execution_count": null,
   "metadata": {},
   "outputs": [],
   "source": []
  },
  {
   "cell_type": "code",
   "execution_count": null,
   "metadata": {},
   "outputs": [],
   "source": []
  },
  {
   "cell_type": "code",
   "execution_count": null,
   "metadata": {},
   "outputs": [],
   "source": []
  },
  {
   "cell_type": "code",
   "execution_count": null,
   "metadata": {},
   "outputs": [],
   "source": []
  },
  {
   "cell_type": "code",
   "execution_count": null,
   "metadata": {},
   "outputs": [],
   "source": []
  },
  {
   "cell_type": "code",
   "execution_count": null,
   "metadata": {},
   "outputs": [],
   "source": []
  },
  {
   "cell_type": "code",
   "execution_count": null,
   "metadata": {},
   "outputs": [],
   "source": []
  },
  {
   "cell_type": "code",
   "execution_count": null,
   "metadata": {},
   "outputs": [],
   "source": []
  },
  {
   "cell_type": "code",
   "execution_count": null,
   "metadata": {},
   "outputs": [],
   "source": []
  },
  {
   "cell_type": "code",
   "execution_count": null,
   "metadata": {},
   "outputs": [],
   "source": []
  },
  {
   "cell_type": "code",
   "execution_count": null,
   "metadata": {},
   "outputs": [],
   "source": []
  },
  {
   "cell_type": "code",
   "execution_count": null,
   "metadata": {},
   "outputs": [],
   "source": []
  },
  {
   "cell_type": "code",
   "execution_count": null,
   "metadata": {},
   "outputs": [],
   "source": []
  },
  {
   "cell_type": "code",
   "execution_count": null,
   "metadata": {},
   "outputs": [],
   "source": []
  },
  {
   "cell_type": "code",
   "execution_count": null,
   "metadata": {},
   "outputs": [],
   "source": []
  },
  {
   "cell_type": "code",
   "execution_count": null,
   "metadata": {},
   "outputs": [],
   "source": []
  },
  {
   "cell_type": "code",
   "execution_count": null,
   "metadata": {},
   "outputs": [],
   "source": []
  },
  {
   "cell_type": "code",
   "execution_count": null,
   "metadata": {},
   "outputs": [],
   "source": []
  },
  {
   "cell_type": "code",
   "execution_count": null,
   "metadata": {},
   "outputs": [],
   "source": []
  },
  {
   "cell_type": "code",
   "execution_count": null,
   "metadata": {},
   "outputs": [],
   "source": []
  },
  {
   "cell_type": "code",
   "execution_count": null,
   "metadata": {},
   "outputs": [],
   "source": []
  },
  {
   "cell_type": "code",
   "execution_count": null,
   "metadata": {},
   "outputs": [],
   "source": []
  },
  {
   "cell_type": "code",
   "execution_count": null,
   "metadata": {},
   "outputs": [],
   "source": []
  },
  {
   "cell_type": "code",
   "execution_count": null,
   "metadata": {},
   "outputs": [],
   "source": []
  },
  {
   "cell_type": "code",
   "execution_count": null,
   "metadata": {},
   "outputs": [],
   "source": []
  },
  {
   "cell_type": "code",
   "execution_count": null,
   "metadata": {},
   "outputs": [],
   "source": []
  },
  {
   "cell_type": "code",
   "execution_count": null,
   "metadata": {},
   "outputs": [],
   "source": []
  },
  {
   "cell_type": "code",
   "execution_count": null,
   "metadata": {},
   "outputs": [],
   "source": []
  },
  {
   "cell_type": "code",
   "execution_count": null,
   "metadata": {},
   "outputs": [],
   "source": []
  },
  {
   "cell_type": "code",
   "execution_count": null,
   "metadata": {},
   "outputs": [],
   "source": []
  },
  {
   "cell_type": "code",
   "execution_count": null,
   "metadata": {},
   "outputs": [],
   "source": []
  },
  {
   "cell_type": "code",
   "execution_count": null,
   "metadata": {},
   "outputs": [],
   "source": []
  },
  {
   "cell_type": "code",
   "execution_count": null,
   "metadata": {},
   "outputs": [],
   "source": []
  },
  {
   "cell_type": "code",
   "execution_count": null,
   "metadata": {},
   "outputs": [],
   "source": []
  },
  {
   "cell_type": "code",
   "execution_count": null,
   "metadata": {},
   "outputs": [],
   "source": []
  },
  {
   "cell_type": "code",
   "execution_count": null,
   "metadata": {},
   "outputs": [],
   "source": []
  },
  {
   "cell_type": "code",
   "execution_count": null,
   "metadata": {},
   "outputs": [],
   "source": []
  },
  {
   "cell_type": "code",
   "execution_count": null,
   "metadata": {},
   "outputs": [],
   "source": []
  },
  {
   "cell_type": "code",
   "execution_count": null,
   "metadata": {},
   "outputs": [],
   "source": []
  },
  {
   "cell_type": "code",
   "execution_count": null,
   "metadata": {},
   "outputs": [],
   "source": []
  },
  {
   "cell_type": "code",
   "execution_count": null,
   "metadata": {},
   "outputs": [],
   "source": []
  },
  {
   "cell_type": "code",
   "execution_count": null,
   "metadata": {},
   "outputs": [],
   "source": []
  },
  {
   "cell_type": "code",
   "execution_count": null,
   "metadata": {},
   "outputs": [],
   "source": []
  },
  {
   "cell_type": "code",
   "execution_count": null,
   "metadata": {},
   "outputs": [],
   "source": []
  },
  {
   "cell_type": "code",
   "execution_count": null,
   "metadata": {},
   "outputs": [],
   "source": []
  },
  {
   "cell_type": "code",
   "execution_count": null,
   "metadata": {},
   "outputs": [],
   "source": []
  },
  {
   "cell_type": "code",
   "execution_count": null,
   "metadata": {},
   "outputs": [],
   "source": []
  },
  {
   "cell_type": "code",
   "execution_count": null,
   "metadata": {},
   "outputs": [],
   "source": []
  },
  {
   "cell_type": "code",
   "execution_count": null,
   "metadata": {},
   "outputs": [],
   "source": []
  },
  {
   "cell_type": "code",
   "execution_count": null,
   "metadata": {},
   "outputs": [],
   "source": []
  },
  {
   "cell_type": "code",
   "execution_count": null,
   "metadata": {},
   "outputs": [],
   "source": []
  },
  {
   "cell_type": "code",
   "execution_count": null,
   "metadata": {},
   "outputs": [],
   "source": []
  },
  {
   "cell_type": "code",
   "execution_count": null,
   "metadata": {},
   "outputs": [],
   "source": []
  },
  {
   "cell_type": "code",
   "execution_count": null,
   "metadata": {},
   "outputs": [],
   "source": []
  },
  {
   "cell_type": "code",
   "execution_count": null,
   "metadata": {},
   "outputs": [],
   "source": []
  },
  {
   "cell_type": "code",
   "execution_count": null,
   "metadata": {},
   "outputs": [],
   "source": []
  },
  {
   "cell_type": "code",
   "execution_count": null,
   "metadata": {},
   "outputs": [],
   "source": []
  },
  {
   "cell_type": "code",
   "execution_count": null,
   "metadata": {},
   "outputs": [],
   "source": []
  },
  {
   "cell_type": "code",
   "execution_count": null,
   "metadata": {},
   "outputs": [],
   "source": []
  },
  {
   "cell_type": "code",
   "execution_count": null,
   "metadata": {},
   "outputs": [],
   "source": []
  },
  {
   "cell_type": "code",
   "execution_count": null,
   "metadata": {},
   "outputs": [],
   "source": []
  },
  {
   "cell_type": "code",
   "execution_count": null,
   "metadata": {},
   "outputs": [],
   "source": []
  },
  {
   "cell_type": "code",
   "execution_count": null,
   "metadata": {},
   "outputs": [],
   "source": []
  },
  {
   "cell_type": "code",
   "execution_count": null,
   "metadata": {},
   "outputs": [],
   "source": []
  },
  {
   "cell_type": "code",
   "execution_count": null,
   "metadata": {},
   "outputs": [],
   "source": []
  },
  {
   "cell_type": "code",
   "execution_count": null,
   "metadata": {},
   "outputs": [],
   "source": []
  },
  {
   "cell_type": "code",
   "execution_count": null,
   "metadata": {},
   "outputs": [],
   "source": []
  },
  {
   "cell_type": "code",
   "execution_count": null,
   "metadata": {},
   "outputs": [],
   "source": []
  },
  {
   "cell_type": "code",
   "execution_count": null,
   "metadata": {},
   "outputs": [],
   "source": []
  },
  {
   "cell_type": "code",
   "execution_count": null,
   "metadata": {},
   "outputs": [],
   "source": []
  },
  {
   "cell_type": "code",
   "execution_count": null,
   "metadata": {},
   "outputs": [],
   "source": []
  },
  {
   "cell_type": "code",
   "execution_count": null,
   "metadata": {},
   "outputs": [],
   "source": []
  },
  {
   "cell_type": "code",
   "execution_count": null,
   "metadata": {},
   "outputs": [],
   "source": []
  },
  {
   "cell_type": "code",
   "execution_count": null,
   "metadata": {},
   "outputs": [],
   "source": []
  },
  {
   "cell_type": "code",
   "execution_count": null,
   "metadata": {},
   "outputs": [],
   "source": []
  },
  {
   "cell_type": "code",
   "execution_count": null,
   "metadata": {},
   "outputs": [],
   "source": []
  },
  {
   "cell_type": "code",
   "execution_count": null,
   "metadata": {},
   "outputs": [],
   "source": []
  },
  {
   "cell_type": "code",
   "execution_count": null,
   "metadata": {},
   "outputs": [],
   "source": []
  },
  {
   "cell_type": "code",
   "execution_count": null,
   "metadata": {},
   "outputs": [],
   "source": []
  },
  {
   "cell_type": "code",
   "execution_count": null,
   "metadata": {},
   "outputs": [],
   "source": []
  },
  {
   "cell_type": "code",
   "execution_count": null,
   "metadata": {},
   "outputs": [],
   "source": []
  },
  {
   "cell_type": "code",
   "execution_count": null,
   "metadata": {},
   "outputs": [],
   "source": []
  },
  {
   "cell_type": "code",
   "execution_count": null,
   "metadata": {},
   "outputs": [],
   "source": []
  },
  {
   "cell_type": "code",
   "execution_count": null,
   "metadata": {},
   "outputs": [],
   "source": []
  },
  {
   "cell_type": "code",
   "execution_count": null,
   "metadata": {},
   "outputs": [],
   "source": []
  },
  {
   "cell_type": "code",
   "execution_count": null,
   "metadata": {},
   "outputs": [],
   "source": []
  },
  {
   "cell_type": "code",
   "execution_count": null,
   "metadata": {},
   "outputs": [],
   "source": []
  },
  {
   "cell_type": "code",
   "execution_count": null,
   "metadata": {},
   "outputs": [],
   "source": []
  },
  {
   "cell_type": "code",
   "execution_count": null,
   "metadata": {},
   "outputs": [],
   "source": []
  },
  {
   "cell_type": "code",
   "execution_count": null,
   "metadata": {},
   "outputs": [],
   "source": []
  },
  {
   "cell_type": "code",
   "execution_count": null,
   "metadata": {},
   "outputs": [],
   "source": []
  },
  {
   "cell_type": "code",
   "execution_count": null,
   "metadata": {},
   "outputs": [],
   "source": []
  },
  {
   "cell_type": "code",
   "execution_count": null,
   "metadata": {},
   "outputs": [],
   "source": []
  },
  {
   "cell_type": "code",
   "execution_count": null,
   "metadata": {},
   "outputs": [],
   "source": []
  },
  {
   "cell_type": "code",
   "execution_count": null,
   "metadata": {},
   "outputs": [],
   "source": []
  },
  {
   "cell_type": "code",
   "execution_count": null,
   "metadata": {},
   "outputs": [],
   "source": []
  },
  {
   "cell_type": "code",
   "execution_count": null,
   "metadata": {},
   "outputs": [],
   "source": []
  },
  {
   "cell_type": "code",
   "execution_count": null,
   "metadata": {},
   "outputs": [],
   "source": []
  },
  {
   "cell_type": "code",
   "execution_count": null,
   "metadata": {},
   "outputs": [],
   "source": []
  },
  {
   "cell_type": "code",
   "execution_count": null,
   "metadata": {},
   "outputs": [],
   "source": []
  },
  {
   "cell_type": "code",
   "execution_count": null,
   "metadata": {},
   "outputs": [],
   "source": []
  },
  {
   "cell_type": "code",
   "execution_count": null,
   "metadata": {},
   "outputs": [],
   "source": []
  },
  {
   "cell_type": "code",
   "execution_count": null,
   "metadata": {},
   "outputs": [],
   "source": []
  },
  {
   "cell_type": "code",
   "execution_count": null,
   "metadata": {},
   "outputs": [],
   "source": []
  },
  {
   "cell_type": "code",
   "execution_count": null,
   "metadata": {},
   "outputs": [],
   "source": []
  },
  {
   "cell_type": "code",
   "execution_count": null,
   "metadata": {},
   "outputs": [],
   "source": []
  },
  {
   "cell_type": "code",
   "execution_count": null,
   "metadata": {},
   "outputs": [],
   "source": []
  },
  {
   "cell_type": "code",
   "execution_count": null,
   "metadata": {},
   "outputs": [],
   "source": []
  },
  {
   "cell_type": "code",
   "execution_count": null,
   "metadata": {},
   "outputs": [],
   "source": []
  },
  {
   "cell_type": "code",
   "execution_count": null,
   "metadata": {},
   "outputs": [],
   "source": []
  },
  {
   "cell_type": "code",
   "execution_count": null,
   "metadata": {},
   "outputs": [],
   "source": []
  },
  {
   "cell_type": "code",
   "execution_count": null,
   "metadata": {},
   "outputs": [],
   "source": []
  },
  {
   "cell_type": "code",
   "execution_count": null,
   "metadata": {},
   "outputs": [],
   "source": []
  },
  {
   "cell_type": "code",
   "execution_count": null,
   "metadata": {},
   "outputs": [],
   "source": []
  },
  {
   "cell_type": "code",
   "execution_count": null,
   "metadata": {},
   "outputs": [],
   "source": []
  },
  {
   "cell_type": "code",
   "execution_count": null,
   "metadata": {},
   "outputs": [],
   "source": []
  },
  {
   "cell_type": "code",
   "execution_count": null,
   "metadata": {},
   "outputs": [],
   "source": []
  },
  {
   "cell_type": "code",
   "execution_count": null,
   "metadata": {},
   "outputs": [],
   "source": []
  },
  {
   "cell_type": "code",
   "execution_count": null,
   "metadata": {},
   "outputs": [],
   "source": []
  },
  {
   "cell_type": "code",
   "execution_count": null,
   "metadata": {},
   "outputs": [],
   "source": []
  },
  {
   "cell_type": "code",
   "execution_count": null,
   "metadata": {},
   "outputs": [],
   "source": []
  },
  {
   "cell_type": "code",
   "execution_count": null,
   "metadata": {},
   "outputs": [],
   "source": []
  },
  {
   "cell_type": "code",
   "execution_count": null,
   "metadata": {},
   "outputs": [],
   "source": []
  },
  {
   "cell_type": "code",
   "execution_count": null,
   "metadata": {},
   "outputs": [],
   "source": []
  },
  {
   "cell_type": "code",
   "execution_count": null,
   "metadata": {},
   "outputs": [],
   "source": []
  },
  {
   "cell_type": "code",
   "execution_count": null,
   "metadata": {},
   "outputs": [],
   "source": []
  },
  {
   "cell_type": "code",
   "execution_count": null,
   "metadata": {},
   "outputs": [],
   "source": []
  },
  {
   "cell_type": "code",
   "execution_count": null,
   "metadata": {},
   "outputs": [],
   "source": []
  },
  {
   "cell_type": "code",
   "execution_count": null,
   "metadata": {},
   "outputs": [],
   "source": []
  },
  {
   "cell_type": "code",
   "execution_count": null,
   "metadata": {},
   "outputs": [],
   "source": []
  },
  {
   "cell_type": "code",
   "execution_count": null,
   "metadata": {},
   "outputs": [],
   "source": []
  },
  {
   "cell_type": "code",
   "execution_count": null,
   "metadata": {},
   "outputs": [],
   "source": []
  },
  {
   "cell_type": "code",
   "execution_count": null,
   "metadata": {},
   "outputs": [],
   "source": []
  },
  {
   "cell_type": "code",
   "execution_count": null,
   "metadata": {},
   "outputs": [],
   "source": []
  },
  {
   "cell_type": "code",
   "execution_count": null,
   "metadata": {},
   "outputs": [],
   "source": []
  },
  {
   "cell_type": "code",
   "execution_count": null,
   "metadata": {},
   "outputs": [],
   "source": []
  },
  {
   "cell_type": "code",
   "execution_count": null,
   "metadata": {},
   "outputs": [],
   "source": []
  },
  {
   "cell_type": "code",
   "execution_count": null,
   "metadata": {},
   "outputs": [],
   "source": []
  },
  {
   "cell_type": "code",
   "execution_count": null,
   "metadata": {},
   "outputs": [],
   "source": []
  },
  {
   "cell_type": "code",
   "execution_count": null,
   "metadata": {},
   "outputs": [],
   "source": []
  },
  {
   "cell_type": "code",
   "execution_count": null,
   "metadata": {},
   "outputs": [],
   "source": []
  },
  {
   "cell_type": "code",
   "execution_count": null,
   "metadata": {},
   "outputs": [],
   "source": []
  },
  {
   "cell_type": "code",
   "execution_count": null,
   "metadata": {},
   "outputs": [],
   "source": []
  },
  {
   "cell_type": "code",
   "execution_count": null,
   "metadata": {},
   "outputs": [],
   "source": []
  },
  {
   "cell_type": "code",
   "execution_count": null,
   "metadata": {},
   "outputs": [],
   "source": []
  },
  {
   "cell_type": "code",
   "execution_count": null,
   "metadata": {},
   "outputs": [],
   "source": []
  },
  {
   "cell_type": "code",
   "execution_count": null,
   "metadata": {},
   "outputs": [],
   "source": []
  },
  {
   "cell_type": "code",
   "execution_count": null,
   "metadata": {},
   "outputs": [],
   "source": []
  },
  {
   "cell_type": "code",
   "execution_count": null,
   "metadata": {},
   "outputs": [],
   "source": []
  },
  {
   "cell_type": "code",
   "execution_count": null,
   "metadata": {},
   "outputs": [],
   "source": []
  },
  {
   "cell_type": "code",
   "execution_count": null,
   "metadata": {},
   "outputs": [],
   "source": []
  },
  {
   "cell_type": "code",
   "execution_count": null,
   "metadata": {},
   "outputs": [],
   "source": []
  },
  {
   "cell_type": "code",
   "execution_count": null,
   "metadata": {},
   "outputs": [],
   "source": []
  },
  {
   "cell_type": "code",
   "execution_count": null,
   "metadata": {},
   "outputs": [],
   "source": []
  },
  {
   "cell_type": "code",
   "execution_count": null,
   "metadata": {},
   "outputs": [],
   "source": []
  },
  {
   "cell_type": "code",
   "execution_count": null,
   "metadata": {},
   "outputs": [],
   "source": []
  },
  {
   "cell_type": "code",
   "execution_count": null,
   "metadata": {},
   "outputs": [],
   "source": []
  },
  {
   "cell_type": "code",
   "execution_count": null,
   "metadata": {},
   "outputs": [],
   "source": []
  },
  {
   "cell_type": "code",
   "execution_count": null,
   "metadata": {},
   "outputs": [],
   "source": []
  },
  {
   "cell_type": "code",
   "execution_count": null,
   "metadata": {},
   "outputs": [],
   "source": []
  },
  {
   "cell_type": "code",
   "execution_count": null,
   "metadata": {},
   "outputs": [],
   "source": []
  },
  {
   "cell_type": "code",
   "execution_count": null,
   "metadata": {},
   "outputs": [],
   "source": []
  },
  {
   "cell_type": "code",
   "execution_count": null,
   "metadata": {},
   "outputs": [],
   "source": []
  },
  {
   "cell_type": "code",
   "execution_count": null,
   "metadata": {},
   "outputs": [],
   "source": []
  },
  {
   "cell_type": "code",
   "execution_count": null,
   "metadata": {},
   "outputs": [],
   "source": []
  },
  {
   "cell_type": "code",
   "execution_count": null,
   "metadata": {},
   "outputs": [],
   "source": []
  },
  {
   "cell_type": "code",
   "execution_count": null,
   "metadata": {},
   "outputs": [],
   "source": []
  },
  {
   "cell_type": "code",
   "execution_count": null,
   "metadata": {},
   "outputs": [],
   "source": []
  },
  {
   "cell_type": "code",
   "execution_count": null,
   "metadata": {},
   "outputs": [],
   "source": []
  },
  {
   "cell_type": "code",
   "execution_count": null,
   "metadata": {},
   "outputs": [],
   "source": []
  },
  {
   "cell_type": "code",
   "execution_count": null,
   "metadata": {},
   "outputs": [],
   "source": []
  },
  {
   "cell_type": "code",
   "execution_count": null,
   "metadata": {},
   "outputs": [],
   "source": []
  },
  {
   "cell_type": "code",
   "execution_count": null,
   "metadata": {},
   "outputs": [],
   "source": []
  },
  {
   "cell_type": "code",
   "execution_count": null,
   "metadata": {},
   "outputs": [],
   "source": []
  },
  {
   "cell_type": "code",
   "execution_count": null,
   "metadata": {},
   "outputs": [],
   "source": []
  },
  {
   "cell_type": "code",
   "execution_count": null,
   "metadata": {},
   "outputs": [],
   "source": []
  },
  {
   "cell_type": "code",
   "execution_count": null,
   "metadata": {},
   "outputs": [],
   "source": []
  },
  {
   "cell_type": "code",
   "execution_count": null,
   "metadata": {},
   "outputs": [],
   "source": []
  },
  {
   "cell_type": "code",
   "execution_count": null,
   "metadata": {},
   "outputs": [],
   "source": []
  },
  {
   "cell_type": "code",
   "execution_count": null,
   "metadata": {},
   "outputs": [],
   "source": []
  },
  {
   "cell_type": "code",
   "execution_count": null,
   "metadata": {},
   "outputs": [],
   "source": []
  },
  {
   "cell_type": "code",
   "execution_count": null,
   "metadata": {},
   "outputs": [],
   "source": []
  },
  {
   "cell_type": "code",
   "execution_count": null,
   "metadata": {},
   "outputs": [],
   "source": []
  },
  {
   "cell_type": "code",
   "execution_count": null,
   "metadata": {},
   "outputs": [],
   "source": []
  },
  {
   "cell_type": "code",
   "execution_count": null,
   "metadata": {},
   "outputs": [],
   "source": []
  },
  {
   "cell_type": "code",
   "execution_count": null,
   "metadata": {},
   "outputs": [],
   "source": []
  },
  {
   "cell_type": "code",
   "execution_count": null,
   "metadata": {},
   "outputs": [],
   "source": []
  },
  {
   "cell_type": "code",
   "execution_count": null,
   "metadata": {},
   "outputs": [],
   "source": []
  },
  {
   "cell_type": "code",
   "execution_count": null,
   "metadata": {},
   "outputs": [],
   "source": []
  },
  {
   "cell_type": "code",
   "execution_count": null,
   "metadata": {},
   "outputs": [],
   "source": []
  },
  {
   "cell_type": "code",
   "execution_count": null,
   "metadata": {},
   "outputs": [],
   "source": []
  },
  {
   "cell_type": "code",
   "execution_count": null,
   "metadata": {},
   "outputs": [],
   "source": []
  },
  {
   "cell_type": "code",
   "execution_count": null,
   "metadata": {},
   "outputs": [],
   "source": []
  },
  {
   "cell_type": "code",
   "execution_count": null,
   "metadata": {},
   "outputs": [],
   "source": []
  },
  {
   "cell_type": "code",
   "execution_count": null,
   "metadata": {},
   "outputs": [],
   "source": []
  },
  {
   "cell_type": "code",
   "execution_count": 8,
   "metadata": {},
   "outputs": [
    {
     "data": {
      "text/html": [
       "<div>\n",
       "<style scoped>\n",
       "    .dataframe tbody tr th:only-of-type {\n",
       "        vertical-align: middle;\n",
       "    }\n",
       "\n",
       "    .dataframe tbody tr th {\n",
       "        vertical-align: top;\n",
       "    }\n",
       "\n",
       "    .dataframe thead th {\n",
       "        text-align: right;\n",
       "    }\n",
       "</style>\n",
       "<table border=\"1\" class=\"dataframe\">\n",
       "  <thead>\n",
       "    <tr style=\"text-align: right;\">\n",
       "      <th></th>\n",
       "      <th>Unnamed: 0.1</th>\n",
       "      <th>Unnamed: 0</th>\n",
       "      <th>Timestamp</th>\n",
       "      <th>Username</th>\n",
       "      <th>VideoID</th>\n",
       "      <th>Comment</th>\n",
       "      <th>Date</th>\n",
       "      <th>Modified</th>\n",
       "      <th>NbLikes</th>\n",
       "      <th>join_key</th>\n",
       "      <th>positive</th>\n",
       "      <th>neutral</th>\n",
       "      <th>negative</th>\n",
       "    </tr>\n",
       "  </thead>\n",
       "  <tbody>\n",
       "    <tr>\n",
       "      <th>23</th>\n",
       "      <td>23</td>\n",
       "      <td>23</td>\n",
       "      <td>2024-10-23T00:17:07Z</td>\n",
       "      <td>@artspeakman</td>\n",
       "      <td>Js4qqwdjA9M</td>\n",
       "      <td>Kamala Harris is a Christian hater and a baby ...</td>\n",
       "      <td>2024-10-23T00:17:07Z</td>\n",
       "      <td>True</td>\n",
       "      <td>1</td>\n",
       "      <td>23</td>\n",
       "      <td>0.01</td>\n",
       "      <td>0.01</td>\n",
       "      <td>0.98</td>\n",
       "    </tr>\n",
       "  </tbody>\n",
       "</table>\n",
       "</div>"
      ],
      "text/plain": [
       "    Unnamed: 0.1  Unnamed: 0             Timestamp      Username      VideoID  \\\n",
       "23            23          23  2024-10-23T00:17:07Z  @artspeakman  Js4qqwdjA9M   \n",
       "\n",
       "                                              Comment                  Date  \\\n",
       "23  Kamala Harris is a Christian hater and a baby ...  2024-10-23T00:17:07Z   \n",
       "\n",
       "    Modified  NbLikes  join_key  positive  neutral  negative  \n",
       "23      True        1        23      0.01     0.01      0.98  "
      ]
     },
     "execution_count": 8,
     "metadata": {},
     "output_type": "execute_result"
    }
   ],
   "source": [
    "youtube[youtube[\"Comment\"] == \"Kamala Harris is a Christian hater and a baby hater.\"]"
   ]
  },
  {
   "cell_type": "code",
   "execution_count": 10,
   "metadata": {},
   "outputs": [
    {
     "ename": "NameError",
     "evalue": "name 'reddit' is not defined",
     "output_type": "error",
     "traceback": [
      "\u001b[0;31m---------------------------------------------------------------------------\u001b[0m",
      "\u001b[0;31mNameError\u001b[0m                                 Traceback (most recent call last)",
      "Cell \u001b[0;32mIn[10], line 1\u001b[0m\n\u001b[0;32m----> 1\u001b[0m \u001b[43mreddit\u001b[49m\u001b[38;5;241m.\u001b[39mhead()\n",
      "\u001b[0;31mNameError\u001b[0m: name 'reddit' is not defined"
     ]
    }
   ],
   "source": [
    "reddit.head()"
   ]
  },
  {
   "cell_type": "code",
   "execution_count": 9,
   "metadata": {},
   "outputs": [
    {
     "data": {
      "text/plain": [
       "1936"
      ]
     },
     "execution_count": 9,
     "metadata": {},
     "output_type": "execute_result"
    }
   ],
   "source": [
    "nb_kamala_youtube =  youtube['Comment'].str.contains('kamala', case = False, regex=True).sum()\n",
    "nb_kamala_tiktok =  tiktok['Comment Text'].str.contains('kamala', case = False, regex=True).sum()\n",
    "nb_kamala_reddit = \n",
    "\n",
    "nb_kamala_youtube"
   ]
  },
  {
   "cell_type": "code",
   "execution_count": null,
   "metadata": {},
   "outputs": [],
   "source": []
  }
 ],
 "metadata": {
  "kernelspec": {
   "display_name": "Python 3.12.7 ('venv')",
   "language": "python",
   "name": "python3"
  },
  "language_info": {
   "codemirror_mode": {
    "name": "ipython",
    "version": 3
   },
   "file_extension": ".py",
   "mimetype": "text/x-python",
   "name": "python",
   "nbconvert_exporter": "python",
   "pygments_lexer": "ipython3",
   "version": "3.12.7"
  },
  "orig_nbformat": 4,
  "vscode": {
   "interpreter": {
    "hash": "4dff6d5a207db2a0d221f3b1028f1d86f245e11d9b0d66763e682d9fa3263219"
   }
  }
 },
 "nbformat": 4,
 "nbformat_minor": 2
}
