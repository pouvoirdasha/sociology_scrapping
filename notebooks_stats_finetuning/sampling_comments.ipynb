{
 "cells": [
  {
   "cell_type": "markdown",
   "metadata": {},
   "source": [
    "Notebook to load comments datasets (majorly from tiktok) to randomly sample comments that we will label to help finetune the modle to the brat summer and tiktok vocabulary."
   ]
  },
  {
   "cell_type": "code",
   "execution_count": 10,
   "metadata": {},
   "outputs": [],
   "source": [
    "import pandas as pd\n",
    "import random as rd"
   ]
  },
  {
   "cell_type": "code",
   "execution_count": 4,
   "metadata": {},
   "outputs": [
    {
     "data": {
      "text/html": [
       "<div>\n",
       "<style scoped>\n",
       "    .dataframe tbody tr th:only-of-type {\n",
       "        vertical-align: middle;\n",
       "    }\n",
       "\n",
       "    .dataframe tbody tr th {\n",
       "        vertical-align: top;\n",
       "    }\n",
       "\n",
       "    .dataframe thead th {\n",
       "        text-align: right;\n",
       "    }\n",
       "</style>\n",
       "<table border=\"1\" class=\"dataframe\">\n",
       "  <thead>\n",
       "    <tr style=\"text-align: right;\">\n",
       "      <th></th>\n",
       "      <th>Comment Number (ID)</th>\n",
       "      <th>Number of Replies</th>\n",
       "      <th>shown_comments</th>\n",
       "      <th>scraped_comments</th>\n",
       "      <th>difference</th>\n",
       "    </tr>\n",
       "  </thead>\n",
       "  <tbody>\n",
       "    <tr>\n",
       "      <th>count</th>\n",
       "      <td>18138.000000</td>\n",
       "      <td>18138.000000</td>\n",
       "      <td>18138.000000</td>\n",
       "      <td>18138.000000</td>\n",
       "      <td>18138.000000</td>\n",
       "    </tr>\n",
       "    <tr>\n",
       "      <th>mean</th>\n",
       "      <td>740.753005</td>\n",
       "      <td>0.008546</td>\n",
       "      <td>2624.243687</td>\n",
       "      <td>1480.506009</td>\n",
       "      <td>1143.737678</td>\n",
       "    </tr>\n",
       "    <tr>\n",
       "      <th>std</th>\n",
       "      <td>592.081466</td>\n",
       "      <td>0.291928</td>\n",
       "      <td>1170.696595</td>\n",
       "      <td>709.701988</td>\n",
       "      <td>646.051586</td>\n",
       "    </tr>\n",
       "    <tr>\n",
       "      <th>min</th>\n",
       "      <td>1.000000</td>\n",
       "      <td>0.000000</td>\n",
       "      <td>14.000000</td>\n",
       "      <td>13.000000</td>\n",
       "      <td>1.000000</td>\n",
       "    </tr>\n",
       "    <tr>\n",
       "      <th>25%</th>\n",
       "      <td>266.000000</td>\n",
       "      <td>0.000000</td>\n",
       "      <td>1286.000000</td>\n",
       "      <td>852.000000</td>\n",
       "      <td>596.000000</td>\n",
       "    </tr>\n",
       "    <tr>\n",
       "      <th>50%</th>\n",
       "      <td>585.000000</td>\n",
       "      <td>0.000000</td>\n",
       "      <td>3160.000000</td>\n",
       "      <td>1578.000000</td>\n",
       "      <td>1116.000000</td>\n",
       "    </tr>\n",
       "    <tr>\n",
       "      <th>75%</th>\n",
       "      <td>1099.000000</td>\n",
       "      <td>0.000000</td>\n",
       "      <td>3445.000000</td>\n",
       "      <td>2313.000000</td>\n",
       "      <td>1865.000000</td>\n",
       "    </tr>\n",
       "    <tr>\n",
       "      <th>max</th>\n",
       "      <td>2450.000000</td>\n",
       "      <td>25.000000</td>\n",
       "      <td>4459.000000</td>\n",
       "      <td>2450.000000</td>\n",
       "      <td>2146.000000</td>\n",
       "    </tr>\n",
       "  </tbody>\n",
       "</table>\n",
       "</div>"
      ],
      "text/plain": [
       "       Comment Number (ID)  Number of Replies  shown_comments  \\\n",
       "count         18138.000000       18138.000000    18138.000000   \n",
       "mean            740.753005           0.008546     2624.243687   \n",
       "std             592.081466           0.291928     1170.696595   \n",
       "min               1.000000           0.000000       14.000000   \n",
       "25%             266.000000           0.000000     1286.000000   \n",
       "50%             585.000000           0.000000     3160.000000   \n",
       "75%            1099.000000           0.000000     3445.000000   \n",
       "max            2450.000000          25.000000     4459.000000   \n",
       "\n",
       "       scraped_comments    difference  \n",
       "count      18138.000000  18138.000000  \n",
       "mean        1480.506009   1143.737678  \n",
       "std          709.701988    646.051586  \n",
       "min           13.000000      1.000000  \n",
       "25%          852.000000    596.000000  \n",
       "50%         1578.000000   1116.000000  \n",
       "75%         2313.000000   1865.000000  \n",
       "max         2450.000000   2146.000000  "
      ]
     },
     "execution_count": 4,
     "metadata": {},
     "output_type": "execute_result"
    }
   ],
   "source": [
    "tiktok = pd.read_csv(\"../results/TikTok-comments_12-11-2024_13h26.csv\")\n",
    "tiktok.describe()"
   ]
  },
  {
   "cell_type": "code",
   "execution_count": 17,
   "metadata": {},
   "outputs": [
    {
     "data": {
      "text/html": [
       "<div>\n",
       "<style scoped>\n",
       "    .dataframe tbody tr th:only-of-type {\n",
       "        vertical-align: middle;\n",
       "    }\n",
       "\n",
       "    .dataframe tbody tr th {\n",
       "        vertical-align: top;\n",
       "    }\n",
       "\n",
       "    .dataframe thead th {\n",
       "        text-align: right;\n",
       "    }\n",
       "</style>\n",
       "<table border=\"1\" class=\"dataframe\">\n",
       "  <thead>\n",
       "    <tr style=\"text-align: right;\">\n",
       "      <th></th>\n",
       "      <th>Unnamed: 0</th>\n",
       "      <th>NbLikes</th>\n",
       "    </tr>\n",
       "  </thead>\n",
       "  <tbody>\n",
       "    <tr>\n",
       "      <th>count</th>\n",
       "      <td>13573.000000</td>\n",
       "      <td>13573.000000</td>\n",
       "    </tr>\n",
       "    <tr>\n",
       "      <th>mean</th>\n",
       "      <td>6786.000000</td>\n",
       "      <td>12.055920</td>\n",
       "    </tr>\n",
       "    <tr>\n",
       "      <th>std</th>\n",
       "      <td>3918.331937</td>\n",
       "      <td>148.232954</td>\n",
       "    </tr>\n",
       "    <tr>\n",
       "      <th>min</th>\n",
       "      <td>0.000000</td>\n",
       "      <td>0.000000</td>\n",
       "    </tr>\n",
       "    <tr>\n",
       "      <th>25%</th>\n",
       "      <td>3393.000000</td>\n",
       "      <td>0.000000</td>\n",
       "    </tr>\n",
       "    <tr>\n",
       "      <th>50%</th>\n",
       "      <td>6786.000000</td>\n",
       "      <td>0.000000</td>\n",
       "    </tr>\n",
       "    <tr>\n",
       "      <th>75%</th>\n",
       "      <td>10179.000000</td>\n",
       "      <td>1.000000</td>\n",
       "    </tr>\n",
       "    <tr>\n",
       "      <th>max</th>\n",
       "      <td>13572.000000</td>\n",
       "      <td>9933.000000</td>\n",
       "    </tr>\n",
       "  </tbody>\n",
       "</table>\n",
       "</div>"
      ],
      "text/plain": [
       "         Unnamed: 0       NbLikes\n",
       "count  13573.000000  13573.000000\n",
       "mean    6786.000000     12.055920\n",
       "std     3918.331937    148.232954\n",
       "min        0.000000      0.000000\n",
       "25%     3393.000000      0.000000\n",
       "50%     6786.000000      0.000000\n",
       "75%    10179.000000      1.000000\n",
       "max    13572.000000   9933.000000"
      ]
     },
     "execution_count": 17,
     "metadata": {},
     "output_type": "execute_result"
    }
   ],
   "source": [
    "youtube = pd.read_csv(\"../results/youtube_comments.csv\")\n",
    "youtube.describe()"
   ]
  },
  {
   "cell_type": "code",
   "execution_count": 9,
   "metadata": {},
   "outputs": [],
   "source": [
    "answers = tiktok[tiktok['Is 2nd Level Comment'] == 'Yes'] #sur les +18k commentaires, seulement 155 sont des réponses à un commentaire. Plateforme très peu interactive, très expressive ?"
   ]
  },
  {
   "cell_type": "markdown",
   "metadata": {},
   "source": [
    "# Random sampling"
   ]
  },
  {
   "cell_type": "code",
   "execution_count": 11,
   "metadata": {},
   "outputs": [],
   "source": [
    "sample = tiktok.sample(n=100, replace=False, random_state=42) #replace=False => tirage sans remise."
   ]
  },
  {
   "cell_type": "code",
   "execution_count": 16,
   "metadata": {},
   "outputs": [],
   "source": [
    "sample[\"Comment Text\"].to_csv(\"sampled_comments.csv\")"
   ]
  },
  {
   "cell_type": "markdown",
   "metadata": {},
   "source": [
    "Now doing it with YouTube:"
   ]
  },
  {
   "cell_type": "code",
   "execution_count": 21,
   "metadata": {},
   "outputs": [],
   "source": [
    "yt_sample = youtube.sample(n=100, replace=False, random_state=42)\n",
    "yt_sample[\"Comment\"].to_csv(\"yt_sampled_comments.csv\")"
   ]
  },
  {
   "cell_type": "markdown",
   "metadata": {},
   "source": [
    "Here is how we assess comments to determine wether they are positive, Neutral or Negative.\n",
    "\n",
    "- comments stating \"kamala is brat\", making references to \"apple tree\", \"coconut tree\", coconut emojis, CharliXCX, \"She's so Julia\", \"Ate\", etc. are considered <u>Positive</u>. They are a manifestation of support to the brat summer trend. We estimate that we need to give this context to the model by finetuning it so that it does not unjustfully marks those comments as negative.\n",
    "- comments supporting kamala in a positive fashion are also labeled as <u>Positive</u>.\n",
    "- comments supporting Trump in a peaceful and positive way are labeled Positive\n",
    "- comments attacking kamala or her team are <u>Negative</u>. Even more if they refer to the republicans, to Trump, or to conspiracy theories\n",
    "- conspiracy theories are considered <u>Negative</u>.\n",
    "\n",
    "This will allow us to have more reliable results from the sentiment analysis model. This means that a comment that marked positive is more likely to be either supportive to one of the candidates, or propagating the brat summer trend. On the contrary, a comment coming out \"Negative\" will be more likely to be containing harsh language, reference to conspiracy theories, personal attacks (either on the Democrats or on the Republicans), or references to the bro culture/manosphere..."
   ]
  },
  {
   "cell_type": "markdown",
   "metadata": {},
   "source": []
  }
 ],
 "metadata": {
  "kernelspec": {
   "display_name": "Python 3.12.7 ('venv')",
   "language": "python",
   "name": "python3"
  },
  "language_info": {
   "codemirror_mode": {
    "name": "ipython",
    "version": 3
   },
   "file_extension": ".py",
   "mimetype": "text/x-python",
   "name": "python",
   "nbconvert_exporter": "python",
   "pygments_lexer": "ipython3",
   "version": "3.12.7"
  },
  "orig_nbformat": 4,
  "vscode": {
   "interpreter": {
    "hash": "4dff6d5a207db2a0d221f3b1028f1d86f245e11d9b0d66763e682d9fa3263219"
   }
  }
 },
 "nbformat": 4,
 "nbformat_minor": 2
}
