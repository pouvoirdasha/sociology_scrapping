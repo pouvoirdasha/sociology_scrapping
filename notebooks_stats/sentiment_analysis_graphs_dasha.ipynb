{
 "cells": [
  {
   "cell_type": "code",
   "execution_count": 1,
   "metadata": {},
   "outputs": [],
   "source": [
    "repo_root = \"../\"\n",
    "import sys\n",
    "sys.path.append(repo_root)"
   ]
  },
  {
   "cell_type": "code",
   "execution_count": 2,
   "metadata": {},
   "outputs": [],
   "source": [
    "#imports\n",
    "\n",
    "\n",
    "import pandas as pd \n",
    "import numpy as np \n",
    "import matplotlib.pyplot as plt \n",
    "import seaborn as sns\n",
    "from datetime import datetime\n",
    "from parse_csv_files import parse_tiktok_comments"
   ]
  },
  {
   "cell_type": "markdown",
   "metadata": {},
   "source": [
    "# Tiktok sentiment mean plots"
   ]
  },
  {
   "cell_type": "code",
   "execution_count": 3,
   "metadata": {},
   "outputs": [
    {
     "data": {
      "text/html": [
       "<div>\n",
       "<style scoped>\n",
       "    .dataframe tbody tr th:only-of-type {\n",
       "        vertical-align: middle;\n",
       "    }\n",
       "\n",
       "    .dataframe tbody tr th {\n",
       "        vertical-align: top;\n",
       "    }\n",
       "\n",
       "    .dataframe thead th {\n",
       "        text-align: right;\n",
       "    }\n",
       "</style>\n",
       "<table border=\"1\" class=\"dataframe\">\n",
       "  <thead>\n",
       "    <tr style=\"text-align: right;\">\n",
       "      <th></th>\n",
       "      <th>Unnamed: 0</th>\n",
       "      <th>Comment Number (ID)</th>\n",
       "      <th>Nickname</th>\n",
       "      <th>User @</th>\n",
       "      <th>User URL</th>\n",
       "      <th>Comment Text</th>\n",
       "      <th>Time</th>\n",
       "      <th>Likes</th>\n",
       "      <th>Profile Picture URL</th>\n",
       "      <th>Is 2nd Level Comment</th>\n",
       "      <th>...</th>\n",
       "      <th>difference</th>\n",
       "      <th>publisher</th>\n",
       "      <th>post_likes</th>\n",
       "      <th>post_shares</th>\n",
       "      <th>post_description</th>\n",
       "      <th>date_scraped</th>\n",
       "      <th>join_key</th>\n",
       "      <th>positive</th>\n",
       "      <th>neutral</th>\n",
       "      <th>negative</th>\n",
       "    </tr>\n",
       "  </thead>\n",
       "  <tbody>\n",
       "    <tr>\n",
       "      <th>0</th>\n",
       "      <td>0</td>\n",
       "      <td>1</td>\n",
       "      <td>John Mac</td>\n",
       "      <td>johnm319</td>\n",
       "      <td>https://www.tiktok.com/@johnm319</td>\n",
       "      <td>Chartreuse pls 😭😭😭</td>\n",
       "      <td>2024-07-24</td>\n",
       "      <td>5</td>\n",
       "      <td>https://p16-sign-va.tiktokcdn.com/tos-maliva-a...</td>\n",
       "      <td>No</td>\n",
       "      <td>...</td>\n",
       "      <td>477</td>\n",
       "      <td>jaketapper</td>\n",
       "      <td>94.3K</td>\n",
       "      <td>4913</td>\n",
       "      <td>Crée des effets TikTok, reçois une récompense</td>\n",
       "      <td>2024-11-10</td>\n",
       "      <td>0</td>\n",
       "      <td>0.62</td>\n",
       "      <td>0.17</td>\n",
       "      <td>0.22</td>\n",
       "    </tr>\n",
       "    <tr>\n",
       "      <th>1</th>\n",
       "      <td>1</td>\n",
       "      <td>2</td>\n",
       "      <td>bbbo</td>\n",
       "      <td>shhhleb</td>\n",
       "      <td>https://www.tiktok.com/@shhhleb</td>\n",
       "      <td>watching them explain. I can’t breathe.</td>\n",
       "      <td>2024-07-23</td>\n",
       "      <td>21.7K</td>\n",
       "      <td>https://p16-sign-va.tiktokcdn.com/musically-ma...</td>\n",
       "      <td>No</td>\n",
       "      <td>...</td>\n",
       "      <td>477</td>\n",
       "      <td>jaketapper</td>\n",
       "      <td>94.3K</td>\n",
       "      <td>4913</td>\n",
       "      <td>Crée des effets TikTok, reçois une récompense</td>\n",
       "      <td>2024-11-10</td>\n",
       "      <td>1</td>\n",
       "      <td>0.56</td>\n",
       "      <td>0.17</td>\n",
       "      <td>0.27</td>\n",
       "    </tr>\n",
       "    <tr>\n",
       "      <th>2</th>\n",
       "      <td>2</td>\n",
       "      <td>3</td>\n",
       "      <td>Caroline Tvardy</td>\n",
       "      <td>carolinetvardy6</td>\n",
       "      <td>https://www.tiktok.com/@carolinetvardy6</td>\n",
       "      <td>Our gen z correspondent 😭😭😭😭</td>\n",
       "      <td>2024-07-23</td>\n",
       "      <td>16.5K</td>\n",
       "      <td>https://p16-sign-va.tiktokcdn.com/tos-maliva-a...</td>\n",
       "      <td>No</td>\n",
       "      <td>...</td>\n",
       "      <td>477</td>\n",
       "      <td>jaketapper</td>\n",
       "      <td>94.3K</td>\n",
       "      <td>4913</td>\n",
       "      <td>Crée des effets TikTok, reçois une récompense</td>\n",
       "      <td>2024-11-10</td>\n",
       "      <td>2</td>\n",
       "      <td>0.44</td>\n",
       "      <td>0.16</td>\n",
       "      <td>0.40</td>\n",
       "    </tr>\n",
       "    <tr>\n",
       "      <th>3</th>\n",
       "      <td>3</td>\n",
       "      <td>4</td>\n",
       "      <td>sofia</td>\n",
       "      <td>sofiam444_</td>\n",
       "      <td>https://www.tiktok.com/@sofiam444_</td>\n",
       "      <td>THEY PRINTED IT OUT😭😭😭</td>\n",
       "      <td>2024-07-23</td>\n",
       "      <td>13.2K</td>\n",
       "      <td>https://p16-sign-va.tiktokcdn.com/tos-maliva-a...</td>\n",
       "      <td>No</td>\n",
       "      <td>...</td>\n",
       "      <td>477</td>\n",
       "      <td>jaketapper</td>\n",
       "      <td>94.3K</td>\n",
       "      <td>4913</td>\n",
       "      <td>Crée des effets TikTok, reçois une récompense</td>\n",
       "      <td>2024-11-10</td>\n",
       "      <td>3</td>\n",
       "      <td>0.98</td>\n",
       "      <td>0.01</td>\n",
       "      <td>0.02</td>\n",
       "    </tr>\n",
       "    <tr>\n",
       "      <th>4</th>\n",
       "      <td>4</td>\n",
       "      <td>5</td>\n",
       "      <td>MEAGAN.with.an.A</td>\n",
       "      <td>meagan.with.an.a</td>\n",
       "      <td>https://www.tiktok.com/@meagan.with.an.a</td>\n",
       "      <td>Me, an elder millennial, hearing “she’s brat” ...</td>\n",
       "      <td>2024-07-23</td>\n",
       "      <td>7401</td>\n",
       "      <td>https://p16-sign-va.tiktokcdn.com/tos-maliva-a...</td>\n",
       "      <td>No</td>\n",
       "      <td>...</td>\n",
       "      <td>477</td>\n",
       "      <td>jaketapper</td>\n",
       "      <td>94.3K</td>\n",
       "      <td>4913</td>\n",
       "      <td>Crée des effets TikTok, reçois une récompense</td>\n",
       "      <td>2024-11-10</td>\n",
       "      <td>4</td>\n",
       "      <td>0.16</td>\n",
       "      <td>0.40</td>\n",
       "      <td>0.43</td>\n",
       "    </tr>\n",
       "  </tbody>\n",
       "</table>\n",
       "<p>5 rows × 25 columns</p>\n",
       "</div>"
      ],
      "text/plain": [
       "   Unnamed: 0  Comment Number (ID)          Nickname            User @  \\\n",
       "0           0                    1          John Mac          johnm319   \n",
       "1           1                    2              bbbo           shhhleb   \n",
       "2           2                    3   Caroline Tvardy   carolinetvardy6   \n",
       "3           3                    4             sofia        sofiam444_   \n",
       "4           4                    5  MEAGAN.with.an.A  meagan.with.an.a   \n",
       "\n",
       "                                   User URL  \\\n",
       "0          https://www.tiktok.com/@johnm319   \n",
       "1           https://www.tiktok.com/@shhhleb   \n",
       "2   https://www.tiktok.com/@carolinetvardy6   \n",
       "3        https://www.tiktok.com/@sofiam444_   \n",
       "4  https://www.tiktok.com/@meagan.with.an.a   \n",
       "\n",
       "                                        Comment Text       Time  Likes  \\\n",
       "0                                 Chartreuse pls 😭😭😭 2024-07-24      5   \n",
       "1            watching them explain. I can’t breathe. 2024-07-23  21.7K   \n",
       "2                       Our gen z correspondent 😭😭😭😭 2024-07-23  16.5K   \n",
       "3                             THEY PRINTED IT OUT😭😭😭 2024-07-23  13.2K   \n",
       "4  Me, an elder millennial, hearing “she’s brat” ... 2024-07-23   7401   \n",
       "\n",
       "                                 Profile Picture URL Is 2nd Level Comment  \\\n",
       "0  https://p16-sign-va.tiktokcdn.com/tos-maliva-a...                   No   \n",
       "1  https://p16-sign-va.tiktokcdn.com/musically-ma...                   No   \n",
       "2  https://p16-sign-va.tiktokcdn.com/tos-maliva-a...                   No   \n",
       "3  https://p16-sign-va.tiktokcdn.com/tos-maliva-a...                   No   \n",
       "4  https://p16-sign-va.tiktokcdn.com/tos-maliva-a...                   No   \n",
       "\n",
       "   ... difference   publisher post_likes  post_shares  \\\n",
       "0  ...        477  jaketapper      94.3K         4913   \n",
       "1  ...        477  jaketapper      94.3K         4913   \n",
       "2  ...        477  jaketapper      94.3K         4913   \n",
       "3  ...        477  jaketapper      94.3K         4913   \n",
       "4  ...        477  jaketapper      94.3K         4913   \n",
       "\n",
       "                                post_description  date_scraped join_key  \\\n",
       "0  Crée des effets TikTok, reçois une récompense    2024-11-10        0   \n",
       "1  Crée des effets TikTok, reçois une récompense    2024-11-10        1   \n",
       "2  Crée des effets TikTok, reçois une récompense    2024-11-10        2   \n",
       "3  Crée des effets TikTok, reçois une récompense    2024-11-10        3   \n",
       "4  Crée des effets TikTok, reçois une récompense    2024-11-10        4   \n",
       "\n",
       "  positive neutral negative  \n",
       "0     0.62    0.17     0.22  \n",
       "1     0.56    0.17     0.27  \n",
       "2     0.44    0.16     0.40  \n",
       "3     0.98    0.01     0.02  \n",
       "4     0.16    0.40     0.43  \n",
       "\n",
       "[5 rows x 25 columns]"
      ]
     },
     "execution_count": 3,
     "metadata": {},
     "output_type": "execute_result"
    }
   ],
   "source": [
    "#data imports \n",
    "filename = \"../data/TikTok-with-sentiments_24-11-2024_15h12.csv\"\n",
    "tiktok = parse_tiktok_comments(filename)\n",
    "tiktok.head()\n",
    "\n"
   ]
  },
  {
   "cell_type": "code",
   "execution_count": 6,
   "metadata": {},
   "outputs": [],
   "source": [
    "# contains \n",
    "tiktok['contains_brat'] = tiktok['Comment Text'].str.contains('brat', case = False, regex=True)\n",
    "tiktok['contains_kamala'] = tiktok['Comment Text'].str.contains('kamala', case = False, regex=True)\n",
    "tiktok['contains_trump'] = tiktok['Comment Text'].str.contains('trump', case = False, regex=True)\n",
    "tiktok['contains_politics'] = tiktok['Comment Text'].str.contains('politic', case = False, regex=True)\n",
    "tiktok['contains_democrat']= tiktok['Comment Text'].str.contains('democrat', case = False, regex=True)\n",
    "tiktok['contains_republican'] = tiktok['Comment Text'].str.contains('republican', case = False, regex=True)\n",
    "\n",
    "# politics\n",
    "tiktok['contains_registration'] = tiktok['Comment Text'].str.contains('registration', case = False, regex=True)\n",
    "tiktok['contains_vote'] = tiktok['Comment Text'].str.contains('vote', case = False, regex=True)\n",
    "tiktok['contains_election'] = tiktok['Comment Text'].str.contains('election', case = False, regex=True)\n",
    "tiktok['contains_donation'] = tiktok['Comment Text'].str.contains('donation', case = False, regex=True)\n",
    "tiktok['contains_pres'] = tiktok['Comment Text'].str.contains('president', case = False, regex=True)\n",
    "\n",
    "\n",
    "#Israel / Palestine \n",
    "tiktok['contains_isr'] = tiktok['Comment Text'].str.contains('Israel', case = False, regex=True)\n",
    "tiktok['contains_pal'] = tiktok['Comment Text'].str.contains('Palestine', case = False, regex=True)\n",
    "tiktok['contains_gaza'] = tiktok['Comment Text'].str.contains('Gaza', case = False, regex=True)\n"
   ]
  },
  {
   "cell_type": "code",
   "execution_count": 5,
   "metadata": {},
   "outputs": [],
   "source": [
    "videos_list = tiktok['post_url'].value_counts().index\n",
    "renaming_posts = {}\n",
    "for i,video in enumerate(list(videos_list)):\n",
    "    renaming_posts[video] = \"Post \" + chr(ord('A')+i)\n",
    "tiktok['post_name'] = tiktok['post_url'].replace(renaming_posts)\n",
    "#end exporting the correspondance to csv file between post and urls (for simplification of read)\n",
    "renaming_table = pd.DataFrame(list(renaming_posts.items()), columns=['post_url', 'post_name'])"
   ]
  },
  {
   "cell_type": "code",
   "execution_count": 13,
   "metadata": {},
   "outputs": [
    {
     "data": {
      "text/plain": [
       "(0.0, 1.0)"
      ]
     },
     "execution_count": 13,
     "metadata": {},
     "output_type": "execute_result"
    },
    {
     "data": {
      "image/png": "[encoded data removed]",
      "text/plain": [
       "<Figure size 400x300 with 1 Axes>"
      ]
     },
     "metadata": {},
     "output_type": "display_data"
    }
   ],
   "source": [
    "tiktok_cont_pres = tiktok[tiktok['contains_pres']==True]\n",
    "mean_scores = tiktok_cont_pres[[\"positive\", \"negative\", \"neutral\"]].mean()\n",
    "base_color = \"#8ACE00\"\n",
    "palette = sns.light_palette(base_color, n_colors=3, reverse=True)\n",
    "\n",
    "# Plot the means\n",
    "plt.figure(figsize=(4, 3))\n",
    "plt.bar(mean_scores.index, mean_scores, color=palette, width=0.6)\n",
    "plt.title(\"Mean Sentiment Scores (Filtered by 'president')\", fontsize=16)\n",
    "plt.ylabel(\"Mean Score\", fontsize=14)\n",
    "plt.xticks(fontsize=12)\n",
    "plt.ylim(0, 1)"
   ]
  },
  {
   "cell_type": "code",
   "execution_count": 12,
   "metadata": {},
   "outputs": [
    {
     "data": {
      "text/plain": [
       "(0.0, 1.0)"
      ]
     },
     "execution_count": 12,
     "metadata": {},
     "output_type": "execute_result"
    },
    {
     "data": {
      "image/png": "[encoded data removed]",
      "text/plain": [
       "<Figure size 800x500 with 1 Axes>"
      ]
     },
     "metadata": {},
     "output_type": "display_data"
    }
   ],
   "source": [
    "tiktok_cont_vote = tiktok[tiktok['contains_vote']==True]\n",
    "mean_scores_vote = tiktok_cont_vote[[\"positive\", \"negative\", \"neutral\"]].mean()\n",
    "\n",
    "# Plot the means\n",
    "plt.figure(figsize=(8, 5))\n",
    "plt.bar(mean_scores_vote.index, mean_scores_vote, color=palette, width=0.6)\n",
    "plt.title(\"Mean Sentiment Scores (Filtered by 'vote')\", fontsize=16)\n",
    "plt.ylabel(\"Mean Score\", fontsize=14)\n",
    "plt.xticks(fontsize=12)\n",
    "plt.ylim(0, 1)"
   ]
  },
  {
   "cell_type": "code",
   "execution_count": 19,
   "metadata": {},
   "outputs": [
    {
     "data": {
      "text/plain": [
       "(0.0, 1.0)"
      ]
     },
     "execution_count": 19,
     "metadata": {},
     "output_type": "execute_result"
    },
    {
     "data": {
      "image/png": "[encoded data removed]",
      "text/plain": [
       "<Figure size 800x500 with 1 Axes>"
      ]
     },
     "metadata": {},
     "output_type": "display_data"
    }
   ],
   "source": [
    "tiktok_cont_kam =tiktok[tiktok['contains_kamala']==True]\n",
    "mean_scores_kam = tiktok_cont_kam[[\"positive\", \"negative\", \"neutral\"]].mean()\n",
    "palette_black =  sns.light_palette(\"black\", n_colors=3, reverse=True)\n",
    "# Plot the means\n",
    "plt.figure(figsize=(8, 5))\n",
    "plt.bar(mean_scores_kam.index, mean_scores_kam, color=palette_black, width=0.6)\n",
    "plt.title(\"Mean Sentiment Scores (Filtered by 'Kamala')\", fontsize=16)\n",
    "plt.ylabel(\"Mean Score\", fontsize=12)\n",
    "plt.xticks(fontsize=12)\n",
    "plt.ylim(0, 1)"
   ]
  },
  {
   "cell_type": "markdown",
   "metadata": {},
   "source": [
    "# YouTube sentiment mean plots"
   ]
  },
  {
   "cell_type": "code",
   "execution_count": 20,
   "metadata": {},
   "outputs": [
    {
     "data": {
      "text/html": [
       "<div>\n",
       "<style scoped>\n",
       "    .dataframe tbody tr th:only-of-type {\n",
       "        vertical-align: middle;\n",
       "    }\n",
       "\n",
       "    .dataframe tbody tr th {\n",
       "        vertical-align: top;\n",
       "    }\n",
       "\n",
       "    .dataframe thead th {\n",
       "        text-align: right;\n",
       "    }\n",
       "</style>\n",
       "<table border=\"1\" class=\"dataframe\">\n",
       "  <thead>\n",
       "    <tr style=\"text-align: right;\">\n",
       "      <th></th>\n",
       "      <th>Unnamed: 0.1</th>\n",
       "      <th>Unnamed: 0</th>\n",
       "      <th>Timestamp</th>\n",
       "      <th>Username</th>\n",
       "      <th>VideoID</th>\n",
       "      <th>Comment</th>\n",
       "      <th>Date</th>\n",
       "      <th>Modified</th>\n",
       "      <th>NbLikes</th>\n",
       "      <th>join_key</th>\n",
       "      <th>positive</th>\n",
       "      <th>neutral</th>\n",
       "      <th>negative</th>\n",
       "    </tr>\n",
       "  </thead>\n",
       "  <tbody>\n",
       "    <tr>\n",
       "      <th>0</th>\n",
       "      <td>0</td>\n",
       "      <td>0</td>\n",
       "      <td>2024-11-04T16:26:49Z</td>\n",
       "      <td>@st8275</td>\n",
       "      <td>Js4qqwdjA9M</td>\n",
       "      <td>Dufus-in-chief</td>\n",
       "      <td>2024-11-04T16:26:49Z</td>\n",
       "      <td>True</td>\n",
       "      <td>1</td>\n",
       "      <td>0</td>\n",
       "      <td>0.61</td>\n",
       "      <td>0.27</td>\n",
       "      <td>0.12</td>\n",
       "    </tr>\n",
       "    <tr>\n",
       "      <th>1</th>\n",
       "      <td>1</td>\n",
       "      <td>1</td>\n",
       "      <td>2024-11-04T14:11:51Z</td>\n",
       "      <td>@comingforya690</td>\n",
       "      <td>Js4qqwdjA9M</td>\n",
       "      <td>I thought the liberals hate the rich? Lmfao th...</td>\n",
       "      <td>2024-11-04T14:11:51Z</td>\n",
       "      <td>True</td>\n",
       "      <td>0</td>\n",
       "      <td>1</td>\n",
       "      <td>0.10</td>\n",
       "      <td>0.10</td>\n",
       "      <td>0.80</td>\n",
       "    </tr>\n",
       "    <tr>\n",
       "      <th>2</th>\n",
       "      <td>2</td>\n",
       "      <td>2</td>\n",
       "      <td>2024-11-04T12:59:38Z</td>\n",
       "      <td>@2ndhk552</td>\n",
       "      <td>Js4qqwdjA9M</td>\n",
       "      <td>Who gives af</td>\n",
       "      <td>2024-11-04T12:59:38Z</td>\n",
       "      <td>True</td>\n",
       "      <td>0</td>\n",
       "      <td>2</td>\n",
       "      <td>0.11</td>\n",
       "      <td>0.14</td>\n",
       "      <td>0.76</td>\n",
       "    </tr>\n",
       "    <tr>\n",
       "      <th>3</th>\n",
       "      <td>3</td>\n",
       "      <td>3</td>\n",
       "      <td>2024-11-04T03:08:23Z</td>\n",
       "      <td>@___KPR</td>\n",
       "      <td>Js4qqwdjA9M</td>\n",
       "      <td>No babe we don’t need your opinion babe. Trump...</td>\n",
       "      <td>2024-11-04T03:08:23Z</td>\n",
       "      <td>True</td>\n",
       "      <td>0</td>\n",
       "      <td>3</td>\n",
       "      <td>0.68</td>\n",
       "      <td>0.28</td>\n",
       "      <td>0.04</td>\n",
       "    </tr>\n",
       "    <tr>\n",
       "      <th>4</th>\n",
       "      <td>4</td>\n",
       "      <td>4</td>\n",
       "      <td>2024-11-02T20:11:12Z</td>\n",
       "      <td>@cynthiabarrow509</td>\n",
       "      <td>Js4qqwdjA9M</td>\n",
       "      <td>Yeah this will sway the vote</td>\n",
       "      <td>2024-11-02T20:11:12Z</td>\n",
       "      <td>True</td>\n",
       "      <td>0</td>\n",
       "      <td>4</td>\n",
       "      <td>0.94</td>\n",
       "      <td>0.03</td>\n",
       "      <td>0.03</td>\n",
       "    </tr>\n",
       "  </tbody>\n",
       "</table>\n",
       "</div>"
      ],
      "text/plain": [
       "   Unnamed: 0.1  Unnamed: 0             Timestamp           Username  \\\n",
       "0             0           0  2024-11-04T16:26:49Z            @st8275   \n",
       "1             1           1  2024-11-04T14:11:51Z    @comingforya690   \n",
       "2             2           2  2024-11-04T12:59:38Z          @2ndhk552   \n",
       "3             3           3  2024-11-04T03:08:23Z            @___KPR   \n",
       "4             4           4  2024-11-02T20:11:12Z  @cynthiabarrow509   \n",
       "\n",
       "       VideoID                                            Comment  \\\n",
       "0  Js4qqwdjA9M                                     Dufus-in-chief   \n",
       "1  Js4qqwdjA9M  I thought the liberals hate the rich? Lmfao th...   \n",
       "2  Js4qqwdjA9M                                       Who gives af   \n",
       "3  Js4qqwdjA9M  No babe we don’t need your opinion babe. Trump...   \n",
       "4  Js4qqwdjA9M                       Yeah this will sway the vote   \n",
       "\n",
       "                   Date  Modified  NbLikes  join_key  positive  neutral  \\\n",
       "0  2024-11-04T16:26:49Z      True        1         0      0.61     0.27   \n",
       "1  2024-11-04T14:11:51Z      True        0         1      0.10     0.10   \n",
       "2  2024-11-04T12:59:38Z      True        0         2      0.11     0.14   \n",
       "3  2024-11-04T03:08:23Z      True        0         3      0.68     0.28   \n",
       "4  2024-11-02T20:11:12Z      True        0         4      0.94     0.03   \n",
       "\n",
       "   negative  \n",
       "0      0.12  \n",
       "1      0.80  \n",
       "2      0.76  \n",
       "3      0.04  \n",
       "4      0.03  "
      ]
     },
     "execution_count": 20,
     "metadata": {},
     "output_type": "execute_result"
    }
   ],
   "source": [
    "#YOUTUBE \n",
    "filename = \"../data/YouTube-with-sentiments_24-11-2024_15h52.csv\"\n",
    "youtube = pd.read_csv(filename)\n",
    "youtube.head()"
   ]
  },
  {
   "cell_type": "code",
   "execution_count": 21,
   "metadata": {},
   "outputs": [
    {
     "data": {
      "text/plain": [
       "\"\\n# politics\\ntiktok['contains_registration'] = tiktok['Comment Text'].str.contains('registration', case = False, regex=True)\\ntiktok['contains_vote'] = tiktok['Comment Text'].str.contains('vote', case = False, regex=True)\\ntiktok['contains_election'] = tiktok['Comment Text'].str.contains('election', case = False, regex=True)\\ntiktok['contains_donation'] = tiktok['Comment Text'].str.contains('donation', case = False, regex=True)\\ntiktok['contains_pres'] = tiktok['Comment Text'].str.contains('president', case = False, regex=True)\\n\\n\\n#Israel / Palestine \\ntiktok['contains_isr'] = tiktok['Comment Text'].str.contains('Israel', case = False, regex=True)\\ntiktok['contains_pal'] = tiktok['Comment Text'].str.contains('Palestine', case = False, regex=True)\\ntiktok['contains_gaza'] = tiktok['Comment Text'].str.contains('Gaza', case = False, regex=True)\\n\""
      ]
     },
     "execution_count": 21,
     "metadata": {},
     "output_type": "execute_result"
    }
   ],
   "source": [
    "youtube['contains_kamala'] = youtube['Comment'].str.contains('kamala', case = False, regex=True)\n",
    "youtube['contains_trump'] = youtube['Comment'].str.contains('trump', case = False, regex=True)\n",
    "youtube['contains_politics'] = youtube['Comment'].str.contains('politic', case = False, regex=True)\n",
    "youtube['contains_democrat']= youtube['Comment'].str.contains('democrat', case = False, regex=True)\n",
    "youtube['contains_republican'] = youtube['Comment'].str.contains('republican', case = False, regex=True)\n",
    "\n",
    "\"\"\"\n",
    "# politics\n",
    "tiktok['contains_registration'] = tiktok['Comment Text'].str.contains('registration', case = False, regex=True)\n",
    "tiktok['contains_vote'] = tiktok['Comment Text'].str.contains('vote', case = False, regex=True)\n",
    "tiktok['contains_election'] = tiktok['Comment Text'].str.contains('election', case = False, regex=True)\n",
    "tiktok['contains_donation'] = tiktok['Comment Text'].str.contains('donation', case = False, regex=True)\n",
    "tiktok['contains_pres'] = tiktok['Comment Text'].str.contains('president', case = False, regex=True)\n",
    "\n",
    "\n",
    "#Israel / Palestine \n",
    "tiktok['contains_isr'] = tiktok['Comment Text'].str.contains('Israel', case = False, regex=True)\n",
    "tiktok['contains_pal'] = tiktok['Comment Text'].str.contains('Palestine', case = False, regex=True)\n",
    "tiktok['contains_gaza'] = tiktok['Comment Text'].str.contains('Gaza', case = False, regex=True)\n",
    "\"\"\""
   ]
  },
  {
   "cell_type": "code",
   "execution_count": 22,
   "metadata": {},
   "outputs": [
    {
     "data": {
      "text/plain": [
       "(0.0, 1.0)"
      ]
     },
     "execution_count": 22,
     "metadata": {},
     "output_type": "execute_result"
    },
    {
     "data": {
      "image/png": "[encoded data removed]",
      "text/plain": [
       "<Figure size 800x500 with 1 Axes>"
      ]
     },
     "metadata": {},
     "output_type": "display_data"
    }
   ],
   "source": [
    "youtube_cont_kam =youtube[youtube['contains_kamala']==True]\n",
    "mean_scores_kam_yt = youtube_cont_kam[[\"positive\", \"negative\", \"neutral\"]].mean()\n",
    "\n",
    "# Plot the means\n",
    "plt.figure(figsize=(8, 5))\n",
    "plt.bar(mean_scores_kam_yt.index, mean_scores_kam_yt, color=palette, width=0.6)\n",
    "plt.title(\"Mean Sentiment Scores (Filtered by 'Kamala')\", fontsize=16)\n",
    "plt.ylabel(\"Mean Score\", fontsize=12)\n",
    "plt.xticks(fontsize=12)\n",
    "plt.ylim(0, 1)"
   ]
  }
 ],
 "metadata": {
  "kernelspec": {
   "display_name": ".venv",
   "language": "python",
   "name": "python3"
  },
  "language_info": {
   "codemirror_mode": {
    "name": "ipython",
    "version": 3
   },
   "file_extension": ".py",
   "mimetype": "text/x-python",
   "name": "python",
   "nbconvert_exporter": "python",
   "pygments_lexer": "ipython3",
   "version": "3.11.2"
  }
 },
 "nbformat": 4,
 "nbformat_minor": 2
}
